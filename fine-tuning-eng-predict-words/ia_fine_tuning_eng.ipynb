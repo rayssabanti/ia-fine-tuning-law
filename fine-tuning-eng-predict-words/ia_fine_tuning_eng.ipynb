{
  "cells": [
    {
      "cell_type": "markdown",
      "metadata": {
        "id": "view-in-github",
        "colab_type": "text"
      },
      "source": [
        "<a href=\"https://colab.research.google.com/github/rayssabanti/ia-fine-tuning-law/blob/main/ia_fine_tuning_eng.ipynb\" target=\"_parent\"><img src=\"https://colab.research.google.com/assets/colab-badge.svg\" alt=\"Open In Colab\"/></a>"
      ]
    },
    {
      "cell_type": "markdown",
      "metadata": {
        "id": "JvTlUhSRMjfP"
      },
      "source": [
        "# AI Applied to Law"
      ]
    },
    {
      "cell_type": "markdown",
      "source": [
        "## Goal\n",
        "Perform Fine-Tuning of a language model to make text predictions from Web Scraping of legal texts."
      ],
      "metadata": {
        "id": "cBCx8LSzhM3Q"
      }
    },
    {
      "cell_type": "code",
      "source": [
        "from platform import python_version"
      ],
      "metadata": {
        "id": "8BDrUOyyhU-2"
      },
      "execution_count": 71,
      "outputs": []
    },
    {
      "cell_type": "markdown",
      "source": [
        "## Pips"
      ],
      "metadata": {
        "id": "YT3fpUDumxpG"
      }
    },
    {
      "cell_type": "code",
      "source": [
        "!pip install -q -U watermark #versionamento de dependencias"
      ],
      "metadata": {
        "id": "XytaoUCQiIfw",
        "colab": {
          "base_uri": "https://localhost:8080/"
        },
        "outputId": "9cbcb05a-05e1-4077-930d-e256dcb58895"
      },
      "execution_count": 2,
      "outputs": [
        {
          "output_type": "stream",
          "name": "stdout",
          "text": [
            "\u001b[?25l     \u001b[90m━━━━━━━━━━━━━━━━━━━━━━━━━━━━━━━━━━━━━━━━\u001b[0m \u001b[32m0.0/1.6 MB\u001b[0m \u001b[31m?\u001b[0m eta \u001b[36m-:--:--\u001b[0m\r\u001b[2K     \u001b[91m━━━━━━\u001b[0m\u001b[90m╺\u001b[0m\u001b[90m━━━━━━━━━━━━━━━━━━━━━━━━━━━━━━━━━\u001b[0m \u001b[32m0.2/1.6 MB\u001b[0m \u001b[31m7.1 MB/s\u001b[0m eta \u001b[36m0:00:01\u001b[0m\r\u001b[2K     \u001b[91m━━━━━━━━━━━━━━━━━━━\u001b[0m\u001b[90m╺\u001b[0m\u001b[90m━━━━━━━━━━━━━━━━━━━━\u001b[0m \u001b[32m0.8/1.6 MB\u001b[0m \u001b[31m11.1 MB/s\u001b[0m eta \u001b[36m0:00:01\u001b[0m\r\u001b[2K     \u001b[91m━━━━━━━━━━━━━━━━━━━━━━━━━━━━━━━━━━━━━━\u001b[0m\u001b[91m╸\u001b[0m\u001b[90m━\u001b[0m \u001b[32m1.5/1.6 MB\u001b[0m \u001b[31m14.9 MB/s\u001b[0m eta \u001b[36m0:00:01\u001b[0m\r\u001b[2K     \u001b[90m━━━━━━━━━━━━━━━━━━━━━━━━━━━━━━━━━━━━━━━━\u001b[0m \u001b[32m1.6/1.6 MB\u001b[0m \u001b[31m13.3 MB/s\u001b[0m eta \u001b[36m0:00:00\u001b[0m\n",
            "\u001b[?25h"
          ]
        }
      ]
    },
    {
      "cell_type": "code",
      "execution_count": 3,
      "metadata": {
        "id": "bDnrm09PH2vN"
      },
      "outputs": [],
      "source": [
        "!pip install -q torch"
      ]
    },
    {
      "cell_type": "code",
      "execution_count": 4,
      "metadata": {
        "id": "EiLRp4W_MjfS",
        "colab": {
          "base_uri": "https://localhost:8080/"
        },
        "outputId": "6e2cc286-c253-44d6-c453-8c407f598eef"
      },
      "outputs": [
        {
          "output_type": "stream",
          "name": "stdout",
          "text": [
            "\u001b[2K     \u001b[90m━━━━━━━━━━━━━━━━━━━━━━━━━━━━━━━━━━━━━━━━\u001b[0m \u001b[32m7.5/7.5 MB\u001b[0m \u001b[31m30.0 MB/s\u001b[0m eta \u001b[36m0:00:00\u001b[0m\n",
            "\u001b[2K     \u001b[90m━━━━━━━━━━━━━━━━━━━━━━━━━━━━━━━━━━━━━━\u001b[0m \u001b[32m294.9/294.9 kB\u001b[0m \u001b[31m29.3 MB/s\u001b[0m eta \u001b[36m0:00:00\u001b[0m\n",
            "\u001b[2K     \u001b[90m━━━━━━━━━━━━━━━━━━━━━━━━━━━━━━━━━━━━━━━━\u001b[0m \u001b[32m7.8/7.8 MB\u001b[0m \u001b[31m78.4 MB/s\u001b[0m eta \u001b[36m0:00:00\u001b[0m\n",
            "\u001b[2K     \u001b[90m━━━━━━━━━━━━━━━━━━━━━━━━━━━━━━━━━━━━━━━━\u001b[0m \u001b[32m1.3/1.3 MB\u001b[0m \u001b[31m81.5 MB/s\u001b[0m eta \u001b[36m0:00:00\u001b[0m\n",
            "\u001b[?25h"
          ]
        }
      ],
      "source": [
        "!pip install -q transformers==4.32.1"
      ]
    },
    {
      "cell_type": "code",
      "execution_count": 5,
      "metadata": {
        "id": "gLug0rAgj7so",
        "colab": {
          "base_uri": "https://localhost:8080/"
        },
        "outputId": "863b7a2d-0270-4a1b-95e6-acbcf9296bd0"
      },
      "outputs": [
        {
          "output_type": "stream",
          "name": "stdout",
          "text": [
            "\u001b[2K     \u001b[90m━━━━━━━━━━━━━━━━━━━━━━━━━━━━━━━━━━━━━━━\u001b[0m \u001b[32m519.6/519.6 kB\u001b[0m \u001b[31m8.3 MB/s\u001b[0m eta \u001b[36m0:00:00\u001b[0m\n",
            "\u001b[2K     \u001b[90m━━━━━━━━━━━━━━━━━━━━━━━━━━━━━━━━━━━━━━━\u001b[0m \u001b[32m115.3/115.3 kB\u001b[0m \u001b[31m9.1 MB/s\u001b[0m eta \u001b[36m0:00:00\u001b[0m\n",
            "\u001b[2K     \u001b[90m━━━━━━━━━━━━━━━━━━━━━━━━━━━━━━━━━━━━━━\u001b[0m \u001b[32m194.1/194.1 kB\u001b[0m \u001b[31m12.5 MB/s\u001b[0m eta \u001b[36m0:00:00\u001b[0m\n",
            "\u001b[2K     \u001b[90m━━━━━━━━━━━━━━━━━━━━━━━━━━━━━━━━━━━━━━\u001b[0m \u001b[32m134.8/134.8 kB\u001b[0m \u001b[31m10.7 MB/s\u001b[0m eta \u001b[36m0:00:00\u001b[0m\n",
            "\u001b[?25h"
          ]
        }
      ],
      "source": [
        "!pip install -q datasets"
      ]
    },
    {
      "cell_type": "markdown",
      "source": [
        "### Imports"
      ],
      "metadata": {
        "id": "_JfrI3q5iw_k"
      }
    },
    {
      "cell_type": "code",
      "execution_count": 72,
      "metadata": {
        "id": "bIwJorALj7so"
      },
      "outputs": [],
      "source": [
        "import re\n",
        "import bs4 #pacote python para raspagem de dados\n",
        "import torch #modelo prétreinado\n",
        "import random\n",
        "import requests\n",
        "import transformers #hugging\n",
        "from tqdm import tqdm # barra de progressão\n",
        "from bs4 import BeautifulSoup\n",
        "from torch.utils.data import DataLoader\n",
        "from datasets import load_dataset, Dataset\n",
        "from transformers import AutoModelForMaskedLM, AutoTokenizer, BertForQuestionAnswering\n",
        "from transformers import pipeline"
      ]
    },
    {
      "cell_type": "markdown",
      "source": [
        "### Dependências"
      ],
      "metadata": {
        "id": "M2eVfe01jU3O"
      }
    },
    {
      "cell_type": "code",
      "source": [
        "%reload_ext watermark\n",
        "%watermark -a \"Ray\" --iversions\n"
      ],
      "metadata": {
        "colab": {
          "base_uri": "https://localhost:8080/"
        },
        "id": "rRob5Oo_i6zp",
        "outputId": "b5564cfb-c5aa-4457-9112-0d2037e6cbfe"
      },
      "execution_count": 7,
      "outputs": [
        {
          "output_type": "stream",
          "name": "stdout",
          "text": [
            "Author: Ray\n",
            "\n",
            "requests    : 2.31.0\n",
            "transformers: 4.32.1\n",
            "torch       : 2.0.1+cu118\n",
            "re          : 2.2.1\n",
            "bs4         : 4.11.2\n",
            "\n"
          ]
        }
      ]
    },
    {
      "cell_type": "markdown",
      "metadata": {
        "id": "8PurYbSyJ0ra"
      },
      "source": [
        "## Device"
      ]
    },
    {
      "cell_type": "markdown",
      "source": [
        "Hardware used to run the code:"
      ],
      "metadata": {
        "id": "A8PboO1ejgmi"
      }
    },
    {
      "cell_type": "code",
      "execution_count": 8,
      "metadata": {
        "id": "5_ALXGWdJzC6",
        "colab": {
          "base_uri": "https://localhost:8080/"
        },
        "outputId": "11404c9b-6055-461f-b5a8-4701520c35e5"
      },
      "outputs": [
        {
          "output_type": "execute_result",
          "data": {
            "text/plain": [
              "device(type='cuda')"
            ]
          },
          "metadata": {},
          "execution_count": 8
        }
      ],
      "source": [
        "device = torch.device('cuda') if torch.cuda.is_available() else torch.device('cpu')\n",
        "device"
      ]
    },
    {
      "cell_type": "code",
      "source": [
        "if torch.cuda.is_available():\n",
        "    print('GPU:', torch.cuda.device_count())\n",
        "    print('GPU Model:',torch.cuda.get_device_name(0))\n",
        "    print('GPU Memory:',torch.cuda.get_device_properties(0).total_memory/1e9)"
      ],
      "metadata": {
        "colab": {
          "base_uri": "https://localhost:8080/"
        },
        "id": "GtdKmPhIjfmS",
        "outputId": "59b40fdb-115f-4778-8ce0-bd8d17348c16"
      },
      "execution_count": 9,
      "outputs": [
        {
          "output_type": "stream",
          "name": "stdout",
          "text": [
            "GPU: 1\n",
            "GPU Model: Tesla V100-SXM2-16GB\n",
            "GPU Memory: 16.935419904\n"
          ]
        }
      ]
    },
    {
      "cell_type": "markdown",
      "metadata": {
        "id": "3Xd0aR6iI5Ae"
      },
      "source": [
        "## Web Scraping of Legal Texts"
      ]
    },
    {
      "cell_type": "markdown",
      "metadata": {
        "id": "CohmhiVoMjfT"
      },
      "source": [
        "check robots.txt ==   https://www.uol.com.br/robots.txt\n",
        "\n",
        "\n",
        "\n",
        "\n",
        "\n"
      ]
    },
    {
      "cell_type": "code",
      "execution_count": 11,
      "metadata": {
        "id": "VKfKjeWhnAq-"
      },
      "outputs": [],
      "source": [
        "# Scraping\n",
        "# List\n",
        "textos_juridicos = []\n",
        "\n",
        "# Loop\n",
        "for url in [\"https://en.wikipedia.org/wiki/Justice\",\n",
        "            \"https://en.wikipedia.org/wiki/Sentence_(law)\",\n",
        "            \"https://en.wikipedia.org/wiki/Law\",\n",
        "            \"https://en.wikipedia.org/wiki/Federation\",\n",
        "            \"https://en.wikipedia.org/wiki/Trial\"]:\n",
        "\n",
        "    resp = requests.get(url)\n",
        "\n",
        "    soup = BeautifulSoup(resp.text, 'html.parser')\n",
        "\n",
        "    for para in soup.find_all('p'):\n",
        "        textos_juridicos.append(para.text)"
      ]
    },
    {
      "cell_type": "code",
      "execution_count": 12,
      "metadata": {
        "id": "tDkWka4nMjfU"
      },
      "outputs": [],
      "source": [
        "docs = textos_juridicos"
      ]
    },
    {
      "cell_type": "code",
      "execution_count": 13,
      "metadata": {
        "id": "s4reDQ2ej7sp",
        "colab": {
          "base_uri": "https://localhost:8080/"
        },
        "outputId": "7e55dd43-4553-41a1-b404-ebb6411a9f30"
      },
      "outputs": [
        {
          "output_type": "execute_result",
          "data": {
            "text/plain": [
              "['\\n',\n",
              " 'Justice, in its broadest sense, is the concept that individuals are to be treated in a manner that is equitable and fair.[1]\\n',\n",
              " 'To achieve justice, individuals should receive that which they deserve, with the interpretation of what \"deserve\" means, in turn, drawing on numerous viewpoints and perspectives, including fields like ethics, rationality, law, religion, equity and fairness. The state may be said to pursue justice by operating courts and enforcing their rulings.\\n',\n",
              " 'A variety of philosophical and moral theories have been advanced to inform understanding of justice.\\n',\n",
              " 'Early theories of justice were set out by the Ancient Greek philosophers Plato, in his work The Republic, and Aristotle, in his Nicomachean Ethics and Politics. \\n',\n",
              " 'Religious explanations of the justice can be grouped under divine command theory, which holds that justice issues from God.[2]\\n',\n",
              " 'Western thinkers later advanced different theories of where foundations of justice lie.  In the 17th century, philosophers such as John Locke said justice derives from natural law. Social contract theory, advocated by  thinkers such as Jean-Jacques Rousseau said that justice derives from the mutual agreement of members of society to be governed in a political order. In the 19th century, utilitarian philosophers such as John Stuart Mill said that justice is served by what creates the best outcomes for the greatest number of people.\\n',\n",
              " 'Modern frameworks include concepts such as distributive justice, egalitarianism, retributive justice, and restorative justice.  Distributive justice considers what is fair based on what goods are to be distributed, between whom they are to be distributed, and what is the proper distribution. Egalitarians suggest justice can only exist within the coordinates of equality. Theories of retributive justice say justice is served by punishing wrongdoers, whereas restorative justice (also sometimes called \"reparative justice\") is an approach to justice that focuses on the needs of victims and offenders.\\n',\n",
              " 'Justice, according to Plato, is about balance and harmony. It represents the right relationship between conflicting aspects within an individual or a community. He defines justice as everyone having and doing what they are responsible for or what belongs to them. In other words, a just person is someone who contributes to society according to their unique abilities and receives what is proportionate to their contribution. They are in the right place, always striving to do their best, and reciprocating what they receive in a fair and equitable manner. This applies both at the individual level and at the organizational and societal levels.[3]\\n',\n",
              " \"To illustrate these ideas, Plato describes a person's as having three parts: reason, spirit, and desire. These parallel the three parts of a city in his philosophy, which he describes through the metaphor of a chariot: it functions effectively when the charioteer, representative of reason, successfully controls the two horses, symbolizing spirit and desire. Continuing on these themes, Plato theorizes that those who love wisdom, or philosophers, are the most ideal to govern because only they truly comprehend the nature of the good. Just like one would seek a doctor's expertise in matters of health rather than a farmer's, so should the city entrust its governance to someone knowledgeable about the good, rather than to politicians who might prioritize power over people's genuine needs. Socrates later used the parable of the ship to illustrate this point: the unjust city is like a ship in open ocean, crewed by a powerful but drunken captain (the common people), a group of untrustworthy advisors who try to manipulate the captain into giving them power over the ship's course (the politicians), and a navigator (the philosopher), the latter of whom being the only one who knows how to get the ship to port.[4]\\n\",\n",
              " \"Advocates of divine command theory say justice, and indeed the whole of morality, is the authoritative command of God. Murder is wrong and must be punished, for instance, because God says it so. Some versions of the theory assert that God must be obeyed because of the nature of God's relationship with humanity, others assert that God must be obeyed because God is goodness itself, and thus doing God's command would be best for everyone.\\n\",\n",
              " 'An early meditation on the divine command theory by Plato can be found in his dialogue, Euthyphro. Called the Euthyphro dilemma, it goes as follows: \"Is what is morally good commanded by  the gods because it is morally good, or is it morally good because it is commanded by the gods?\" The implication is that if the latter is true, then justice is beyond mortal understanding; if the former is true, then morality exists independently from the gods, and is therefore subject to the judgment of mortals. A response, popularized in two contexts by Immanuel Kant and C. S. Lewis, is that it is deductively valid to say that the existence of an objective morality implies the existence of God and vice versa.\\n',\n",
              " \"Jews, Christians, and Muslims traditionally believe that justice is a present, real, right, and, specifically, governing concept along with mercy, and that justice is ultimately derived from and held by God. According to the Bible, such institutions as the Mosaic Law were created by God to require the Israelites to live by and apply God's standards of justice.\\n\",\n",
              " 'The Hebrew Bible describes God as saying about the Judeo-Christian patriarch Abraham: \"No, for I have chosen him, that he may charge his children and his household after him to keep the way of the Lord by doing righteousness and justice;....\" (Genesis 18:19, NRSV). The Psalmist describes God as having \"Righteousness and justice [as] the foundation of [His] throne;....\" (Psalms 89:14, NRSV).\\n',\n",
              " 'The New Testament also describes God and Jesus Christ as having and displaying justice, often in comparison with God displaying and supporting mercy (Matthew 5:7).\\n',\n",
              " 'For advocates of the theory that justice is part of natural law (e.g., John Locke), justice inheres in the nature of man.[6]\\n',\n",
              " 'In Republic by Plato, the character Thrasymachus argues that justice is the interest of the strong\\xa0– merely a name for what the powerful or cunning ruler has imposed on the people.\\n',\n",
              " \"Advocates of the social contract say that justice is derived from the mutual agreement of everyone; or, in many versions, from what they would agree to under hypothetical conditions including equality and absence of bias. This account is considered further below, under 'Justice as Fairness'. The absence of bias refers to an equal ground for all people involved in a disagreement (or trial in some cases).[citation needed]\\n\",\n",
              " \"According to utilitarian thinkers including John Stuart Mill, justice is not as fundamental as we often think. Rather, it is derived from the more basic standard of rightness, consequentialism: what is right is what has the best consequences (usually measured by the total or average welfare caused). So, the proper principles of justice are those that tend to have the best consequences. These rules may turn out to be familiar ones such as keeping contracts; but equally, they may not, depending on the facts about real consequences. Either way, what is important is those consequences, and justice is important, if at all, only as derived from that fundamental standard. Mill tries to explain our mistaken belief that justice is overwhelmingly important by arguing that it derives from two natural human tendencies: our desire to retaliate against those who hurt us, or the feeling of self-defense and our ability to put ourselves imaginatively in another's place, sympathy. So, when we see someone harmed, we project ourselves into their situation and feel a desire to retaliate on their behalf. If this process is the source of our feelings about justice, that ought to undermine our confidence in them.[7]\\n\",\n",
              " 'Instrumental theories of justice look at the consequences of punishment for wrongdoing, looking at questions such as:\\n',\n",
              " 'In broad terms, utilitarian theories look forward to the future consequences of punishment, retributive theories look back to particular acts of wrongdoing and attempt to match them with appropriate punishment, and restorative theories look at the needs of victims and society and seek to repair the harms from wrongdoing.\\n',\n",
              " 'According to the utilitarian, justice requires the maximization of the total or average welfare across all relevant individuals. Punishment fights crime in three ways:\\n',\n",
              " 'So, the reason for punishment is the maximization of welfare, and punishment should be of whomever, and of whatever form and severity, are needed to meet that goal. This may sometimes justify punishing the innocent, or inflicting disproportionately severe punishments, when that will have the best consequences overall (perhaps executing a few suspected shoplifters live on television would be an effective deterrent to shoplifting, for instance). It also suggests that punishment might turn out never to be right, depending on the facts about what actual consequences it has.[8]\\n',\n",
              " 'The retributivist will think consequentialism is mistaken. If someone does something wrong we must respond by punishing for the committed action itself, regardless of what outcomes punishment produces. Wrongdoing must be balanced or made good in some way, and so the criminal deserves to be punished. It says that all guilty people, and only guilty people, deserve appropriate punishment. This matches some strong intuitions about just punishment: that it should be proportional to the crime, and that it should be of only and all of the guilty.[9] However, it is sometimes said that retributivism is merely revenge in disguise.[10] However, there are differences between retribution and revenge: the former is impartial and has a scale of appropriateness, whereas the latter is personal and potentially unlimited in scale.[11]\\n',\n",
              " 'Restorative justice (also sometimes called \"reparative justice\") is an approach to justice that focuses on the needs of victims and offenders, instead of satisfying abstract legal principles or punishing the offender. Victims take an active role in the process, while offenders are encouraged to take responsibility for their actions, \"to repair the harm they\\'ve done\\xa0– by apologizing, returning stolen money, or community service\". It is based on a theory of justice that considers crime and wrongdoing to be an offense against an individual or community rather than the state. Restorative justice that fosters dialogue between victim and offender shows the highest rates of victim satisfaction and offender accountability.[12]\\n',\n",
              " 'Some modern philosophers have said that Utilitarian and Retributive theories are not mutually exclusive. For example, Andrew von Hirsch, in his 1976 book Doing Justice, suggested that we have a moral obligation to punish greater crimes more than lesser ones.[13] However, so long as we adhere to that constraint then utilitarian ideals would play a significant secondary role.\\n',\n",
              " 'It has been said[14] that \\'systematic\\' or \\'programmatic\\' political and moral philosophy in the West begins, in Plato\\'s Republic, with the question, \\'What is Justice?\\'[15] According to most contemporary theories of justice, justice is overwhelmingly important: John Rawls claims that \"Justice is the first virtue of social institutions, as truth is of systems of thought.\"[16] In classical approaches, evident from Plato through to Rawls, the concept of \\'justice\\' is always construed in logical or \\'etymological\\' opposition to the concept of injustice. Such approaches cite various examples of injustice, as problems which a theory of justice must overcome.  A number of post-World War II approaches do, however, challenge that seemingly obvious dualism between those two concepts.[17] Justice can be thought of as distinct from benevolence, charity, prudence, mercy, generosity, or compassion, although these dimensions are regularly understood to also be interlinked. Justice is the concept of cardinal virtues, of which it is one.[18]  Metaphysical justice has often been associated with concepts of fate, reincarnation or Divine Providence, i.e., with a life in accordance with a cosmic plan.\\n',\n",
              " 'The equivalence of justice and fairness has been historically and culturally established.[19]\\n',\n",
              " 'Law raises important and complex issues about equality, fairness, and justice. There is an old saying that \\'All are equal before the law\\'. The belief in equality before the law is called legal egalitarianism. In criticism of this belief, the author Anatole France said in 1894, \"In its majestic equality, the law forbids rich and poor alike to sleep under bridges, beg in the streets, and steal loaves of bread.\"[20] With this saying, France illustrated the fundamental shortcoming of a theory of legal equality that remains blind to social inequality; the same law applied to all may have disproportionately harmful effects on the least powerful.\\n',\n",
              " \"Relational justice seeks to examine the connections between individuals and focuses on their relations in societies, with respect to how these relationships are established and configured. In a normative view, this focus includes an understanding of what these relations should be. In a political view, this focus includes the method of organizing persons in society. Rawls’ theory of justice stakes out the task of justice as equalizing the distribution of primary social goods to benefit the worst-off in society. However, his distributive scheme, and other distributive accounts of justice do not directly consider power relations between and among individuals. Nor do they address such political considerations as various structures of decision-making, such as divisions of labor culture, or the construction of social meanings. Even Rawls’ own basic value of self-respect cannot be said to be amenable to distribution.[21] Iris Marion Young charges that distributive accounts of justice fail to provide an adequate way of conceptualizing political justice in that they fail to take into account many of the demands of ordinary life and that a relational view of justice grounded upon understanding the differences among social groups offers a better approach, one which acknowledges unjust power relations among individuals, groups, and institutional structures.[22] Young Kim also takes a relational approach to the question of justice, but departs from Iris Marion Young's political advocacy of group rights and instead, he emphasizes the individual and moral aspects of justice.[23] As to its moral aspects, he said that justice includes responsible actions based on rational and autonomous moral agency, with the individual as the proper bearer of rights and responsibilities. Politically, he maintains that the proper context for justice is a form of liberalism with the traditional elements of liberty and equality, together with the concepts of diversity and tolerance.\\n\",\n",
              " 'Equality before the law is one of the basic principles of classical liberalism.[24][25] Classical liberalism calls for equality before the law, not for equality of outcome.[24] Classical liberalism opposes pursuing group rights at the expense of individual rights.[25] In addition to equality, individual liberty serves as a core notion of classical liberalism. As to the liberty component, British social and political theorist, philosopher, and historian of ideas Isaiah Berlin identifies positive and negative liberty in \"Two Concepts of Liberty\",[26] subscribing to a view of negative liberty, in the form of freedom from governmental interference. He further extends the concept of negative liberty in endorsing John Stuart Mills\\' harm principle: \"the sole end for which mankind are warranted, individually and collectively, in interfering with the liberty of action of any of their number, is self-protection\",[27] which represents a classical liberal view of liberty.[28]\\n',\n",
              " \"In political theory, liberalism includes two traditional elements: liberty and equality. Most contemporary theories of justice emphasize the concept of equality, including Rawls' theory of justice as fairness. For Ronald Dworkin, a complex notion of equality is the sovereign political virtue.[29] Dworkin raises the question of whether society is under a duty of justice to help those responsible for the fact that they need help. Complications arise in distinguishing matters of choice and matters of chance, as well as justice for future generations in the redistribution of resources that he advocates.[30]\\n\",\n",
              " 'In criminal law, a sentence forms the final explicit act of a judge-ruled process, and also the symbolic principal act connected to his function.[31] The sentence can generally involve a decree of imprisonment, a fine and/or other punishments against a defendant convicted of a crime. Laws may specify the range of penalties that can be imposed for various offenses, and sentencing guidelines sometimes regulate what punishment within those ranges can be imposed given a certain set of offense and offender characteristics.[32] The most common purposes of sentencing in legal theory are:\\n',\n",
              " 'In civil cases the decision is usually known as a verdict, or judgment, rather than a sentence.[33] Civil cases are settled primarily by means of monetary compensation for harm done (\"damages\") and orders intended to prevent future harm (for example injunctions). Under some legal systems an award of damages involves some scope for retribution, denunciation and deterrence, by means of additional categories of damages beyond simple compensation, covering a punitive effect, social disapprobation, and potentially, deterrence, and occasionally disgorgement (forfeit of any gain, even if no loss was caused to the other party).\\n',\n",
              " \"Evolutionary ethics and evolution of morality suggest evolutionary bases for the concept of justice.[34] Biosocial criminology research says that human perceptions of what is appropriate criminal justice are based on how to respond to crimes in the ancestral small-group environment and that these responses may not always be appropriate for today's societies.[35]\\n\",\n",
              " 'Studies at UCLA in 2008 have indicated that reactions to fairness are \"wired\" into the brain and that, \"Fairness is activating the same part of the brain that responds to food in rats... This is consistent with the notion that being treated fairly satisfies a basic need\".[36] Research conducted in 2003 at Emory University involving capuchin monkeys demonstrated that other cooperative animals also possess such a sense and that \"inequity aversion may not be uniquely human\".[37]\\n',\n",
              " 'In a world where people are interconnected but they disagree, institutions are required to instantiate ideals of justice. These institutions may be justified by their approximate instantiation of justice, or they may be deeply unjust when compared with ideal standards\\xa0– consider the institution of slavery. Justice is an ideal the world fails to live up to, sometimes due to deliberate opposition to justice despite understanding, which could be disastrous. The question of institutive justice raises issues of legitimacy, procedure, codification and interpretation, which are considered by legal theorists and by philosophers of law.[38] The United Nations Sustainable Development Goal 16 emphasizes the need for strong institutions in order to uphold justice.[39]\\n',\n",
              " \"There has been research into victim's perspective of justice following crimes. Victims find respectful treatment, information and having a voice important for a sense of justice as well as the perception of a fair procedure.[40]\\n\",\n",
              " 'Pemberton et al propose a \"Big 2\" model of justice in terms agency and communion, membership in a society. Victims experience a loss of perception of agency due to a loss of control as well as a loss of communion if the offender is a member of their social group, but may also lose trust in others or institutions. It can shatter an individual\\'s trust that they live in a just and moral world. This suggests that a sense of justice can be restored by increasing a sense of communion and agency rather than through retribution or restoration.[40]\\n',\n",
              " 'Theories of distributive justice need to answer three questions:\\n',\n",
              " 'Distributive justice theorists generally do not answer questions of who has the right to enforce a particular favored distribution, while property rights theorists say that there is no \"favored distribution\". Rather, distribution should be based simply on whatever distribution results from lawful interactions or transactions (that is, transactions which are not illicit).\\n',\n",
              " 'Social justice encompasses the just relationship between individuals and their society, often considering how privileges, opportunities, and wealth ought to be distributed among individuals.[41] Social justice is also associated with social mobility, especially the ease with which individuals and families may move between social strata.[42] Social justice is distinct from cosmopolitanism, which is the idea that all people belong to a single global community with a shared morality.[43] Social justice is also distinct from egalitarianism, which is the idea that all people are equal in terms of status, value, or rights, as social justice theories do not all require equality.[44] For example, sociologist George C. Homans suggested that the root of the concept of justice is that each person should receive rewards that are proportional to their contributions.[45][46]\\n',\n",
              " 'Economist Friedrich Hayek said that the concept of social justice was meaningless, saying that justice is a result of individual behavior and unpredictable market forces.[47] Social justice is closely related to the concept of relational justice, which is about the just relationship with individuals who possess features in common such as nationality, or who are engaged in cooperation or negotiation.[48][49]\\n',\n",
              " \"In his A Theory of Justice, John Rawls used a social contract argument to show that justice, and especially distributive justice, is a form of fairness: an impartial distribution of goods. Rawls asks us to imagine ourselves behind a veil of ignorance that denies us all knowledge of our personalities, social statuses, moral characters, wealth, talents and life plans, and then asks what theory of justice we would choose to govern our society when the veil is lifted, if we wanted to do the best that we could for ourselves. We don't know who in particular we are, and therefore can't bias the decision in our own favor. So, the decision-in-ignorance models fairness, because it excludes selfish bias. Rawls said that each of us would reject the utilitarian theory of justice that we should maximize welfare (see below) because of the risk that we might turn out to be someone whose own good is sacrificed for greater benefits for others. Instead, we would endorse Rawls's two principles of justice:\\n\",\n",
              " \"This imagined choice justifies these principles as the principles of justice for us, because we would agree to them in a fair decision procedure. Rawls's theory distinguishes two kinds of goods\\xa0– (1) the good of liberty rights and (2) social and economic goods, i.e. wealth, income and power\\xa0– and applies different distributions to them\\xa0– equality between citizens for (1), equality unless inequality improves the position of the worst off for (2).\\n\",\n",
              " 'In one sense, theories of distributive justice may assert that everyone should get what they deserve. Theories vary on the meaning of what is \"deserved\". The main distinction is between theories that say the basis of just deserts ought to be held equally by everyone, and therefore derive egalitarian accounts of distributive justice\\xa0– and theories that say the basis of just deserts is unequally distributed on the basis of, for instance, hard work, and therefore derive accounts of distributive justice by which some should have more than others.\\n',\n",
              " 'According to meritocratic theories, goods, especially wealth and social status, should be distributed to match individual merit, which is usually understood as some combination of talent and hard work. According to needs-based theories, goods, especially such basic goods as food, shelter and medical care, should be distributed to meet individuals\\' basic needs for them. Marxism is a needs-based theory, expressed succinctly in Marx\\'s slogan \"from each according to his ability, to each according to his need\".[51] According to contribution-based theories, goods should be distributed to match an individual\\'s contribution to the overall social good.\\n',\n",
              " 'In Anarchy, State, and Utopia, Robert Nozick said that distributive justice is not a matter of the whole distribution matching an ideal pattern, but of each individual entitlement having the right kind of history. It is just that a person has some good (especially, some property right) if and only if they came to have it by a history made up entirely of events of two kinds:\\n',\n",
              " \"If the chain of events leading up to the person having something meets this criterion, they are entitled to it: that they possess it is just, and what anyone else does or doesn't have or need is irrelevant.\\n\",\n",
              " 'On the basis of this theory of distributive justice, Nozick said that all attempts to redistribute goods according to an ideal pattern, without the consent of their owners, are theft. In particular, redistributive taxation is theft.\\n',\n",
              " 'Some property rights theorists (such as Nozick) also take a consequentialist view of distributive justice and say that property rights based justice also has the effect of maximizing the overall wealth of an economic system.  They explain that voluntary (non-coerced) transactions always have a property called Pareto efficiency. The result is that the world is better off in an absolute sense and no one is worse off.  They say that respecting property rights maximizes the number of Pareto efficient transactions in the world and minimized the number of non-Pareto efficient transactions in the world (i.e. transactions where someone is made worse off).  The result is that the world will have generated the greatest total benefit from the limited, scarce resources available in the world.  Further, this will have been accomplished without taking anything away from anyone unlawfully.\\n',\n",
              " \"According to the utilitarian, justice requires the maximization of the total or average welfare across all relevant individuals.[52] This may require sacrifice of some for the good of others, so long as everyone's good is taken impartially into account. Utilitarianism, in general, says that the standard of justification for actions, institutions, or the whole world, is impartial welfare consequentialism, and only indirectly, if at all, to do with rights, property, need, or any other non-utilitarian criterion. These other criteria might be indirectly important, to the extent that human welfare involves them. But even then, such demands as human rights would only be elements in the calculation of overall welfare, not uncrossable barriers to action.\\n\",\n",
              " 'In law, a sentence is the punishment for a crime ordered by a trial court after conviction in a criminal procedure,[1] normally at the conclusion of a trial. A sentence may consist of imprisonment, a fine, or other sanctions. Sentences for multiple crimes may be a concurrent sentence, where sentences of imprisonment are all served together at the same time, or a consecutive sentence, in which the period of imprisonment is the sum of all sentences served one after the other.[2] Additional sentences include intermediate, which allows an inmate to be free for about 8 hours a day for work purposes; determinate, which is fixed on a number of days, months, or years; and indeterminate or bifurcated, which mandates the minimum period be served in an institutional setting such as a prison followed by street time period of parole, supervised release or probation until the total sentence is completed.[3]\\n',\n",
              " 'If a sentence is reduced to a less harsh punishment, then the sentence is said to have been mitigated or commuted. Rarely, depending on circumstances, murder charges are mitigated and reduced to manslaughter charges. However, in certain legal systems, a defendant may be punished beyond the terms of the sentence, through phenomena including social stigma, loss of governmental benefits, or collectively, the collateral consequences of criminal charges.\\n',\n",
              " 'Statutes generally specify the highest penalties that may be imposed for certain offenses, and sentencing guidelines often mandate the minimum and maximum imprisonment terms to imposed upon an offender, which is then left to the discretion of the trial court.[1] However, in some jurisdictions, prosecutors have great influence over the punishments actually handed down, by virtue of their discretion to decide what offenses to charge the offender with and what facts they will seek to prove or to ask the defendant to stipulate to in a plea agreement. It has been argued that legislators have an incentive to enact tougher sentences than even they would like to see applied to the typical defendant since they recognize that the blame for an inadequate sentencing range to handle a particularly egregious crime would fall upon legislators, but the blame for excessive punishments would fall upon prosecutors.[4]\\n',\n",
              " 'Sentencing law sometimes includes cliffs that result in much stiffer penalties when certain facts apply. For instance, an armed career criminal or habitual offender law may subject a defendant to a significant increase in their sentence if they commit a third offence of a certain kind. This makes it difficult for fine gradations in punishments to be achieved.\\n',\n",
              " 'The earliest use of the term with this meaning was in Roman law, where it indicated the opinion of a jurist on a given question, expressed in written or in oral responsa. It might also refer to the opinion of senators that was translated into the senatus consultus. Finally, it might also refer to the decision of the bench in both civil and penal trials, as well as the decision of the arbiters in arbitration.\\n',\n",
              " 'In modern Latin systems, the sentence is mainly the final act of any procedure in which a judge or body of judges is called upon to express their evaluation. It can therefore be issued in practically any field of law requiring a function of evaluation of something by a judge or judging body.\\n',\n",
              " 'Sentences are variously classified depending on\\n',\n",
              " 'The sentence meted out depends on the philosophical principle used by the court and what the legal system regards as the purpose of punishment. The most common purposes of sentencing are:\\n',\n",
              " 'The individual is deterred through fear of further punishment.\\n',\n",
              " 'The general public are warned of likely punishment.\\n',\n",
              " 'In England and Wales, section 142 of the Criminal Justice Act 2003 has specified that in cases involving those over 18, courts should have regard to punishment of the offenders retribution, deterrence, reform and rehabilitation, protection of the public, and reparation to persons affected by their offences.[5]\\n',\n",
              " 'Usually, the sentence comes at the end of a process in which the presiding judge or judges have been enabled to evaluate whether the conduct in question complies or does not comply with the law, and which aspects might be breaches of which specific legislation. Depending on jurisdiction, the stages leading up to the sentence may vary, and the sentence may be challenged by both parties up to a given degree of appeal. If appealed against, the sentence issued by the highest appellate court to which the case is admitted becomes the definitive sentence. The sentence usually has to be publicly announced; and, in most jurisdictions, has to be justified through an explanation of the juridical reflections and evaluations that lie behind it.\\n',\n",
              " \"Even a definitive sentence can be annulled in exceptional circumstances, usually predetermined within the jurisdiction in question. Most such cases arise from irregularities found in the judicial process after sentence has been passed. The most extreme examples arise in criminal cases, when conclusive proof of innocence comes to light after sentence has been passed, leading to the sentence's annulment.\\n\",\n",
              " 'In most jurisdictions, under double jeopardy legislation, the definitive sentence is unique, in the sense that (except for appeal hearings) no individual can be judged or sentenced more than once for the same actions.\\n',\n",
              " 'In many jurisdictions,[which?] sentences are a source of law, in that they represent an authoritative interpretation of the law in concrete cases.\\n',\n",
              " 'The sentence is typically determined by a judge and/or jury, and is issued in the name or on behalf of the superior authority of the state.\\n',\n",
              " '\\n',\n",
              " 'Law is a set of rules that are created and are enforceable by social or governmental institutions to regulate behavior,[1] with its precise definition a matter of longstanding debate.[2][3][4] It has been variously described as a science[5][6] and as the art of justice.[7][8][9] State-enforced laws can be made by a group legislature or by a single legislator, resulting in statutes; by the executive through decrees and regulations; or established by judges through precedent, usually in common law jurisdictions. Private individuals may create legally binding contracts, including arbitration agreements that adopt alternative ways of resolving disputes to standard court litigation. The creation of laws themselves may be influenced by a constitution, written or tacit, and the rights encoded therein. The law shapes politics, economics, history and society in various ways and also serves as a mediator of relations between people.\\n',\n",
              " 'Legal systems vary between jurisdictions, with their differences analysed in comparative law. In civil law jurisdictions, a legislature or other central body codifies and consolidates the law. In common law systems, judges may make binding case law through precedent,[10] although on occasion this may be overturned by a higher court or the legislature.[11] Historically, religious law has influenced secular matters and is, as of the 21st century, still in use in some religious communities.[12][13][14] Sharia law based on Islamic principles is used as the primary legal system in several countries, including Iran and Saudi Arabia.[15][16]\\n',\n",
              " 'The scope of law can be divided into two domains: public law concerns government and society, including constitutional law, administrative law, and criminal law; while private law deals with legal disputes between individuals and/or organisations in areas such as contracts, property, torts/delicts and commercial law.[17] This distinction is stronger in civil law countries, particularly those with a separate system of administrative courts;[18][19] by contrast, the public-private law divide is less pronounced in common law jurisdictions.[20][21]\\n',\n",
              " 'Law provides a source of scholarly inquiry into legal history,[22] philosophy,[23] economic analysis[24] and sociology.[25] Law also raises important and complex issues concerning equality, fairness, and justice.[26][27]\\n',\n",
              " 'But what, after all, is a law? [...] When I say that the object of laws is always general, I mean that law considers subjects en masse and actions in the abstract, and never a particular person or action. [...] On this view, we at once see that it can no longer be asked whose business it is to make laws, since they are acts of the general will; nor whether the prince is above the law, since he is a member of the State; nor whether the law can be unjust, since no one is unjust to himself; nor how we can be both free and subject to the laws, since they are but registers of our wills.\\n',\n",
              " 'Jean-Jacques Rousseau, The Social Contract, II, 6.[28]\\n',\n",
              " 'The philosophy of law is commonly known as jurisprudence. Normative jurisprudence asks \"what should law be?\", while analytic jurisprudence asks \"what is law?\"\\n',\n",
              " 'There have been several attempts to produce \"a universally acceptable definition of law\". In 1972, Baron Hampstead suggested that no such definition could be produced.[29] McCoubrey and White said that the question \"what is law?\" has no simple answer.[30] Glanville Williams said that the meaning of the word \"law\" depends on the context in which that word is used. He said that, for example, \"early customary law\" and \"municipal law\" were contexts where the word \"law\" had two different and irreconcilable meanings.[31] Thurman Arnold said that it is obvious that it is impossible to define the word \"law\" and that it is also equally obvious that the struggle to define that word should not ever be abandoned.[32] It is possible to take the view that there is no need to define the word \"law\" (e.g. \"let\\'s forget about generalities and get down to cases\").[33]\\n',\n",
              " 'One definition is that law is a system of rules and guidelines which are enforced through social institutions to govern behaviour.[1] In The Concept of Law, H. L. A. Hart argued that law is a \"system of rules\";[34] John Austin said law was \"the command of a sovereign, backed by the threat of a sanction\";[35] Ronald Dworkin describes law as an \"interpretive concept\" to achieve justice in his text titled Law\\'s Empire;[36] and Joseph Raz argues law is an \"authority\" to mediate people\\'s interests.[37] Oliver Wendell Holmes defined law as \"the prophecies of what the courts will do in fact, and nothing more pretentious.\"[38] In his Treatise on Law, Thomas Aquinas argues that law is a rational ordering of things, which concern the common good, that is promulgated by whoever is charged with the care of the community.[39] This definition has both positivist and naturalist elements.[40]\\n',\n",
              " 'Definitions of law often raise the question of the extent to which law incorporates morality.[41] John Austin\\'s utilitarian answer was that law is \"commands, backed by threat of sanctions, from a sovereign, to whom people have a habit of obedience\".[35] Natural lawyers, on the other hand, such as Jean-Jacques Rousseau, argue that law reflects essentially moral and unchangeable laws of nature. The concept of \"natural law\" emerged in ancient Greek philosophy concurrently and in connection with the notion of justice, and re-entered the mainstream of Western culture through the writings of Thomas Aquinas, notably his Treatise on Law.\\n',\n",
              " 'Hugo Grotius, the founder of a purely rationalistic system of natural law, argued that law arises from both a social impulse—as Aristotle had indicated—and reason.[42] Immanuel Kant believed a moral imperative requires laws \"be chosen as though they should hold as universal laws of nature\".[43] Jeremy Bentham and his student Austin, following David Hume, believed that this conflated the \"is\" and what \"ought to be\" problem. Bentham and Austin argued for law\\'s positivism; that real law is entirely separate from \"morality\".[44] Kant was also criticised by Friedrich Nietzsche, who rejected the principle of equality, and believed that law emanates from the will to power, and cannot be labeled as \"moral\" or \"immoral\".[45][46][47]\\n',\n",
              " 'In 1934, the Austrian philosopher Hans Kelsen continued the positivist tradition in his book the Pure Theory of Law.[48] Kelsen believed that although law is separate from morality, it is endowed with \"normativity\", meaning we ought to obey it. While laws are positive \"is\" statements (e.g. the fine for reversing on a highway is €500); law tells us what we \"should\" do. Thus, each legal system can be hypothesised to have a basic norm (Grundnorm) instructing us to obey. Kelsen\\'s major opponent, Carl Schmitt, rejected both positivism and the idea of the rule of law because he did not accept the primacy of abstract normative principles over concrete political positions and decisions.[49] Therefore, Schmitt advocated a jurisprudence of the exception (state of emergency), which denied that legal norms could encompass all of the political experience.[50]\\n',\n",
              " 'Later in the 20th century, H. L. A. Hart attacked Austin for his simplifications and Kelsen for his fictions in The Concept of Law.[51] Hart argued law is a system of rules, divided into primary (rules of conduct) and secondary ones (rules addressed to officials to administer primary rules). Secondary rules are further divided into rules of adjudication (to resolve legal disputes), rules of change (allowing laws to be varied) and the rule of recognition (allowing laws to be identified as valid). Two of Hart\\'s students continued the debate: In his book Law\\'s Empire, Ronald Dworkin attacked Hart and the positivists for their refusal to treat law as a moral issue. Dworkin argues that law is an \"interpretive concept\"[36] that requires judges to find the best fitting and most just solution to a legal dispute, given their Anglo-American constitutional traditions. Joseph Raz, on the other hand, defended the positivist outlook and criticised Hart\\'s \"soft social thesis\" approach in The Authority of Law.[37] Raz argues that law is authority, identifiable purely through social sources and without reference to moral reasoning. In his view, any categorisation of rules beyond their role as authoritative instruments in mediation are best left to sociology, rather than jurisprudence.[52]\\n',\n",
              " 'The history of law links closely to the development of civilization. Ancient Egyptian law, dating as far back as 3000 BC, was based on the concept of Ma\\'at and characterised by tradition, rhetorical speech, social equality and impartiality.[53][54][55] By the 22nd century\\xa0BC, the ancient Sumerian ruler Ur-Nammu had formulated the first law code, which consisted of casuistic statements (\"if … then ...\"). Around 1760\\xa0BC, King Hammurabi further developed Babylonian law, by codifying and inscribing it in stone. Hammurabi placed several copies of his law code throughout the kingdom of Babylon as stelae, for the entire public to see; this became known as the Codex Hammurabi. The most intact copy of these stelae was discovered in the 19th century by British Assyriologists, and has since been fully transliterated and translated into various languages, including English, Italian, German, and French.[56]\\n',\n",
              " 'The Old Testament dates back to 1280\\xa0BC and takes the form of moral imperatives as recommendations for a good society. The small Greek city-state, ancient Athens, from about the 8th century BC was the first society to be based on broad inclusion of its citizenry, excluding women and enslaved people. However, Athens had no legal science or single word for \"law\",[57] relying instead on the three-way distinction between divine law (thémis), human decree (nomos) and custom (díkē).[58] Yet Ancient Greek law contained major constitutional innovations in the development of democracy.[59]\\n',\n",
              " \"Roman law was heavily influenced by Greek philosophy, but its detailed rules were developed by professional jurists and were highly sophisticated.[60][61] Over the centuries between the rise and decline of the Roman Empire, law was adapted to cope with the changing social situations and underwent major codification under Theodosius II and Justinian I.[a] Although codes were replaced by custom and case law during the Early Middle Ages, Roman law was rediscovered around the 11th century when medieval legal scholars began to research Roman codes and adapt their concepts to the canon law, giving birth to the jus commune. Latin legal maxims (called brocards) were compiled for guidance. In medieval England, royal courts developed a body of precedent which later became the common law. A Europe-wide Law Merchant was formed so that merchants could trade with common standards of practice rather than with the many splintered facets of local laws. The Law Merchant, a precursor to modern commercial law, emphasised the freedom to contract and alienability of property.[62] As nationalism grew in the 18th and 19th centuries, the Law Merchant was incorporated into countries' local law under new civil codes. The Napoleonic and German Codes became the most influential. In contrast to English common law, which consists of enormous tomes of case law, codes in small books are easy to export and easy for judges to apply. However, today there are signs that civil and common law are converging.[63] EU law is codified in treaties, but develops through de facto precedent laid down by the European Court of Justice.[64]\\n\",\n",
              " \"Ancient India and China represent distinct traditions of law, and have historically had independent schools of legal theory and practice. The Arthashastra, probably compiled around 100\\xa0AD (although it contains older material), and the Manusmriti (c.\\xa0100–300\\xa0AD) were foundational treatises in India, and comprise texts considered authoritative legal guidance.[65] Manu's central philosophy was tolerance and pluralism, and was cited across Southeast Asia.[66] During the Muslim conquests in the Indian subcontinent, sharia was established by the Muslim sultanates and empires, most notably Mughal Empire's Fatawa-e-Alamgiri, compiled by emperor Aurangzeb and various scholars of Islam.[67][68] In India, the Hindu legal tradition, along with Islamic law, were both supplanted by common law when India became part of the British Empire.[69] Malaysia, Brunei, Singapore and Hong Kong also adopted the common law system. The eastern Asia legal tradition reflects a unique blend of secular and religious influences.[70] Japan was the first country to begin modernising its legal system along western lines, by importing parts of the French, but mostly the German Civil Code.[71] This partly reflected Germany's status as a rising power in the late 19th century.\\n\",\n",
              " \"Similarly, traditional Chinese law gave way to westernisation towards the final years of the Qing Dynasty in the form of six private law codes based mainly on the Japanese model of German law.[72] Today Taiwanese law retains the closest affinity to the codifications from that period, because of the split between Chiang Kai-shek's nationalists, who fled there, and Mao Zedong's communists who won control of the mainland in 1949. The current legal infrastructure in the People's Republic of China was heavily influenced by Soviet Socialist law, which essentially prioritises administrative law at the expense of private law rights.[73] Due to rapid industrialisation, today China is undergoing a process of reform, at least in terms of economic, if not social and political, rights. A new contract code in 1999 represented a move away from administrative domination.[74] Furthermore, after negotiations lasting fifteen years, in 2001 China joined the World Trade Organization.[75]\\n\",\n",
              " 'In general, legal systems can be split between civil law and common law systems.[76] Modern scholars argue that the significance of this distinction has progressively declined. The numerous legal transplants, typical of modern law, result in the sharing of many features traditionally considered typical of either common law or civil law.[63][77] The third type of legal system is religious law, based on scriptures. The specific system that a country is ruled by is often determined by its history, connections with other countries, or its adherence to international standards. The sources that jurisdictions adopt as authoritatively binding are the defining features of any legal system.',\n",
              " 'Civil law is the legal system used in most countries around the world today. In civil law the sources recognised as authoritative are, primarily, legislation—especially codifications in constitutions or statutes passed by government—and custom.[b] Codifications date back millennia, with one early example being the Babylonian Codex Hammurabi. Modern civil law systems essentially derive from legal codes issued by Byzantine Emperor Justinian I in the 6th century, which were rediscovered by 11th century Italy.[79] Roman law in the days of the Roman Republic and Empire was heavily procedural, and lacked a professional legal class.[80] Instead a lay magistrate, iudex, was chosen to adjudicate. Decisions were not published in any systematic way, so any case law that developed was disguised and almost unrecognised.[81] Each case was to be decided afresh from the laws of the State, which mirrors the (theoretical) unimportance of judges\\' decisions for future cases in civil law systems today. From 529 to 534 AD the Byzantine Emperor Justinian I codified and consolidated Roman law up until that point, so that what remained was one-twentieth of the mass of legal texts from before.[82] This became known as the Corpus Juris Civilis. As one legal historian wrote, \"Justinian consciously looked back to the golden age of Roman law and aimed to restore it to the peak it had reached three centuries before.\"[83] The Justinian Code remained in force in the East until the fall of the Byzantine Empire. Western Europe, meanwhile, relied on a mix of the Theodosian Code and Germanic customary law until the Justinian Code was rediscovered in the 11th century, which scholars at the University of Bologna used to interpret their own laws.[84] Civil law codifications based closely on Roman law, alongside some influences from religious laws such as canon law, continued to spread throughout Europe until the Enlightenment. Then, in the 19th century, both France, with the Code Civil, and Germany, with the Bürgerliches Gesetzbuch, modernised their legal codes. Both these codes heavily influenced not only the law systems of the countries in continental Europe, but also the Japanese and Korean legal traditions.[85][86] Today, countries that have civil law systems range from Russia and Turkey to most of Central and Latin America.[87]\\n',\n",
              " 'Anarchist law primarily deals with how anarchism is implemented upon a society, the framework based on decentralized organizations and mutual aid, with representation through a form of direct democracy. Laws being based upon their need.[88] A large portion of anarchist ideologies such as anarcho-syndicalism and anarcho-communism primarily focuses on decentralized worker unions, cooperatives and syndicates as the main instrument of society.[89]\\n',\n",
              " \"Socialist law is the legal systems in communist states such as the former Soviet Union and the People's Republic of China.[90] Academic opinion is divided on whether it is a separate system from civil law, given major deviations based on Marxist–Leninist ideology, such as subordinating the judiciary to the executive ruling party.[90][91][92]\\n\",\n",
              " 'In common law legal systems, decisions by courts are explicitly acknowledged as \"law\" on equal footing with legislative statutes and executive regulations. The \"doctrine of precedent\", or stare decisis (Latin for \"to stand by decisions\") means that decisions by higher courts bind lower courts to assure that similar cases reach similar results. In contrast, in civil law systems, legislative statutes are typically more detailed, and judicial decisions are shorter and less detailed, because the adjudicator is only writing to decide the single case, rather than to set out reasoning that will guide future courts.\\n',\n",
              " 'Common law originated from England and has been inherited by almost every country once tied to the British Empire (except Malta, Scotland, the U.S. state of Louisiana, and the Canadian province of Quebec). In medieval England during the Norman conquest, the law varied shire-to-shire based on disparate tribal customs. The concept of a \"common law\" developed during the reign of Henry II during the late 12th century, when Henry appointed judges that had authority to create an institutionalised and unified system of law common to the country. The next major step in the evolution of the common law came when King John was forced by his barons to sign a document limiting his authority to pass laws. This \"great charter\" or Magna Carta of 1215 also required that the King\\'s entourage of judges hold their courts and judgments at \"a certain place\" rather than dispensing autocratic justice in unpredictable places about the country.[93] A concentrated and elite group of judges acquired a dominant role in law-making under this system, and compared to its European counterparts the English judiciary became highly centralised. In 1297, for instance, while the highest court in France had fifty-one judges, the English Court of Common Pleas had five.[94] This powerful and tight-knit judiciary gave rise to a systematised process of developing common law.[95]\\n',\n",
              " \"As time went on, many felt that the common law was overly systematised and inflexible, and increasing numbers of citizens petitioned the King to override the common law. On the King's behalf, the Lord Chancellor started giving judgments to do what was equitable in a case. From the time of Sir Thomas More, the first lawyer to be appointed as Lord Chancellor, a systematic body of equity grew up alongside the rigid common law, and developed its own Court of Chancery. At first, equity was often criticised as erratic.[96] Over time, courts of equity developed solid principles, especially under Lord Eldon.[97] In the 19th century in England, and in 1937 in the U.S., the two systems were merged.\\n\",\n",
              " 'In developing the common law, academic writings have always played an important part, both to collect overarching principles from dispersed case law, and to argue for change. William Blackstone, from around 1760, was the first scholar to collect, describe, and teach the common law.[98] But merely in describing, scholars who sought explanations and underlying structures slowly changed the way the law actually worked.[99]\\n',\n",
              " 'Religious law is explicitly based on religious precepts. Examples include the Jewish Halakha and Islamic Sharia—both of which translate as the \"path to follow\". Christian canon law also survives in some church communities. Often the implication of religion for law is unalterability, because the word of God cannot be amended or legislated against by judges or governments.[100] Nonetheless, most religious jurisdictions rely on further human elaboration to provide for thorough and detailed legal systems. For instance, the Quran has some law, and it acts as a source of further law through interpretation, Qiyas (reasoning by analogy), Ijma (consensus) and precedent.[101] This is mainly contained in a body of law and jurisprudence known as Sharia and Fiqh respectively. Another example is the Torah or Old Testament, in the Pentateuch or Five Books of Moses. This contains the basic code of Jewish law, which some Israeli communities choose to use. The Halakha is a code of Jewish law that summarizes some of the Talmud\\'s interpretations.\\n',\n",
              " 'A number of countries are sharia jurisdictions. Israeli law allows litigants to use religious laws only if they choose. Canon law is only in use by members of the Catholic Church, the Eastern Orthodox Church and the Anglican Communion.\\n',\n",
              " \"Canon law (Ancient Greek: κανών, romanized:\\xa0kanon, lit.\\u2009'a straight measuring rod; a ruler') is a set of ordinances and regulations made by ecclesiastical authority, for the government of a Christian organisation or church and its members. It is the internal ecclesiastical law governing the Catholic Church, the Eastern Orthodox Church, the Oriental Orthodox Churches, and the individual national churches within the Anglican Communion.[102] The way that such church law is legislated, interpreted and at times adjudicated varies widely among these three bodies of churches. In all three traditions, a canon was originally[103] a rule adopted by a church council; these canons formed the foundation of canon law.\\n\",\n",
              " 'The Catholic Church has the oldest continuously functioning legal system in the western world,[104][105] predating the evolution of modern European civil law and common law systems. The 1983 Code of Canon Law governs the Latin Church sui juris. The Eastern Catholic Churches, which developed different disciplines and practices, are governed by the Code of Canons of the Eastern Churches.[106] The canon law of the Catholic Church influenced the common law during the medieval period through its preservation of Roman law doctrine such as the presumption of innocence.[107][c]\\n',\n",
              " \"Until the 18th century, Sharia law was practiced throughout the Muslim world in a non-codified form, with the Ottoman Empire's Mecelle code in the 19th century being a first attempt at codifying elements of Sharia law. Since the mid-1940s, efforts have been made, in country after country, to bring Sharia law more into line with modern conditions and conceptions.[109][110] In modern times, the legal systems of many Muslim countries draw upon both civil and common law traditions as well as Islamic law and custom. The constitutions of certain Muslim states, such as Egypt and Afghanistan, recognise Islam as the religion of the state, obliging legislature to adhere to Sharia.[111] Saudi Arabia recognises Quran as its constitution, and is governed on the basis of Islamic law.[112] Iran has also witnessed a reiteration of Islamic law into its legal system after 1979.[113] During the last few decades, one of the fundamental features of the movement of Islamic resurgence has been the call to restore the Sharia, which has generated a vast amount of literature and affected world politics.[114]\\n\",\n",
              " 'There are distinguished methods of legal reasoning (applying the law) and methods of interpreting (construing) the law. The former are legal syllogism, which holds sway in civil law legal systems, analogy, which is present in common law legal systems, especially in the US, and argumentative theories that occur in both systems. The latter are different rules (directives) of legal interpretation such as directives of linguistic interpretation, teleological interpretation or systemic interpretation as well as more specific rules, for instance, golden rule or mischief rule. There are also many other arguments and cannons of interpretation which altogether make statutory interpretation possible.\\n',\n",
              " 'Law professor and former United States Attorney General Edward H. Levi noted that the \"basic pattern of legal reasoning is reasoning by example\"—that is, reasoning by comparing outcomes in cases resolving similar legal questions.[115] In a U.S. Supreme Court case regarding procedural efforts taken by a debt collection company to avoid errors, Justice Sotomayor cautioned that \"legal reasoning is not a mechanical or strictly linear process\".[116]\\n',\n",
              " 'Jurimetrics is the formal application of quantitative methods, especially probability and statistics, to legal questions. The use of statistical methods in court cases and law review articles has grown massively in importance in the last few decades.[117][118]\\n',\n",
              " 'It is a real unity of them all in one and the same person, made by covenant of every man with every man, in such manner as if every man should say to every man: I authorise and give up my right of governing myself to this man, or to this assembly of men, on this condition; that thou givest up, thy right to him, and authorise all his actions in like manner.\\n',\n",
              " 'Thomas Hobbes, Leviathan, XVII\\n',\n",
              " \"The main institutions of law in industrialised countries are independent courts, representative parliaments, an accountable executive, the military and police, bureaucratic organisation, the legal profession and civil society itself. John Locke, in his Two Treatises of Government, and Baron de Montesquieu in The Spirit of the Laws, advocated for a separation of powers between the political, legislature and executive bodies.[119] Their principle was that no person should be able to usurp all powers of the state, in contrast to the absolutist theory of Thomas Hobbes' Leviathan.[120] Sun Yat-sen's Five Power Constitution for the Republic of China took the separation of powers further by having two additional branches of government—a Control Yuan for auditing oversight and an Examination Yuan to manage the employment of public officials.[121]\\n\",\n",
              " \"Max Weber and others reshaped thinking on the extension of state. Modern military, policing and bureaucratic power over ordinary citizens' daily lives pose special problems for accountability that earlier writers such as Locke or Montesquieu could not have foreseen. The custom and practice of the legal profession is an important part of people's access to justice, whilst civil society is a term used to refer to the social institutions, communities and partnerships that form law's political basis.\\n\",\n",
              " 'A judiciary is a number of judges mediating disputes to determine outcome. Most countries have systems of appeal courts, with an apex court as the ultimate judicial authority. In the United States, this authority is the Supreme Court;[122] in Australia, the High Court;  in India, the Supreme Court of India;in the UK, the Supreme Court;[citation needed] in Germany, the Bundesverfassungsgericht; and in France, the Cour de Cassation.[123][124] For most European countries the European Court of Justice in Luxembourg can overrule national law, when EU law is relevant. The European Court of Human Rights in Strasbourg allows citizens of the Council of Europe member states to bring cases relating to human rights issues before it.[125]\\n',\n",
              " 'Some countries allow their highest judicial authority to overrule legislation they determine to be unconstitutional. For example, in Brown v. Board of Education, the United States Supreme Court nullified many state statutes that had established racially segregated schools, finding such statutes to be incompatible with the Fourteenth Amendment to the United States Constitution.[126]\\n',\n",
              " 'A judiciary is theoretically bound by the constitution, just as all other government bodies are. In most countries judges may only interpret the constitution and all other laws. But in common law countries, where matters are not constitutional, the judiciary may also create law under the doctrine of precedent. The UK, Finland and New Zealand assert the ideal of parliamentary sovereignty, whereby the unelected judiciary may not overturn law passed by a democratic legislature.[127]\\n',\n",
              " 'In communist states, such as China, the courts are often regarded as parts of the executive, or subservient to the legislature; governmental institutions and actors exert thus various forms of influence on the judiciary.[d] In Muslim countries, courts often examine whether state laws adhere to the Sharia: the Supreme Constitutional Court of Egypt may invalidate such laws,[128] and in Iran the Guardian Council ensures the compatibility of the legislation with the \"criteria of Islam\".[128][129]\\n',\n",
              " 'Prominent examples of legislatures are the Houses of Parliament in London, the Congress in Washington, D.C., the Bundestag in Berlin, the Duma in Moscow, the Parlamento Italiano in Rome and the Assemblée nationale in Paris. By the principle of representative government people vote for politicians to carry out their wishes. Although countries like Israel, Greece, Sweden and China are unicameral, most countries are bicameral, meaning they have two separately appointed legislative houses.[130]\\n',\n",
              " \"In the 'lower house' politicians are elected to represent smaller constituencies. The 'upper house' is usually elected to represent states in a federal system (as in Australia, Germany or the United States) or different voting configuration in a unitary system (as in France). In the UK the upper house is appointed by the government as a house of review. One criticism of bicameral systems with two elected chambers is that the upper and lower houses may simply mirror one another. The traditional justification of bicameralism is that an upper chamber acts as a house of review. This can minimise arbitrariness and injustice in governmental action.[130]\\n\",\n",
              " 'To pass legislation, a majority of the members of a legislature must vote for a bill (proposed law) in each house. Normally there will be several readings and amendments proposed by the different political factions. If a country has an entrenched constitution, a special majority for changes to the constitution may be required, making changes to the law more difficult. A government usually leads the process, which can be formed from Members of Parliament (e.g. the UK or Germany). However, in a presidential system, the government is usually formed by an executive and his or her appointed cabinet officials (e.g. the United States or Brazil).[e]\\n',\n",
              " 'The executive in a legal system serves as the centre of political authority of the State. In a parliamentary system, as with Britain, Italy, Germany, India, and Japan, the executive is known as the cabinet, and composed of members of the legislature. The executive is led by the head of government, whose office holds power under the confidence of the legislature. Because popular elections appoint political parties to govern, the leader of a party can change in between elections.[131]\\n',\n",
              " 'The head of state is apart from the executive, and symbolically enacts laws and acts as representative of the nation. Examples include the President of Germany (appointed by members of federal and state legislatures), the Queen of the United Kingdom (an hereditary office), and the President of Austria (elected by popular vote). The other important model is the presidential system, found in the United States and in Brazil. In presidential systems, the executive acts as both head of state and head of government, and has power to appoint an unelected cabinet. Under a presidential system, the executive branch is separate from the legislature to which it is not accountable.[131][132]\\n',\n",
              " \"Although the role of the executive varies from country to country, usually it will propose the majority of legislation, and propose government agenda. In presidential systems, the executive often has the power to veto legislation. Most executives in both systems are responsible for foreign relations, the military and police, and the bureaucracy. Ministers or other officials head a country's public offices, such as a foreign ministry or defence ministry. The election of a different executive is therefore capable of revolutionising an entire country's approach to government.\\n\",\n",
              " \"While military organisations have existed as long as government itself, the idea of a standing police force is a relatively modern concept. For example, Medieval England's system of travelling criminal courts, or assizes, used show trials and public executions to instill communities with fear to maintain control.[133] The first modern police were probably those in 17th-century Paris, in the court of Louis XIV,[134] although the Paris Prefecture of Police claim they were the world's first uniformed policemen.[135]\\n\",\n",
              " 'Max Weber famously argued that the state is that which controls the monopoly on the legitimate use of force.[136][137] The military and police carry out enforcement at the request of the government or the courts. The term failed state refers to states that cannot implement or enforce policies; their police and military no longer control security and order and society moves into anarchy, the absence of government.[f]\\n',\n",
              " \"The etymology of bureaucracy derives from the French word for office (bureau) and the Ancient Greek for word power (kratos).[138][better\\xa0source\\xa0needed] Like the military and police, a legal system's government servants and bodies that make up its bureaucracy carry out the directives of the executive. One of the earliest references to the concept was made by Baron de Grimm, a German author who lived in France. In 1765, he wrote:\\n\",\n",
              " 'The real spirit of the laws in France is that bureaucracy of which the late Monsieur de Gournay used to complain so greatly; here the offices, clerks, secretaries, inspectors and intendants are not appointed to benefit the public interest, indeed the public interest appears to have been established so that offices might exist.[139]',\n",
              " 'Cynicism over \"officialdom\" is still common, and the workings of public servants is typically contrasted to private enterprise motivated by profit.[140] In fact private companies, especially large ones, also have bureaucracies.[141] Negative perceptions of \"red tape\" aside, public services such as schooling, health care, policing or public transport are considered a crucial state function making public bureaucratic action the locus of government power.[141]\\n',\n",
              " \"Writing in the early 20th century, Max Weber believed that a definitive feature of a developed state had come to be its bureaucratic support.[142] Weber wrote that the typical characteristics of modern bureaucracy are that officials define its mission, the scope of work is bound by rules, and management is composed of career experts who manage top down, communicating through writing and binding public servants' discretion with rules.[143]\\n\",\n",
              " 'A corollary of the rule of law is the existence of a legal profession sufficiently autonomous to invoke the authority of the independent judiciary; the right to assistance of a barrister in a court proceeding emanates from this corollary—in England the function of barrister or advocate is distinguished from legal counselor.[144] As the European Court of Human Rights has stated, the law should be adequately accessible to everyone and people should be able to foresee how the law affects them.[145]\\n',\n",
              " 'In order to maintain professionalism, the practice of law is typically overseen by either a government or independent regulating body such as a bar association, bar council or law society. Modern lawyers achieve distinct professional identity through specified legal procedures (e.g. successfully passing a qualifying examination), are required by law to have a special qualification (a legal education earning the student a Bachelor of Laws, a Bachelor of Civil Law, or a Juris Doctor degree. Higher academic degrees may also be pursued. Examples include a Master of Laws, a Master of Legal Studies, a Bar Professional Training Course or a Doctor of Laws.), and are constituted in office by legal forms of appointment (being admitted to the bar). There are few titles of respect to signify famous lawyers, such as Esquire, to indicate barristers of greater dignity,[146][147] and Doctor of law, to indicate a person who obtained a PhD in Law.\\n',\n",
              " 'Many Muslim countries have developed similar rules about legal education and the legal profession, but some still allow lawyers with training in traditional Islamic law to practice law before personal status law courts.[148] In China and other developing countries there are not sufficient professionally trained people to staff the existing judicial systems, and, accordingly, formal standards are more relaxed.[149]\\n',\n",
              " 'Once accredited, a lawyer will often work in a law firm, in a chambers as a sole practitioner, in a government post or in a private corporation as an internal counsel. In addition a lawyer may become a legal researcher who provides on-demand legal research through a library, a commercial service or freelance work. Many people trained in law put their skills to use outside the legal field entirely.[150]\\n',\n",
              " 'Significant to the practice of law in the common law tradition is the legal research to determine the current state of the law. This usually entails exploring case-law reports, legal periodicals and legislation. Law practice also involves drafting documents such as court pleadings, persuasive briefs, contracts, or wills and trusts. Negotiation and dispute resolution skills (including ADR techniques) are also important to legal practice, depending on the field.[150]\\n',\n",
              " 'The Classical republican concept of \"civil society\" dates back to Hobbes and Locke.[151] Locke saw civil society as people who have \"a common established law and judicature to appeal to, with authority to decide controversies between them.\"[152] German philosopher Georg Wilhelm Friedrich Hegel distinguished the \"state\" from \"civil society\" (German: bürgerliche Gesellschaft) in Elements of the Philosophy of Right.[153][154]\\n',\n",
              " 'Hegel believed that civil society and the state were polar opposites, within the scheme of his dialectic theory of history. The modern dipole state–civil society was reproduced in the theories of Alexis de Tocqueville and Karl Marx.[155][156] In post-modern theory, civil society is necessarily a source of law, by being the basis from which people form opinions and lobby for what they believe law should be. As Australian barrister and author Geoffrey Robertson QC wrote of international law, \"one of its primary modern sources is found in the responses of ordinary men and women, and of the non-governmental organizations which many of them support, to the human rights abuses they see on the television screen in their living rooms.\"[157]\\n',\n",
              " 'Freedom of speech, freedom of association and many other individual rights allow people to gather, discuss, criticise and hold to account their governments, from which the basis of a deliberative democracy is formed. The more people are involved with, concerned by and capable of changing how political power is exercised over their lives, the more acceptable and legitimate the law becomes to the people. The most familiar institutions of civil society include economic markets, profit-oriented firms, families, trade unions, hospitals, universities, schools, charities, debating clubs, non-governmental organisations, neighbourhoods, churches, and religious associations.  There is no clear legal definition of the civil society, and of the institutions it includes. Most of the institutions and bodies who try to give a list of institutions (such as the European Economic and Social Committee) exclude the political parties.[158][159][160]\\n',\n",
              " 'All legal systems deal with the same basic issues, but jurisdictions categorise and identify their legal topics in different ways. A common distinction is that between \"public law\" (a term related closely to the state, and including constitutional, administrative and criminal law), and \"private law\" (which covers contract, tort and property).[g] In civil law systems, contract and tort fall under a general law of obligations, while trusts law is dealt with under statutory regimes or international conventions. International, constitutional and administrative law, criminal law, contract, tort, property law and trusts are regarded as the \"traditional core subjects\",[h] although there are many further disciplines.\\n',\n",
              " 'International law can refer to three things: public international law, private international law or conflict of laws and the law of supranational organisations.\\n',\n",
              " 'Constitutional and administrative law govern the affairs of the state. Constitutional law concerns both the relationships between the executive, legislature and judiciary and the human rights or civil liberties of individuals against the state. Most jurisdictions, like the United States and France, have a single codified constitution with a bill of rights. A few, like the United Kingdom, have no such document. A \"constitution\" is simply those laws which constitute the body politic, from statute, case law and convention. A case named Entick v Carrington[172] illustrates a constitutional principle deriving from the common law. Entick\\'s house was searched and ransacked by Sheriff Carrington. When Entick complained in court, Sheriff Carrington argued that a warrant from a Government minister, the Earl of Halifax, was valid authority. However, there was no written statutory provision or court authority. The leading judge, Lord Camden, stated:\\n',\n",
              " 'The great end, for which men entered into society, was to secure their property. That right is preserved sacred and incommunicable in all instances, where it has not been taken away or abridged by some public law for the good of the whole ... If no excuse can be found or produced, the silence of the books is an authority against the defendant, and the plaintiff must have judgment.[173]',\n",
              " \"The fundamental constitutional principle, inspired by John Locke, holds that the individual can do anything except that which is forbidden by law, and the state may do nothing except that which is authorised by law.[174][175] Administrative law is the chief method for people to hold state bodies to account. People can sue an agency, local council, public service, or government ministry for judicial review of actions or decisions, to ensure that they comply with the law, and that the government entity observed required procedure. The first specialist administrative court was the Conseil d'État set up in 1799, as Napoleon assumed power in France.[176]\\n\",\n",
              " 'A subdiscipline of constitutional law is election law. It deals with rules governing elections. These rules enable the translation of the will of the people into functioning democracies. Election law addresses issues who is entitled to vote, voter registration, ballot access, campaign finance and party funding, redistricting, apportionment, electronic voting and voting machines, accessibility of elections, election systems and formulas, vote counting, election disputes, referendums, and issues such as electoral fraud and electoral silence.\\n',\n",
              " 'Criminal law, also known as penal law, pertains to crimes and punishment.[177] It thus regulates the definition of and penalties for offences found to have a sufficiently deleterious social impact but, in itself, makes no moral judgment on an offender nor imposes restrictions on society that physically prevent people from committing a crime in the first place.[178][179] Investigating, apprehending, charging, and trying suspected offenders is regulated by the law of criminal procedure.[180] The paradigm case of a crime lies in the proof, beyond reasonable doubt, that a person is guilty of two things. First, the accused must commit an act which is deemed by society to be criminal, or actus reus (guilty act).[181] Second, the accused must have the requisite malicious intent to do a criminal act, or mens rea (guilty mind). However, for so called \"strict liability\" crimes, an actus reus is enough.[182] Criminal systems of the civil law tradition distinguish between intention in the broad sense (dolus directus and dolus eventualis), and negligence. Negligence does not carry criminal responsibility unless a particular crime provides for its punishment.[183][184]\\n',\n",
              " 'Examples of crimes include murder, assault, fraud and theft. In exceptional circumstances defences can apply to specific acts, such as killing in self defence, or pleading insanity. Another example is in the 19th-century English case of R v Dudley and Stephens, which tested a defence of \"necessity\". The Mignonette, sailing from Southampton to Sydney, sank. Three crew members and Richard Parker, a 17-year-old cabin boy, were stranded on a raft. They were starving and the cabin boy was close to death. Driven to extreme hunger, the crew killed and ate the cabin boy. The crew survived and were rescued, but put on trial for murder. They argued it was necessary to kill the cabin boy to preserve their own lives. Lord Coleridge, expressing immense disapproval, ruled, \"to preserve one\\'s life is generally speaking a duty, but it may be the plainest and the highest duty to sacrifice it.\" The men were sentenced to hang, but public opinion was overwhelmingly supportive of the crew\\'s right to preserve their own lives. In the end, the Crown commuted their sentences to six months in jail.[185]\\n',\n",
              " 'Criminal law offences are viewed as offences against not just individual victims, but the community as well.[178][179] The state, usually with the help of police, takes the lead in prosecution, which is why in common law countries cases are cited as \"The People v ...\" or \"R (for Rex or Regina) v ...\". Also, lay juries are often used to determine the guilt of defendants on points of fact: juries cannot change legal rules. Some developed countries still condone capital punishment for criminal activity, but the normal punishment for a crime will be imprisonment, fines, state supervision (such as probation), or community service. Modern criminal law has been affected considerably by the social sciences, especially with respect to sentencing, legal research, legislation, and rehabilitation.[186] On the international field, 111 countries are members of the International Criminal Court, which was established to try people for crimes against humanity.[187]\\n',\n",
              " 'Contract law concerns enforceable promises, and can be summed up in the Latin phrase pacta sunt servanda (agreements must be kept).[188] In common law jurisdictions, three key elements to the creation of a contract are necessary: offer and acceptance, consideration and the intention to create legal relations. In Carlill v Carbolic Smoke Ball Company a medical firm advertised that its new wonder drug, the smokeball, would cure people\\'s flu, and if it did not, the buyers would get £100. Many people sued for their £100 when the drug did not work. Fearing bankruptcy, Carbolic argued the advert was not to be taken as a serious, legally binding offer. It was an invitation to treat, mere puffery, a gimmick. But the Court of Appeal held that to a reasonable man Carbolic had made a serious offer, accentuated by their reassuring statement, \"£1000 is deposited\". Equally, people had given good consideration for the offer by going to the \"distinct inconvenience\" of using a faulty product. \"Read the advertisement how you will, and twist it about as you will\", said Lord Justice Lindley, \"here is a distinct promise expressed in language which is perfectly unmistakable\".[189]\\n',\n",
              " 'Consideration indicates the fact that all parties to a contract have exchanged something of value. Some common law systems, including Australia, are moving away from the idea of consideration as a requirement. The idea of estoppel or culpa in contrahendo, can be used to create obligations during pre-contractual negotiations.[190]\\n',\n",
              " 'Civil law jurisdictions treat contracts differently in a number of respects, with a more interventionist role for the state in both the formation and enforcement of contracts.[191] Compared to common law jurisdictions, civil law systems incorporate more mandatory terms into contracts, allow greater latitude for courts to interpret and revise contract terms and impose a stronger duty of good faith, but are also more likely to enforce penalty clauses and specific performance of contracts.[191] They also do not require consideration for a contract to be binding.[192] In France, an ordinary contract is said to form simply on the basis of a \"meeting of the minds\" or a \"concurrence of wills\". Germany has a special approach to contracts, which ties into property law. Their \\'abstraction principle\\' (Abstraktionsprinzip) means that the personal obligation of contract forms separately from the title of property being conferred. When contracts are invalidated for some reason (e.g. a car buyer is so drunk that he lacks legal capacity to contract)[193] the contractual obligation to pay can be invalidated separately from the proprietary title of the car. Unjust enrichment law, rather than contract law, is then used to restore title to the rightful owner.[194]\\n',\n",
              " \"Certain civil wrongs are grouped together as torts under common law systems and delicts under civil law systems.[195] To have acted tortiously, one must have breached a duty to another person, or infringed some pre-existing legal right. A simple example might be unintentionally hitting someone with a cricket ball.[196] Under the law of negligence, the most common form of tort, the injured party could potentially claim compensation for their injuries from the party responsible. The principles of negligence are illustrated by Donoghue v Stevenson.[j] A friend of Donoghue ordered an opaque bottle of ginger beer (intended for the consumption of Donoghue) in a café in Paisley. Having consumed half of it, Donoghue poured the remainder into a tumbler. The decomposing remains of a snail floated out. She claimed to have suffered from shock, fell ill with gastroenteritis and sued the manufacturer for carelessly allowing the drink to be contaminated. The House of Lords decided that the manufacturer was liable for Mrs Donoghue's illness. Lord Atkin took a distinctly moral approach and said:\\n\",\n",
              " \"The liability for negligence [...] is no doubt based upon a general public sentiment of moral wrongdoing for which the offender must pay. [...] The rule that you are to love your neighbour becomes in law, you must not injure your neighbour; and the lawyer's question, Who is my neighbour? receives a restricted reply. You must take reasonable care to avoid acts or omissions which you can reasonably foresee would be likely to injure your neighbour.[197]\",\n",
              " 'This became the basis for the four principles of negligence, namely that:\\n',\n",
              " \"Another example of tort might be a neighbour making excessively loud noises with machinery on his property.[198] Under a nuisance claim the noise could be stopped. Torts can also involve intentional acts such as assault, battery or trespass. A better known tort is defamation, which occurs, for example, when a newspaper makes unsupportable allegations that damage a politician's reputation.[199] More infamous are economic torts, which form the basis of labour law in some countries by making trade unions liable for strikes,[200] when statute does not provide immunity.[k]\\n\",\n",
              " 'Property law governs ownership and possession. Real property, sometimes called \\'real estate\\', refers to ownership of land and things attached to it.[202] Personal property, refers to everything else; movable objects, such as computers, cars, jewelry or intangible rights, such as stocks and shares. A right in rem is a right to a specific piece of property, contrasting to a right in personam which allows compensation for a loss, but not a particular thing back. Land law forms the basis for most kinds of property law, and is the most complex. It concerns mortgages, rental agreements, licences, covenants, easements and the statutory systems for land registration. Regulations on the use of personal property fall under intellectual property, company law, trusts and commercial law. An example of a basic case of most property law is Armory v Delamirie [1722].[203] A chimney sweep\\'s boy found a jewel encrusted with precious stones. He took it to a goldsmith to have it valued. The goldsmith\\'s apprentice looked at it, sneakily removed the stones, told the boy it was worth three halfpence and that he would buy it. The boy said he would prefer the jewel back, so the apprentice gave it to him, but without the stones. The boy sued the goldsmith for his apprentice\\'s attempt to cheat him. Lord Chief Justice Pratt ruled that even though the boy could not be said to own the jewel, he should be considered the rightful keeper (\"finders keepers\") until the original owner is found. In fact the apprentice and the boy both had a right of possession in the jewel (a technical concept, meaning evidence that something could belong to someone), but the boy\\'s possessory interest was considered better, because it could be shown to be first in time. Possession may be nine-tenths of the law, but not all.\\n',\n",
              " 'This case is used to support the view of property in common law jurisdictions, that the person who can show the best claim to a piece of property, against any contesting party, is the owner.[204] By contrast, the classic civil law approach to property, propounded by Friedrich Carl von Savigny, is that it is a right good against the world. Obligations, like contracts and torts, are conceptualised as rights good between individuals.[205] The idea of property raises many further philosophical and political issues. Locke argued that our \"lives, liberties and estates\" are our property because we own our bodies and mix our labour with our surroundings.[206]\\n',\n",
              " 'Equity is a body of rules that developed in England separately from the \"common law\". The common law was administered by judges and barristers. The Lord Chancellor on the other hand, as the King\\'s keeper of conscience, could overrule the judge-made law if he thought it equitable to do so.[207] This meant equity came to operate more through principles than rigid rules. Whereas neither the common law nor civil law systems allow people to split the ownership from the control of one piece of property, equity allows this through an arrangement known as a trust. Trustees control property whereas the beneficial, or equitable, ownership of trust property is held by people known as beneficiaries. Trustees owe duties to their beneficiaries to take good care of the entrusted property.[208] In the early case of Keech v Sandford [1722],[209] a child had inherited the lease on a market in Romford, London. Mr Sandford was entrusted to look after this property until the child matured. But before then, the lease expired. The landlord had (apparently) told Mr Sandford that he did not want the child to have the renewed lease. Yet the landlord was happy (apparently) to give Mr Sandford the opportunity of the lease instead. Mr Sandford took it. When the child (now Mr Keech) grew up, he sued Mr Sandford for the profit that he had been making by getting the market\\'s lease. Mr Sandford was meant to be trusted, but he put himself in a position of conflict of interest. The Lord Chancellor, Lord King, agreed and ordered Mr Sandford should disgorge his profits. He wrote: \"I very well see, if a trustee, on the refusal to renew, might have a lease to himself few trust-estates would be renewed. [...] This may seem very hard, that the trustee is the only person of all mankind who might not have the lease; but it is very proper that the rule should be strictly pursued and not at all relaxed.\"\\n',\n",
              " \"Lord King LC was worried that trustees might exploit opportunities to use trust property for themselves instead of looking after it. Business speculators using trusts had just recently caused a stock market crash. Strict duties for trustees made their way into company law and were applied to directors and chief executive officers. Another example of a trustee's duty might be to invest property wisely or sell it.[210] This is especially the case for pension funds, the most important form of trust, where investors are trustees for people's savings until retirement. But trusts can also be set up for charitable purposes, famous examples being the British Museum or the Rockefeller Foundation.\\n\",\n",
              " 'In the 18th century, Adam Smith presented a philosophical foundation for explaining the relationship between law and economics.[l] The discipline arose partly out of a critique of trade unions and U.S. antitrust law. The most influential proponents, such as Richard Posner and Oliver Williamson and the so-called Chicago School of economists and lawyers including Milton Friedman and Gary Becker, are generally advocates of deregulation and privatisation, and are hostile to state regulation or what they see as restrictions on the operation of free markets.[215]\\n',\n",
              " 'The most prominent economic analyst of law is 1991 Nobel Prize winner Ronald Coase, whose first major article, The Nature of the Firm (1937), argued that the reason for the existence of firms (companies, partnerships, etc.) is the existence of transaction costs.[216] Rational individuals trade through bilateral contracts on open markets until the costs of transactions mean that using corporations to produce things is more cost-effective. His second major article, The Problem of Social Cost (1960), argued that if we lived in a world without transaction costs, people would bargain with one another to create the same allocation of resources, regardless of the way a court might rule in property disputes.[217] Coase used the example of a nuisance case named Sturges v Bridgman, where a noisy sweetmaker and a quiet doctor were neighbours and went to court to see who should have to move.[198] Coase said that regardless of whether the judge ruled that the sweetmaker had to stop using his machinery, or that the doctor had to put up with it, they could strike a mutually beneficial bargain about who moves that reaches the same outcome of resource distribution. Only the existence of transaction costs may prevent this.[218] So the law ought to pre-empt what would happen, and be guided by the most efficient solution. The idea is that law and regulation are not as important or effective at helping people as lawyers and government planners believe.[219] Coase and others like him wanted a change of approach, to put the burden of proof for positive effects on a government that was intervening in the market, by analysing the costs of action.[220]\\n',\n",
              " \"The sociology of law examines the interaction of law with society and overlaps with jurisprudence, philosophy of law, social theory and more specialised subjects such as criminology.[221][222] It is a transdisciplinary and multidisciplinary study focused on the theorisation and empirical study of legal practices and experiences as social phenomena. The institutions of social construction, social norms, dispute processing and legal culture are key areas for inquiry in this knowledge field. In the United States, the field is usually called law and society studies; in Europe, it is more often referred to as socio-legal studies. At first, jurists and legal philosophers were suspicious of sociology of law. Kelsen attacked one of its founders, Eugen Ehrlich, who sought to make clear the differences and connections between positive law, which lawyers learn and apply, and other forms of 'law' or social norms that regulate everyday life, generally preventing conflicts from reaching lawyers and courts.[223] Contemporary research in the sociology of law is concerned with the way that law develops outside discrete state jurisdictions, being produced through social interaction in social arenas, and acquiring a diversity of sources of authority in national and transnational communal networks.[224]\\n\",\n",
              " 'Around 1900, Max Weber defined his \"scientific\" approach to law, identifying the \"legal rational form\" as a type of domination, not attributable to personal authority but to the authority of abstract norms.[225] Formal legal rationality was his term for the key characteristic of the kind of coherent and calculable law that was a precondition for modern political developments and the modern bureaucratic state. Weber saw this law as having developed in parallel with the growth of capitalism.[221][222] Another leading sociologist, Émile Durkheim, wrote in his classic work The Division of Labour in Society that as society becomes more complex, the body of civil law concerned primarily with restitution and compensation grows at the expense of criminal laws and penal sanctions.[226][227] Other notable early legal sociologists included Hugo Sinzheimer, Theodor Geiger, Georges Gurvitch and Leon Petrażycki in Europe, and William Graham Sumner in the U.S.[228][229]\\n',\n",
              " '\\n',\n",
              " 'A federation (also known as a federal state) is a political entity characterized by a union of partially self-governing provinces, states, or other regions under a central federal government (federalism). In a federation, the self-governing status of the component states, as well as the division of power between them and the central government, is constitutionally entrenched and may not be altered by a unilateral decision, neither by the component states nor the federal political body. Alternatively, a federation is a form of government in which sovereign power is formally divided between a central authority and a number of constituent regions so that each region retains some degree of control over its internal affairs.[citation needed]\\n',\n",
              " 'It is often argued that federal states where the central government has overriding powers are not truly federal states. For example, such overriding powers may include: the constitutional authority to suspend a constituent state\\'s government by invoking gross mismanagement or civil unrest, or to adopt national legislation that overrides or infringes on the constituent states\\' powers by invoking the central government\\'s constitutional authority to ensure \"peace and good government\" or to implement obligations contracted under an international treaty.[citation needed]\\n',\n",
              " 'The governmental or constitutional structure found in a federation is considered to be federalist, or to be an example of federalism. It can be considered the opposite of another system, the unitary state. France and Japan, for example, have been unitary for many centuries.\\nThe Austrian Empire was a unitary state with crown lands, after the transformation into the Austria-Hungary monarchy the remaining crown lands of so-called Cisleithania became federated as Länder of the Republic of Austria through the implementation of its constitution. Germany, with its 16 states, or Länder, and Nigeria, with its 36 states and federal capital territory, are examples of federations. Federations are often multi-ethnic and cover a large area of territory (such as Russia, the United States, Canada, India, Brazil or Australia), but neither is necessarily the case (such as Saint Kitts and Nevis or the Federated States of Micronesia).[citation needed]\\n',\n",
              " 'Several ancient chiefdoms and kingdoms, such as the 4th-century BCE League of Corinth, Noricum in Central Europe, and the Iroquois Confederacy in pre-Columbian North America, could be described as federations or confederations. The Old Swiss Confederacy was an early example of formal non-unitary statehood.[citation needed]\\n',\n",
              " 'Several colonies and dominions in the New World consisted of autonomous provinces, transformed into federal states upon independence such as the United States, and various countries in Latin America (see Spanish American wars of independence). Some of the New World federations failed; the Federal Republic of Central America broke up into independent states less than 20 years after its founding. Others, such as Argentina, have shifted between federal, confederal, and unitary systems, before settling into federalism. Brazil became a federation only after the fall of the monarchy, and Venezuela became a federation after the Federal War. Australia and Canada are also federations.\\n',\n",
              " 'Germany is another nation-state that has switched between confederal, federal and unitary rules, since the German Confederation was founded in 1815. The North German Confederation, the succeeding German Empire and the Weimar Republic were federations.\\n',\n",
              " 'Founded in 1922, the Soviet Union was formally a federation of Soviet republics, autonomous republics and other federal subjects, though in practice highly centralized under the government of the Soviet Union. The Russian Federation has inherited a similar system.\\n',\n",
              " 'India, Pakistan, Nigeria and Malaysia (then Federation of Malaya) became federations on or shortly before becoming independent from the British Empire.\\n',\n",
              " 'In some recent cases, federations have been instituted as a measure to handle ethnic conflict within a state, such as Bosnia and Herzegovina, and Iraq since 2005 as well as Somalia since 2012\\n',\n",
              " 'With the United States Constitution having become effective on 4 March 1789, the United States is the oldest surviving federation, while the newest federation is Nepal, after its constitution went into effect on 20 September 2015.\\n',\n",
              " 'Currently, or as of 2023, there are 27 federations or federal countries.[citation needed]\\n',\n",
              " 'The component states are in some sense sovereign, insofar as certain powers are reserved to them that may not be exercised by the central government. However, a federation is more than a mere loose alliance of independent states. The component states of a federation usually possess no powers in relation to foreign policy and so enjoy no independent status under international law. However, German Länder have that power,[1] which is beginning to be exercised on a European level.\\n',\n",
              " 'Some federations are called asymmetric because some states have more autonomy than others. An example of such a federation is Malaysia, in which Sarawak and Sabah agreed to form the federation on different terms and conditions from the states of Peninsular Malaysia.[citation needed]\\n',\n",
              " 'A federation often emerges from an initial agreement between several separate states. The purpose can be the will to solve mutual problems and to provide for mutual defense or to create a nation-state for an ethnicity spread over several states. The former was the case with the United States and Switzerland. However, as the histories of countries and nations vary, the federalist system of a state can be quite different from these models. Australia, for instance, is unique in that it came into existence as a nation by the democratic vote of the citizens of each state, who voted \"yes\" in referendums to adopt the Australian Constitution. Brazil, on the other hand, has experienced both the federal and the unitary state during its history. Some present-day states of the Brazilian federation retain borders set during the Portuguese colonization (before the very existence of the Brazilian state), whereas the latest state, Tocantins, was created by the 1988 Constitution for chiefly administrative reasons.\\n',\n",
              " 'Seven of the top eight largest countries by area are governed as federations.\\n',\n",
              " 'A unitary state is sometimes one with only a single, centralized, national tier of government. However, unitary states often also include one or more self-governing regions. The difference between a federation and this kind of unitary state is that in a unitary state the autonomous status of self-governing regions exists by the sufferance of the central government, and may be unilaterally revoked. While it is common for a federation to be brought into being by agreement between a number of formally independent states, in a unitary state self-governing regions are often created through a process of devolution, where a formerly centralized state agrees to grant autonomy to a region that was previously entirely subordinate. Thus, federations are often established voluntarily from \"below\" whereas devolution grants self-government from \"above\".\\n',\n",
              " 'A confederation, in modern political terms, is usually limited to a permanent union of sovereign states for common action in relation to other states.[2] The closest entity in the world to a confederation at this time is the European Union. While the word confederation was officially used when the Canadian federal system was established in 1867, the term refers only to the process and not the resulting state since Canadian provinces are not sovereign and do not claim to be. In the case of Switzerland, while the country is still known officially as the Swiss Confederation, this is now a misnomer since the Swiss cantons lost their sovereign status in 1848.[3]\\n',\n",
              " \"In Belgium, however, the opposite movement is underway.[4] Belgium was founded as a centralized state, after the French model, but has gradually been reformed into a federal state by consecutive constitutional reforms since the 1970s. Moreover, although nominally called a federal state, the country's structure already has a number of confederational traits. At present, there is a growing movement to transform the existing federal state into a looser confederation with two or three constitutive states and/or two special regions.[5]\\n\",\n",
              " 'A confederation is most likely to feature three differences when contrasted with a federation: (1) No real direct powers: many confederal decisions are externalized by member-state legislation; (2) Decisions on day-to-day-matters are not taken by simple majority but by special majorities or even by consensus or unanimity (veto for every member); (3) Changes of the constitution, usually a treaty, require unanimity.\\n',\n",
              " 'Over time these terms acquired distinct connotations leading to the present difference in definition. An example of this is the United States under the Articles of Confederation. The Articles established a national government under what today would be defined as a federal system (albeit with a comparatively weaker federal government). However, Canadians, designed with a stronger central government than the U.S. in the wake of the Civil War of the latter, use the term \"Confederation\" to refer to the formation or joining, not the structure, of Canada. Legal reforms, court rulings, and political compromises have decentralized Canada in practice since its formation in 1867.\\n',\n",
              " 'An empire is a multi-ethnic state, multinational state, or a group of nations with a central government established usually through coercion (on the model of the Roman Empire). An empire often includes self-governing regions, but these will possess autonomy only at the sufferance of the central government. On the other hand, a political entity that is an empire in name, may comprise several partly autonomous kingdoms organised together in a federation, with the empire being ruled over by an emperor or senior king (great king, high king, king of kings...). One example of this was the German Empire (1871–1918).\\n',\n",
              " 'A federacy[6] is a unitary state that incorporates one or more self-governing autonomous areas. It is distinguished from a federation in that the constitutional structure of the state is still unitary, but incorporates federalist principles. Some federacies, notably Åland, were established through international treaty.\\n',\n",
              " 'A federation differs from a devolved state, such as Indonesia and the United Kingdom, because, in a devolved state, the central government can revoke the independence of the subunits (Scottish Parliament, the Senedd and the Northern Ireland Assembly in the case of the United Kingdom) without changing the constitution. In some cases, such as the Autonomous communities of Spain, devolution has led to federation in all but name, or \"federation without federalism\".[7]\\n',\n",
              " 'The relation between the Crown Dependencies of the Isle of Man and the bailiwicks of Guernsey and Jersey in the Channel Islands and the United Kingdom is very similar to a federate relation: the Islands enjoy independence from the United Kingdom, which, via The Crown, takes care of their foreign relations and defense – although the UK Parliament does have overall power to legislate for the dependencies. However, the islands are neither an incorporated part of the United Kingdom nor are they considered to be independent or associated states. The islands do not have a monarch, per se; rather in the Isle of Man the British Monarch is, ex officio, Lord of Mann, and in the Bailiwicks of Guernsey and Jersey, the British Monarch rules as the Duke of Normandy.\\n',\n",
              " 'Dependent territories, such as the British overseas territories, are vested with varying degrees of power; some enjoy considerable independence from the sovereign state, which only takes care of their foreign relations and defense. However, they are neither considered to be part of it nor recognized as sovereign or associated states.\\n',\n",
              " 'The distinction between a federation and a unitary state is often quite ambiguous. A unitary state may closely resemble a federation in structure and, while a central government may possess the theoretical right to revoke the autonomy of a self-governing region, it may be politically difficult for it to do so in practice. The self-governing regions of some unitary states also often enjoy greater autonomy than those of some federations. For these reasons, it is sometimes argued that some modern unitary states are de facto federations.[8]\\n',\n",
              " 'De facto federations, or quasi-federations, are often termed \"regional states\".\\n',\n",
              " 'Spain is suggested as one possible de facto federation[9] as it grants more self-government to its autonomous communities[10][11] than are retained by the constituent entities of most federations.[12] For the Spanish parliament to revoke the autonomy of regions such as Galicia, Catalonia or the Basque Country would be a political near-impossibility, though nothing bars it legally. The Spanish parliament has, however, suspended the autonomy of Catalonia in response to the Catalan declaration of independence, in the lead-up to the 2017 Catalan election.[13] Additionally, some autonomies such as Navarre or the Basque Country have full control over taxation and spending, transferring a payment to the central government for the common services (military, foreign relations, macroeconomic policy). For example, scholar Enrique Guillén López discusses the \"federal nature of Spain\\'s government (a trend that almost no one denies).\"[14] Each autonomous community is governed by a Statute of Autonomy (Estatuto de Autonomía) under the Spanish Constitution of 1978.\\n',\n",
              " 'Although South Africa bears some elements of a federal system, such as the allocation of certain powers to provinces, it is nevertheless constitutionally and functionally a unitary state.[15]\\n',\n",
              " 'The European Union (EU) is a sui generis political union or confederation (the assemblage of societies or an association of two or more states into one state).[16] Robert Schuman, the initiator of the European Community system, wrote that a transnational Community like the founding of the European Coal and Steel Community lay midway between an association of States where they retained complete independence and a federation leading to a fusion of States in a super-state.[17] The Founding Fathers of the European Union wrote the Europe Declaration (Charter of the Community) at the time of the signing of the Treaty of Paris on 18 April 1951 saying that Europe should be organized on a transnational foundation. They envisaged a structure quite different from a federation called the European Political Community.[citation needed]\\n',\n",
              " \"The EU is a three-pillar structure of the original supranational European Economic Community and the nuclear energy cooperation and non-proliferation treaty, Euratom, plus two largely intergovernmental pillars dealing with External Affairs and Justice and Home Affairs. The EU is therefore not a de jure federation, although some[who?] academic observers conclude that after 50 years of institutional evolution since the Treaties of Rome it is becoming one.[18] The European Union possesses attributes of a federal state. However, its central government is far weaker than that of most federations and the individual members are sovereign states under international law, so it is usually characterized as an unprecedented form of supra-national union. The EU has responsibility for important areas such as trade, monetary union, agriculture, and fisheries. Nonetheless, EU member states retain the right to act independently in matters of foreign policy and defense, and also enjoy a near-monopoly over other major policy areas such as criminal justice and taxation. Since the Treaty of Lisbon, the Member States' right to leave the Union is codified, and the Union operates with more qualified majority voting (rather than unanimity) in many areas.[citation needed]\\n\",\n",
              " 'By the signature of this Treaty, the participating Parties give proof of their determination to create the first supranational institution and that thus they are laying the true foundation of an organized Europe. This Europe remains open to all nations. We profoundly hope that other nations will join us in our common endeavor.',\n",
              " 'Europe has charted its own brand of constitutional federalism.',\n",
              " 'Those uncomfortable using the \"F\" word in the EU context should feel free to refer to it as a quasi-federal or federal-like system. Nevertheless, for the purposes of the analysis here, the EU has the necessary attributes of a federal system. It is striking that while many scholars of the EU continue to resist analyzing it as a federation, most contemporary students of federalism view the EU as a federal system. (See, for instance, Bednar, Filippov et al., McKay, Kelemen, Defigueido and Weingast)',\n",
              " \"A more nuanced view has been given by the German Constitutional Court.[20] Here the EU is defined as 'an association of sovereign national states (Staatenverbund)'.[21] With this view, the European Union resembles more of a confederation.\\n\",\n",
              " 'Constitutionally, the power vested in the special administrative regions of the People\\'s Republic is granted from the Central People\\'s Government, through a decision by the National People\\'s Congress. However, there have been certain largely informal grants of power to the provinces, to handle economic affairs and implement national policies, resulting in a system some have termed federalism \"with Chinese characteristics\".[22]\\n',\n",
              " 'Constitutionally a unitary state, the political system in Myanmar bears many elements of federalism. Each administrative division has its own cabinets and chief ministers, making it more like a federation rather than a unitary state.\\n',\n",
              " 'The French overseas collectivity Wallis and Futuna maintains some quasi-federation attributes. The territory is divided into three traditional chiefdoms: Uvea, Sigave, and Alo. The chiefdoms are allowed to have their own legal system which have to be implemented along with French legal system.\\n',\n",
              " 'Certain forms of political and constitutional dispute are common to federations. One issue is that the exact division of power and responsibility between federal and regional governments is often a source of controversy. Often, as is the case with the United States, such conflicts are resolved through the judicial system, which delimits the powers of federal and local governments. The relationship between federal and local courts varies from nation to nation and can be a controversial and complex issue in itself.\\n',\n",
              " \"Another common issue in federal systems is the conflict between regional and national interests, or between the interests and aspirations of different ethnic groups. In some federations the entire jurisdiction is relatively homogeneous and each constituent state resembles a miniature version of the whole; this is known as 'congruent federalism'. On the other hand, incongruent federalism exists where different states or regions possess distinct ethnic groups.\\n\",\n",
              " 'The ability of a federal government to create national institutions that can mediate differences that arise because of linguistic, ethnic, religious, or other regional differences is an important challenge. The inability to meet this challenge may lead to the secession of parts of a federation or to civil war, as occurred in the United States (southern states sought to protect the institution of slavery while northern states opposed it, with a catalysis occurring in the then–Kansas Territory), in Nigeria and in Switzerland. In the case of Malaysia, Singapore was expelled from the federation because of rising racial tension. In some cases, internal conflict may lead a federation to collapse entirely, as occurred the Federation of Rhodesia and Nyasaland, the Gran Colombia, the United Provinces of Central America, and the West Indies Federation.\\n',\n",
              " 'The federal government is the common government of a national or supranational federation. A federal government may have distinct powers at various levels authorized or delegated to it by its member states. The structure of federal governments vary. Based on a broad definition of a basic federalism, there are two or more levels of government that exist within an established territory and govern through common institutions with overlapping or shared powers as prescribed by a constitution.\\n',\n",
              " 'The federal government is the government at the level of the sovereign state. Usual responsibilities of this level of government are maintaining national security and exercising international diplomacy, including the right to sign binding treaties. Basically, a modern federal government, within the limits defined by its constitution, has the power to make laws for the whole country, unlike local governments. As originally written, the United States Constitution was created to limit the federal government from exerting power over the states by enumerating only specific powers. It was further limited by the addition of the Tenth Amendment contained in the Bill of Rights and the Eleventh Amendment. However, later amendments, particularly the Fourteenth Amendment, gave the federal government considerable authority over states.\\n',\n",
              " 'Federal government within this structure are the government ministries and departments and agencies to which the ministers of government are assigned.\\n',\n",
              " '[23]\\n',\n",
              " 'There are 27 federations in the world, with 6 each in Africa, Asia and Europe, 4 in North America, 3 in South America and 2 in Oceania.\\n',\n",
              " 'Some of the proclaimed Arab federations were confederations de facto.\\n',\n",
              " 'In law, a trial is a coming together of parties to a dispute, to present information (in the form of evidence) in a tribunal, a formal setting with the authority to adjudicate claims or disputes. One form of tribunal is a court. The tribunal, which may occur before a judge, jury, or other designated trier of fact, aims to achieve a resolution to their dispute.\\n',\n",
              " 'Where the trial is held before a group of members of the community, it is called a jury trial. Where the trial is held solely before a judge, it is called a bench trial.\\n',\n",
              " 'Hearings before administrative bodies may have many of the features of a trial before a court, but are typically not referred to as trials. An appeal (appellate proceeding) is also generally not deemed a trial, because such proceedings are usually restricted to a review of the evidence presented before the trial court, and do not permit the introduction of new evidence.\\n',\n",
              " 'Trials can also be divided by the type of dispute at issue.\\n',\n",
              " 'A criminal trial is designed to resolve accusations brought (usually by a government) against a person accused of a crime. In common law systems, most criminal defendants are entitled to a trial held before a jury. Because the state is attempting to use its power to deprive the accused of life, liberty, or property, the rights of the accused afforded to criminal defendants are typically broad. The rules of criminal procedure provide rules for criminal trials.\\n',\n",
              " 'A civil trial is generally held to settle lawsuits or civil claims—non-criminal disputes. In some countries, the government can both sue and be sued in a civil capacity. The rules of civil procedure provide rules for civil trials.\\n',\n",
              " 'Although administrative hearings are not ordinarily considered trials, they retain many elements found in more \"formal\" trial settings. When the dispute goes to a judicial setting, it is called an administrative trial, to revise the administrative hearing, depending on the jurisdiction. The types of disputes handled in these hearings are governed by administrative law and auxiliarily by civil trial law.\\n',\n",
              " \"Labor law (also known as employment law) is the body of laws, administrative rulings, and precedents which address the legal rights of, and restrictions on, working people and their organizations. As such, it mediates many aspects of the relationship between trade unions/labor unions, employers and employees. In Canada, employment laws related to unionized workplaces are differentiated from those relating to particular individuals. In most countries, however, no such distinction is made. However, there are two broad categories of labour law. First, collective labour law relates to the tripartite relationship between employee, employer and union. Second, individual labour law concerns employees' rights at work and through the contract for work. The labour movement has been instrumental in the enacting of laws protecting labour rights in the 19th and 20th centuries. Labour rights have been integral to social and economic development since the Industrial Revolution.\\n\",\n",
              " 'There are two primary systems for conducting a trial.\\n',\n",
              " \"In common law systems, an adversarial or accusatory approach is used to adjudicate guilt or innocence. The assumption is that the truth is more likely to emerge from the open contest between the prosecution and the defense in presenting the evidence and opposing legal arguments, with a judge acting as a neutral referee and as the arbiter of the law. In several jurisdictions in more serious cases, there is a jury to determine the facts, although some common law jurisdictions have abolished the jury trial. This polarizes the issues, with each competitor acting in its own self-interest, and so presenting the facts and interpretations of the law in a deliberately biased way. The intention is that through a process of argument and counter-argument, examination-in-chief and cross-examination, each side will test the truthfulness, relevancy, and sufficiency of the opponent's evidence and arguments. To maintain fairness, there is a presumption of innocence, and the burden of proof lies on the prosecution. Critics of the system argue that the desire to win is more important than the search for truth. Further, the results are likely to be affected by structural inequalities. Those defendants with resources can afford to hire the best lawyers.  Some trials are—or were—of a more summary nature, as certain questions of evidence were taken as resolved (see handhabend and backberend).\\n\",\n",
              " \"In civil law legal systems, the responsibility for supervising the investigation by the police into whether a crime has been committed falls on an examining magistrate or judge who then conducts the trial. The assumption is that the truth is more likely to emerge from an impartial and exhaustive investigation, both before and during the trial itself. The examining magistrate or judge acts as an inquisitor who directs the fact-gathering process by questioning witnesses, interrogating the suspect, and collecting other evidence. The lawyers who represent the interests of the state and the accused have a limited role to offer legal arguments and alternative interpretations to the facts that emerge during the process. All the interested parties are expected to cooperate in the investigation by answering the magistrate or judge's questions and, when asked, supplying all relevant evidence. The trial only takes place after all the evidence has been collected and the investigation is completed. Thus, most of the factual uncertainties will already be resolved, and the examining magistrate or judge will already have resolved that there is prima facie of guilt. Critics argue that the examining magistrate or judge has too much power with the responsibilities of both investigating and adjudicating on the merits of the case. Although lay assessors do sit as a form of jury to offer advice to the magistrate or judge at the conclusion of the trial, their role is subordinate. Further, because a professional has been in charge of all aspects of the case to the conclusion of the trial, there are fewer opportunities to appeal the conviction alleging some procedural error.\\n\",\n",
              " 'A judge may cancel a trial prior to the return of a verdict; legal parlance designates this as a \"mistrial\".\\n',\n",
              " 'A judge may declare a mistrial due to:\\n',\n",
              " 'Either side may submit a motion for a mistrial; on occasion, the presiding judge may declare one on a motion of their own. If a mistrial is declared, the case at hand may be retried at the discretion of the plaintiff or prosecution, as long as double jeopardy does not bar that party from doing so.\\n',\n",
              " 'Some other kinds of processes for resolving conflicts are also expressed as trials. For example, the United States Constitution requires that, following the impeachment of the president, a judge, or another federal officer by the House of Representatives, the subject of the impeachment may only be removed from office by an impeachment trial in the Senate.\\n',\n",
              " 'In earlier times, disputes were often settled through a trial by ordeal, where parties would have to endure physical suffering in order to prove their righteousness; or through a trial by combat, in which the winner of a physical fight was deemed righteous in their cause.\\n',\n",
              " '\\n']"
            ]
          },
          "metadata": {},
          "execution_count": 13
        }
      ],
      "source": [
        "docs"
      ]
    },
    {
      "cell_type": "markdown",
      "metadata": {
        "id": "okFz5r9Vj7sp"
      },
      "source": [
        "## Generating the files\n",
        "\n"
      ]
    },
    {
      "cell_type": "markdown",
      "source": [
        "*We have to shuffle the data to learn only from context.*\n",
        "\n",
        "\n"
      ],
      "metadata": {
        "id": "I_LKyWo_pC6y"
      }
    },
    {
      "cell_type": "code",
      "execution_count": 14,
      "metadata": {
        "id": "HsFIAm91j7sp"
      },
      "outputs": [],
      "source": [
        "random.shuffle(docs)"
      ]
    },
    {
      "cell_type": "code",
      "execution_count": 15,
      "metadata": {
        "id": "wutd2-w8j7sp",
        "colab": {
          "base_uri": "https://localhost:8080/"
        },
        "outputId": "41179b2d-7beb-4e6a-eefb-1538d90c5a09"
      },
      "outputs": [
        {
          "output_type": "execute_result",
          "data": {
            "text/plain": [
              "220"
            ]
          },
          "metadata": {},
          "execution_count": 15
        }
      ],
      "source": [
        "len(docs)"
      ]
    },
    {
      "cell_type": "code",
      "execution_count": 16,
      "metadata": {
        "id": "-pe-Vz5FMjfU"
      },
      "outputs": [],
      "source": [
        "#saving\n",
        "with open(\"docs.txt\", \"w\") as f:\n",
        "    f.write(\"\\n\".join(docs))"
      ]
    },
    {
      "cell_type": "markdown",
      "metadata": {
        "id": "GmBiuC0-j7sq"
      },
      "source": [
        "## Modeling and Tokenization\n",
        "\n",
        "\n",
        "ref = https://huggingface.co/bert-base-uncased\n",
        "\n"
      ]
    },
    {
      "cell_type": "code",
      "execution_count": 17,
      "metadata": {
        "id": "S5Rb2-dTj7sq",
        "colab": {
          "base_uri": "https://localhost:8080/"
        },
        "outputId": "77f1be00-f4bf-4f10-fe33-5eb108f02056"
      },
      "outputs": [
        {
          "output_type": "stream",
          "name": "stdout",
          "text": [
            "env: TF_ENABLE_ONEDNN_OPTS=0\n"
          ]
        }
      ],
      "source": [
        "%env TF_ENABLE_ONEDNN_OPTS=0"
      ]
    },
    {
      "cell_type": "markdown",
      "source": [
        "By default, tensorflow sees if the environment is optimized, this silences it."
      ],
      "metadata": {
        "id": "K4nZSUdzpso-"
      }
    },
    {
      "cell_type": "markdown",
      "source": [
        "### Model Imports"
      ],
      "metadata": {
        "id": "s_bTN5q9qXH7"
      }
    },
    {
      "cell_type": "code",
      "source": [
        "model = AutoModelForMaskedLM.from_pretrained(\"bert-base-uncased\")"
      ],
      "metadata": {
        "colab": {
          "base_uri": "https://localhost:8080/"
        },
        "id": "-CmAEforp9DC",
        "outputId": "0a0d70f6-fb5d-4986-90dc-d5059523abde"
      },
      "execution_count": 73,
      "outputs": [
        {
          "output_type": "stream",
          "name": "stderr",
          "text": [
            "Some weights of the model checkpoint at bert-base-uncased were not used when initializing BertForMaskedLM: ['bert.pooler.dense.bias', 'bert.pooler.dense.weight', 'cls.seq_relationship.bias', 'cls.seq_relationship.weight']\n",
            "- This IS expected if you are initializing BertForMaskedLM from the checkpoint of a model trained on another task or with another architecture (e.g. initializing a BertForSequenceClassification model from a BertForPreTraining model).\n",
            "- This IS NOT expected if you are initializing BertForMaskedLM from the checkpoint of a model that you expect to be exactly identical (initializing a BertForSequenceClassification model from a BertForSequenceClassification model).\n"
          ]
        }
      ]
    },
    {
      "cell_type": "code",
      "execution_count": 75,
      "metadata": {
        "id": "09NG4C6AMjfU"
      },
      "outputs": [],
      "source": [
        "\n",
        "tokenizer = AutoTokenizer.from_pretrained(\"bert-base-uncased\")"
      ]
    },
    {
      "cell_type": "markdown",
      "source": [
        "\n",
        "### Tokenization\n",
        "\n",
        "\n",
        "\n"
      ],
      "metadata": {
        "id": "2XoLs4YNqHHc"
      }
    },
    {
      "cell_type": "code",
      "execution_count": 20,
      "metadata": {
        "id": "KtiSlhpVMjfU"
      },
      "outputs": [],
      "source": [
        "def tokenize_function(examples):\n",
        "    return tokenizer(examples[\"text\"], padding = \"max_length\", truncation = True)"
      ]
    },
    {
      "cell_type": "code",
      "execution_count": 76,
      "metadata": {
        "id": "WbaUesTwMjfU"
      },
      "outputs": [],
      "source": [
        "try:\n",
        "    with open('docs.txt', 'r') as file:\n",
        "        data = file.readlines()\n",
        "    dataset = Dataset.from_dict({'text': data})\n",
        "except FileNotFoundError:\n",
        "    print(\"The file was not found.\")"
      ]
    },
    {
      "cell_type": "code",
      "execution_count": 23,
      "metadata": {
        "id": "AjLJVclVMjfU",
        "colab": {
          "base_uri": "https://localhost:8080/",
          "height": 49,
          "referenced_widgets": [
            "02db06d71be042329042c262c600f6f6",
            "fda454cb3f8e486d9c8bcff8065cc0de",
            "7f077ac0afa548ac9879e3d79961adc4",
            "0fdc62c0dd994bfc8f42b42e0229f27f",
            "eb9ecd354fd1458488aed68bfb7e1dd7",
            "fab6ac621fde4dd3b38ed8e0defc3316",
            "345ca18543d040cd84b463dca281fa68",
            "b9b380a63f7c4ad19099c6119e456726",
            "144d2be6b2ea4cbd8c92200c2e7db9a1",
            "4e4af82fa71c4d118ffb3d1ad1220cad",
            "d15679bc16df4b43b925bf02372101cf"
          ]
        },
        "outputId": "12800e33-452c-4cb3-b652-f5320e99474b"
      },
      "outputs": [
        {
          "output_type": "display_data",
          "data": {
            "text/plain": [
              "Map (num_proc=4):   0%|          | 0/433 [00:00<?, ? examples/s]"
            ],
            "application/vnd.jupyter.widget-view+json": {
              "version_major": 2,
              "version_minor": 0,
              "model_id": "02db06d71be042329042c262c600f6f6"
            }
          },
          "metadata": {}
        }
      ],
      "source": [
        "tokenized_dataset = dataset.map(tokenize_function, batched = True, num_proc = 4, remove_columns = [\"text\"])"
      ]
    },
    {
      "cell_type": "markdown",
      "source": [
        "#### Formatting the data"
      ],
      "metadata": {
        "id": "FxbzBP7pq2i3"
      }
    },
    {
      "cell_type": "code",
      "execution_count": 24,
      "metadata": {
        "id": "gCGMgeUUMjfU"
      },
      "outputs": [],
      "source": [
        "tokenized_dataset.set_format(type = 'torch', columns = ['input_ids', 'attention_mask'])"
      ]
    },
    {
      "cell_type": "code",
      "execution_count": 25,
      "metadata": {
        "id": "aATdbYVXj7sq",
        "colab": {
          "base_uri": "https://localhost:8080/"
        },
        "outputId": "83b60ef3-9958-42dd-931d-004efb306d67"
      },
      "outputs": [
        {
          "output_type": "execute_result",
          "data": {
            "text/plain": [
              "Dataset({\n",
              "    features: ['input_ids', 'token_type_ids', 'attention_mask'],\n",
              "    num_rows: 433\n",
              "})"
            ]
          },
          "metadata": {},
          "execution_count": 25
        }
      ],
      "source": [
        "tokenized_dataset"
      ]
    },
    {
      "cell_type": "markdown",
      "source": [
        "#### DataLoader"
      ],
      "metadata": {
        "id": "PC6f59vtsKbm"
      }
    },
    {
      "cell_type": "code",
      "execution_count": 26,
      "metadata": {
        "id": "Tr1HfVLxMjfV"
      },
      "outputs": [],
      "source": [
        "dl_docs = DataLoader(tokenized_dataset, shuffle = True, batch_size = 8)"
      ]
    },
    {
      "cell_type": "markdown",
      "source": [
        "#### Optimizer"
      ],
      "metadata": {
        "id": "ue8edkgWs2kl"
      }
    },
    {
      "cell_type": "code",
      "execution_count": 27,
      "metadata": {
        "id": "xtk5eqBJMjfV"
      },
      "outputs": [],
      "source": [
        "optimizer = torch.optim.AdamW(model.parameters(), lr = 5e-5)"
      ]
    },
    {
      "cell_type": "markdown",
      "source": [
        "#### Structure"
      ],
      "metadata": {
        "id": "PlyVuXkRs5bQ"
      }
    },
    {
      "cell_type": "code",
      "execution_count": 28,
      "metadata": {
        "id": "EQ27rswdj7sq",
        "colab": {
          "base_uri": "https://localhost:8080/"
        },
        "outputId": "cd8572ce-bd35-4e77-a571-67844f7a2d77"
      },
      "outputs": [
        {
          "output_type": "execute_result",
          "data": {
            "text/plain": [
              "BertForMaskedLM(\n",
              "  (bert): BertModel(\n",
              "    (embeddings): BertEmbeddings(\n",
              "      (word_embeddings): Embedding(30522, 768, padding_idx=0)\n",
              "      (position_embeddings): Embedding(512, 768)\n",
              "      (token_type_embeddings): Embedding(2, 768)\n",
              "      (LayerNorm): LayerNorm((768,), eps=1e-12, elementwise_affine=True)\n",
              "      (dropout): Dropout(p=0.1, inplace=False)\n",
              "    )\n",
              "    (encoder): BertEncoder(\n",
              "      (layer): ModuleList(\n",
              "        (0-11): 12 x BertLayer(\n",
              "          (attention): BertAttention(\n",
              "            (self): BertSelfAttention(\n",
              "              (query): Linear(in_features=768, out_features=768, bias=True)\n",
              "              (key): Linear(in_features=768, out_features=768, bias=True)\n",
              "              (value): Linear(in_features=768, out_features=768, bias=True)\n",
              "              (dropout): Dropout(p=0.1, inplace=False)\n",
              "            )\n",
              "            (output): BertSelfOutput(\n",
              "              (dense): Linear(in_features=768, out_features=768, bias=True)\n",
              "              (LayerNorm): LayerNorm((768,), eps=1e-12, elementwise_affine=True)\n",
              "              (dropout): Dropout(p=0.1, inplace=False)\n",
              "            )\n",
              "          )\n",
              "          (intermediate): BertIntermediate(\n",
              "            (dense): Linear(in_features=768, out_features=3072, bias=True)\n",
              "            (intermediate_act_fn): GELUActivation()\n",
              "          )\n",
              "          (output): BertOutput(\n",
              "            (dense): Linear(in_features=3072, out_features=768, bias=True)\n",
              "            (LayerNorm): LayerNorm((768,), eps=1e-12, elementwise_affine=True)\n",
              "            (dropout): Dropout(p=0.1, inplace=False)\n",
              "          )\n",
              "        )\n",
              "      )\n",
              "    )\n",
              "  )\n",
              "  (cls): BertOnlyMLMHead(\n",
              "    (predictions): BertLMPredictionHead(\n",
              "      (transform): BertPredictionHeadTransform(\n",
              "        (dense): Linear(in_features=768, out_features=768, bias=True)\n",
              "        (transform_act_fn): GELUActivation()\n",
              "        (LayerNorm): LayerNorm((768,), eps=1e-12, elementwise_affine=True)\n",
              "      )\n",
              "      (decoder): Linear(in_features=768, out_features=30522, bias=True)\n",
              "    )\n",
              "  )\n",
              ")"
            ]
          },
          "metadata": {},
          "execution_count": 28
        }
      ],
      "source": [
        "model.to(device)"
      ]
    },
    {
      "cell_type": "markdown",
      "metadata": {
        "id": "xkDuJdILj7sq"
      },
      "source": [
        "## Fine-Tunning"
      ]
    },
    {
      "cell_type": "code",
      "execution_count": 29,
      "metadata": {
        "id": "p_XZkdLRMjfV",
        "colab": {
          "base_uri": "https://localhost:8080/"
        },
        "outputId": "879ab58e-34c1-47e7-920c-7a18f21984f5"
      },
      "outputs": [
        {
          "output_type": "execute_result",
          "data": {
            "text/plain": [
              "BertForMaskedLM(\n",
              "  (bert): BertModel(\n",
              "    (embeddings): BertEmbeddings(\n",
              "      (word_embeddings): Embedding(30522, 768, padding_idx=0)\n",
              "      (position_embeddings): Embedding(512, 768)\n",
              "      (token_type_embeddings): Embedding(2, 768)\n",
              "      (LayerNorm): LayerNorm((768,), eps=1e-12, elementwise_affine=True)\n",
              "      (dropout): Dropout(p=0.1, inplace=False)\n",
              "    )\n",
              "    (encoder): BertEncoder(\n",
              "      (layer): ModuleList(\n",
              "        (0-11): 12 x BertLayer(\n",
              "          (attention): BertAttention(\n",
              "            (self): BertSelfAttention(\n",
              "              (query): Linear(in_features=768, out_features=768, bias=True)\n",
              "              (key): Linear(in_features=768, out_features=768, bias=True)\n",
              "              (value): Linear(in_features=768, out_features=768, bias=True)\n",
              "              (dropout): Dropout(p=0.1, inplace=False)\n",
              "            )\n",
              "            (output): BertSelfOutput(\n",
              "              (dense): Linear(in_features=768, out_features=768, bias=True)\n",
              "              (LayerNorm): LayerNorm((768,), eps=1e-12, elementwise_affine=True)\n",
              "              (dropout): Dropout(p=0.1, inplace=False)\n",
              "            )\n",
              "          )\n",
              "          (intermediate): BertIntermediate(\n",
              "            (dense): Linear(in_features=768, out_features=3072, bias=True)\n",
              "            (intermediate_act_fn): GELUActivation()\n",
              "          )\n",
              "          (output): BertOutput(\n",
              "            (dense): Linear(in_features=3072, out_features=768, bias=True)\n",
              "            (LayerNorm): LayerNorm((768,), eps=1e-12, elementwise_affine=True)\n",
              "            (dropout): Dropout(p=0.1, inplace=False)\n",
              "          )\n",
              "        )\n",
              "      )\n",
              "    )\n",
              "  )\n",
              "  (cls): BertOnlyMLMHead(\n",
              "    (predictions): BertLMPredictionHead(\n",
              "      (transform): BertPredictionHeadTransform(\n",
              "        (dense): Linear(in_features=768, out_features=768, bias=True)\n",
              "        (transform_act_fn): GELUActivation()\n",
              "        (LayerNorm): LayerNorm((768,), eps=1e-12, elementwise_affine=True)\n",
              "      )\n",
              "      (decoder): Linear(in_features=768, out_features=30522, bias=True)\n",
              "    )\n",
              "  )\n",
              ")"
            ]
          },
          "metadata": {},
          "execution_count": 29
        }
      ],
      "source": [
        "model.train() #mode train"
      ]
    },
    {
      "cell_type": "code",
      "execution_count": 30,
      "metadata": {
        "id": "9iup884jMjfV"
      },
      "outputs": [],
      "source": [
        "num_epochs = 10\n",
        "gradient_accumulation_steps = 4 #mostra durante o modelo"
      ]
    },
    {
      "cell_type": "code",
      "execution_count": 31,
      "metadata": {
        "id": "KwRjlwdoFqou",
        "colab": {
          "base_uri": "https://localhost:8080/"
        },
        "outputId": "e92def17-b108-4a71-d820-f080c5ec41ff"
      },
      "outputs": [
        {
          "output_type": "stream",
          "name": "stdout",
          "text": [
            "Erro: tensor(4.5362, device='cuda:0', grad_fn=<DivBackward0>)\n",
            "Erro: tensor(3.1241, device='cuda:0', grad_fn=<DivBackward0>)\n",
            "Erro: tensor(4.4094, device='cuda:0', grad_fn=<DivBackward0>)\n",
            "Erro: tensor(4.3269, device='cuda:0', grad_fn=<DivBackward0>)\n",
            "Erro: tensor(3.3578, device='cuda:0', grad_fn=<DivBackward0>)\n",
            "Erro: tensor(3.2705, device='cuda:0', grad_fn=<DivBackward0>)\n",
            "Erro: tensor(3.2720, device='cuda:0', grad_fn=<DivBackward0>)\n",
            "Erro: tensor(3.3157, device='cuda:0', grad_fn=<DivBackward0>)\n",
            "Erro: tensor(2.5179, device='cuda:0', grad_fn=<DivBackward0>)\n",
            "Erro: tensor(2.8141, device='cuda:0', grad_fn=<DivBackward0>)\n",
            "Erro: tensor(2.5441, device='cuda:0', grad_fn=<DivBackward0>)\n",
            "Erro: tensor(2.6536, device='cuda:0', grad_fn=<DivBackward0>)\n",
            "Erro: tensor(2.4959, device='cuda:0', grad_fn=<DivBackward0>)\n",
            "Erro: tensor(2.5369, device='cuda:0', grad_fn=<DivBackward0>)\n",
            "Erro: tensor(2.4667, device='cuda:0', grad_fn=<DivBackward0>)\n",
            "Erro: tensor(2.2543, device='cuda:0', grad_fn=<DivBackward0>)\n",
            "Erro: tensor(1.7041, device='cuda:0', grad_fn=<DivBackward0>)\n",
            "Erro: tensor(1.9837, device='cuda:0', grad_fn=<DivBackward0>)\n",
            "Erro: tensor(2.1246, device='cuda:0', grad_fn=<DivBackward0>)\n",
            "Erro: tensor(2.0151, device='cuda:0', grad_fn=<DivBackward0>)\n",
            "Erro: tensor(1.7677, device='cuda:0', grad_fn=<DivBackward0>)\n",
            "Erro: tensor(1.9172, device='cuda:0', grad_fn=<DivBackward0>)\n",
            "Erro: tensor(1.8342, device='cuda:0', grad_fn=<DivBackward0>)\n",
            "Erro: tensor(1.5896, device='cuda:0', grad_fn=<DivBackward0>)\n",
            "Erro: tensor(1.2776, device='cuda:0', grad_fn=<DivBackward0>)\n",
            "Erro: tensor(1.5033, device='cuda:0', grad_fn=<DivBackward0>)\n",
            "Erro: tensor(1.5389, device='cuda:0', grad_fn=<DivBackward0>)\n",
            "Erro: tensor(1.4584, device='cuda:0', grad_fn=<DivBackward0>)\n",
            "Erro: tensor(1.4901, device='cuda:0', grad_fn=<DivBackward0>)\n",
            "Erro: tensor(1.3551, device='cuda:0', grad_fn=<DivBackward0>)\n",
            "Erro: tensor(1.4247, device='cuda:0', grad_fn=<DivBackward0>)\n",
            "Erro: tensor(1.3848, device='cuda:0', grad_fn=<DivBackward0>)\n",
            "Erro: tensor(1.2225, device='cuda:0', grad_fn=<DivBackward0>)\n",
            "Erro: tensor(1.3112, device='cuda:0', grad_fn=<DivBackward0>)\n",
            "Erro: tensor(1.3453, device='cuda:0', grad_fn=<DivBackward0>)\n",
            "Erro: tensor(1.2546, device='cuda:0', grad_fn=<DivBackward0>)\n",
            "Erro: tensor(1.1182, device='cuda:0', grad_fn=<DivBackward0>)\n",
            "Erro: tensor(1.2340, device='cuda:0', grad_fn=<DivBackward0>)\n",
            "Erro: tensor(1.1825, device='cuda:0', grad_fn=<DivBackward0>)\n",
            "Erro: tensor(1.2063, device='cuda:0', grad_fn=<DivBackward0>)\n",
            "Erro: tensor(1.0728, device='cuda:0', grad_fn=<DivBackward0>)\n",
            "Erro: tensor(1.0621, device='cuda:0', grad_fn=<DivBackward0>)\n",
            "Erro: tensor(1.1860, device='cuda:0', grad_fn=<DivBackward0>)\n",
            "Erro: tensor(1.0944, device='cuda:0', grad_fn=<DivBackward0>)\n",
            "Erro: tensor(0.9582, device='cuda:0', grad_fn=<DivBackward0>)\n",
            "Erro: tensor(1.0019, device='cuda:0', grad_fn=<DivBackward0>)\n",
            "Erro: tensor(1.0089, device='cuda:0', grad_fn=<DivBackward0>)\n",
            "Erro: tensor(1.0409, device='cuda:0', grad_fn=<DivBackward0>)\n",
            "Erro: tensor(0.8903, device='cuda:0', grad_fn=<DivBackward0>)\n",
            "Erro: tensor(0.8911, device='cuda:0', grad_fn=<DivBackward0>)\n",
            "Erro: tensor(0.8625, device='cuda:0', grad_fn=<DivBackward0>)\n",
            "Erro: tensor(0.8942, device='cuda:0', grad_fn=<DivBackward0>)\n",
            "Erro: tensor(0.8337, device='cuda:0', grad_fn=<DivBackward0>)\n",
            "Erro: tensor(0.8128, device='cuda:0', grad_fn=<DivBackward0>)\n",
            "Erro: tensor(0.8489, device='cuda:0', grad_fn=<DivBackward0>)\n",
            "Erro: tensor(0.7309, device='cuda:0', grad_fn=<DivBackward0>)\n",
            "Erro: tensor(0.6361, device='cuda:0', grad_fn=<DivBackward0>)\n",
            "Erro: tensor(0.6910, device='cuda:0', grad_fn=<DivBackward0>)\n",
            "Erro: tensor(0.6854, device='cuda:0', grad_fn=<DivBackward0>)\n",
            "Erro: tensor(0.6468, device='cuda:0', grad_fn=<DivBackward0>)\n",
            "Erro: tensor(0.5948, device='cuda:0', grad_fn=<DivBackward0>)\n",
            "Erro: tensor(0.6318, device='cuda:0', grad_fn=<DivBackward0>)\n",
            "Erro: tensor(0.6123, device='cuda:0', grad_fn=<DivBackward0>)\n",
            "Erro: tensor(0.5631, device='cuda:0', grad_fn=<DivBackward0>)\n",
            "Erro: tensor(0.5261, device='cuda:0', grad_fn=<DivBackward0>)\n",
            "Erro: tensor(0.5530, device='cuda:0', grad_fn=<DivBackward0>)\n",
            "Erro: tensor(0.5697, device='cuda:0', grad_fn=<DivBackward0>)\n",
            "Erro: tensor(0.4896, device='cuda:0', grad_fn=<DivBackward0>)\n",
            "Erro: tensor(0.5012, device='cuda:0', grad_fn=<DivBackward0>)\n",
            "Erro: tensor(0.4787, device='cuda:0', grad_fn=<DivBackward0>)\n",
            "Erro: tensor(0.4814, device='cuda:0', grad_fn=<DivBackward0>)\n",
            "Erro: tensor(0.3882, device='cuda:0', grad_fn=<DivBackward0>)\n",
            "Erro: tensor(0.3978, device='cuda:0', grad_fn=<DivBackward0>)\n",
            "Erro: tensor(0.3897, device='cuda:0', grad_fn=<DivBackward0>)\n",
            "Erro: tensor(0.4260, device='cuda:0', grad_fn=<DivBackward0>)\n",
            "Erro: tensor(0.3732, device='cuda:0', grad_fn=<DivBackward0>)\n",
            "Erro: tensor(0.3673, device='cuda:0', grad_fn=<DivBackward0>)\n",
            "Erro: tensor(0.3629, device='cuda:0', grad_fn=<DivBackward0>)\n",
            "Erro: tensor(0.3453, device='cuda:0', grad_fn=<DivBackward0>)\n",
            "Erro: tensor(0.3021, device='cuda:0', grad_fn=<DivBackward0>)\n",
            "Erro: tensor(0.3148, device='cuda:0', grad_fn=<DivBackward0>)\n",
            "Erro: tensor(0.2982, device='cuda:0', grad_fn=<DivBackward0>)\n",
            "Erro: tensor(0.3148, device='cuda:0', grad_fn=<DivBackward0>)\n",
            "Erro: tensor(0.2574, device='cuda:0', grad_fn=<DivBackward0>)\n",
            "Erro: tensor(0.2535, device='cuda:0', grad_fn=<DivBackward0>)\n",
            "Erro: tensor(0.2741, device='cuda:0', grad_fn=<DivBackward0>)\n",
            "Erro: tensor(0.2680, device='cuda:0', grad_fn=<DivBackward0>)\n",
            "Erro: tensor(0.2073, device='cuda:0', grad_fn=<DivBackward0>)\n",
            "Erro: tensor(0.2189, device='cuda:0', grad_fn=<DivBackward0>)\n",
            "Erro: tensor(0.2165, device='cuda:0', grad_fn=<DivBackward0>)\n",
            "Erro: tensor(0.2377, device='cuda:0', grad_fn=<DivBackward0>)\n",
            "Erro: tensor(0.1929, device='cuda:0', grad_fn=<DivBackward0>)\n",
            "Erro: tensor(0.2041, device='cuda:0', grad_fn=<DivBackward0>)\n",
            "Erro: tensor(0.1914, device='cuda:0', grad_fn=<DivBackward0>)\n",
            "Erro: tensor(0.1922, device='cuda:0', grad_fn=<DivBackward0>)\n",
            "Erro: tensor(0.1706, device='cuda:0', grad_fn=<DivBackward0>)\n",
            "Erro: tensor(0.1740, device='cuda:0', grad_fn=<DivBackward0>)\n",
            "Erro: tensor(0.1849, device='cuda:0', grad_fn=<DivBackward0>)\n",
            "Erro: tensor(0.1780, device='cuda:0', grad_fn=<DivBackward0>)\n",
            "Erro: tensor(0.1420, device='cuda:0', grad_fn=<DivBackward0>)\n",
            "Erro: tensor(0.1479, device='cuda:0', grad_fn=<DivBackward0>)\n",
            "Erro: tensor(0.1481, device='cuda:0', grad_fn=<DivBackward0>)\n",
            "Erro: tensor(0.1478, device='cuda:0', grad_fn=<DivBackward0>)\n",
            "Erro: tensor(0.1356, device='cuda:0', grad_fn=<DivBackward0>)\n",
            "Erro: tensor(0.1298, device='cuda:0', grad_fn=<DivBackward0>)\n",
            "Erro: tensor(0.1392, device='cuda:0', grad_fn=<DivBackward0>)\n",
            "Erro: tensor(0.1270, device='cuda:0', grad_fn=<DivBackward0>)\n",
            "Erro: tensor(0.1332, device='cuda:0', grad_fn=<DivBackward0>)\n",
            "Erro: tensor(0.1150, device='cuda:0', grad_fn=<DivBackward0>)\n",
            "Erro: tensor(0.1242, device='cuda:0', grad_fn=<DivBackward0>)\n",
            "Erro: tensor(0.1009, device='cuda:0', grad_fn=<DivBackward0>)\n",
            "Erro: tensor(0.1008, device='cuda:0', grad_fn=<DivBackward0>)\n",
            "Erro: tensor(0.0983, device='cuda:0', grad_fn=<DivBackward0>)\n",
            "Erro: tensor(0.1079, device='cuda:0', grad_fn=<DivBackward0>)\n",
            "Erro: tensor(0.0915, device='cuda:0', grad_fn=<DivBackward0>)\n",
            "Erro: tensor(0.0903, device='cuda:0', grad_fn=<DivBackward0>)\n",
            "Erro: tensor(0.0872, device='cuda:0', grad_fn=<DivBackward0>)\n",
            "Erro: tensor(0.0932, device='cuda:0', grad_fn=<DivBackward0>)\n",
            "Erro: tensor(0.0859, device='cuda:0', grad_fn=<DivBackward0>)\n",
            "Erro: tensor(0.0830, device='cuda:0', grad_fn=<DivBackward0>)\n",
            "Erro: tensor(0.0805, device='cuda:0', grad_fn=<DivBackward0>)\n",
            "Erro: tensor(0.0813, device='cuda:0', grad_fn=<DivBackward0>)\n",
            "Erro: tensor(0.0695, device='cuda:0', grad_fn=<DivBackward0>)\n",
            "Erro: tensor(0.0740, device='cuda:0', grad_fn=<DivBackward0>)\n",
            "Erro: tensor(0.0748, device='cuda:0', grad_fn=<DivBackward0>)\n",
            "Erro: tensor(0.0741, device='cuda:0', grad_fn=<DivBackward0>)\n",
            "Erro: tensor(0.0660, device='cuda:0', grad_fn=<DivBackward0>)\n",
            "Erro: tensor(0.0658, device='cuda:0', grad_fn=<DivBackward0>)\n",
            "Erro: tensor(0.0668, device='cuda:0', grad_fn=<DivBackward0>)\n",
            "Erro: tensor(0.0587, device='cuda:0', grad_fn=<DivBackward0>)\n",
            "Erro: tensor(0.0596, device='cuda:0', grad_fn=<DivBackward0>)\n",
            "Erro: tensor(0.0606, device='cuda:0', grad_fn=<DivBackward0>)\n",
            "Erro: tensor(0.0586, device='cuda:0', grad_fn=<DivBackward0>)\n",
            "Erro: tensor(0.0598, device='cuda:0', grad_fn=<DivBackward0>)\n",
            "Erro: tensor(0.0549, device='cuda:0', grad_fn=<DivBackward0>)\n",
            "Erro: tensor(0.0500, device='cuda:0', grad_fn=<DivBackward0>)\n",
            "Erro: tensor(0.0548, device='cuda:0', grad_fn=<DivBackward0>)\n",
            "Erro: tensor(0.0565, device='cuda:0', grad_fn=<DivBackward0>)\n",
            "Erro: tensor(0.0491, device='cuda:0', grad_fn=<DivBackward0>)\n",
            "Erro: tensor(0.0469, device='cuda:0', grad_fn=<DivBackward0>)\n",
            "Erro: tensor(0.0496, device='cuda:0', grad_fn=<DivBackward0>)\n",
            "Erro: tensor(0.0497, device='cuda:0', grad_fn=<DivBackward0>)\n",
            "Erro: tensor(0.0443, device='cuda:0', grad_fn=<DivBackward0>)\n",
            "Erro: tensor(0.0460, device='cuda:0', grad_fn=<DivBackward0>)\n",
            "Erro: tensor(0.0467, device='cuda:0', grad_fn=<DivBackward0>)\n",
            "Erro: tensor(0.0445, device='cuda:0', grad_fn=<DivBackward0>)\n",
            "Erro: tensor(0.0422, device='cuda:0', grad_fn=<DivBackward0>)\n",
            "Erro: tensor(0.0413, device='cuda:0', grad_fn=<DivBackward0>)\n",
            "Erro: tensor(0.0428, device='cuda:0', grad_fn=<DivBackward0>)\n",
            "Erro: tensor(0.0422, device='cuda:0', grad_fn=<DivBackward0>)\n",
            "Erro: tensor(0.0396, device='cuda:0', grad_fn=<DivBackward0>)\n",
            "Erro: tensor(0.0387, device='cuda:0', grad_fn=<DivBackward0>)\n",
            "Erro: tensor(0.0418, device='cuda:0', grad_fn=<DivBackward0>)\n",
            "Erro: tensor(0.0390, device='cuda:0', grad_fn=<DivBackward0>)\n",
            "Erro: tensor(0.0361, device='cuda:0', grad_fn=<DivBackward0>)\n",
            "Erro: tensor(0.0365, device='cuda:0', grad_fn=<DivBackward0>)\n",
            "Erro: tensor(0.0351, device='cuda:0', grad_fn=<DivBackward0>)\n",
            "Erro: tensor(0.0363, device='cuda:0', grad_fn=<DivBackward0>)\n",
            "Erro: tensor(0.0350, device='cuda:0', grad_fn=<DivBackward0>)\n",
            "Erro: tensor(0.0356, device='cuda:0', grad_fn=<DivBackward0>)\n",
            "Erro: tensor(0.0357, device='cuda:0', grad_fn=<DivBackward0>)\n",
            "Erro: tensor(0.0327, device='cuda:0', grad_fn=<DivBackward0>)\n",
            "Erro: tensor(0.0308, device='cuda:0', grad_fn=<DivBackward0>)\n",
            "Erro: tensor(0.0332, device='cuda:0', grad_fn=<DivBackward0>)\n",
            "Erro: tensor(0.0256, device='cuda:0', grad_fn=<DivBackward0>)\n",
            "Erro: tensor(0.0301, device='cuda:0', grad_fn=<DivBackward0>)\n",
            "Erro: tensor(0.0298, device='cuda:0', grad_fn=<DivBackward0>)\n",
            "Erro: tensor(0.0302, device='cuda:0', grad_fn=<DivBackward0>)\n",
            "Erro: tensor(0.0296, device='cuda:0', grad_fn=<DivBackward0>)\n",
            "Erro: tensor(0.0301, device='cuda:0', grad_fn=<DivBackward0>)\n",
            "Erro: tensor(0.0282, device='cuda:0', grad_fn=<DivBackward0>)\n",
            "Erro: tensor(0.0282, device='cuda:0', grad_fn=<DivBackward0>)\n",
            "Erro: tensor(0.0284, device='cuda:0', grad_fn=<DivBackward0>)\n",
            "Erro: tensor(0.0269, device='cuda:0', grad_fn=<DivBackward0>)\n",
            "Erro: tensor(0.0276, device='cuda:0', grad_fn=<DivBackward0>)\n",
            "Erro: tensor(0.0271, device='cuda:0', grad_fn=<DivBackward0>)\n",
            "Erro: tensor(0.0280, device='cuda:0', grad_fn=<DivBackward0>)\n",
            "Erro: tensor(0.0245, device='cuda:0', grad_fn=<DivBackward0>)\n",
            "Erro: tensor(0.0246, device='cuda:0', grad_fn=<DivBackward0>)\n",
            "Erro: tensor(0.0259, device='cuda:0', grad_fn=<DivBackward0>)\n",
            "Erro: tensor(0.0260, device='cuda:0', grad_fn=<DivBackward0>)\n",
            "Erro: tensor(0.0252, device='cuda:0', grad_fn=<DivBackward0>)\n",
            "Erro: tensor(0.0232, device='cuda:0', grad_fn=<DivBackward0>)\n",
            "Erro: tensor(0.0245, device='cuda:0', grad_fn=<DivBackward0>)\n",
            "Erro: tensor(0.0236, device='cuda:0', grad_fn=<DivBackward0>)\n",
            "Erro: tensor(0.0237, device='cuda:0', grad_fn=<DivBackward0>)\n",
            "Erro: tensor(0.0227, device='cuda:0', grad_fn=<DivBackward0>)\n",
            "Erro: tensor(0.0223, device='cuda:0', grad_fn=<DivBackward0>)\n",
            "Erro: tensor(0.0227, device='cuda:0', grad_fn=<DivBackward0>)\n",
            "Erro: tensor(0.0208, device='cuda:0', grad_fn=<DivBackward0>)\n",
            "Erro: tensor(0.0226, device='cuda:0', grad_fn=<DivBackward0>)\n",
            "Erro: tensor(0.0223, device='cuda:0', grad_fn=<DivBackward0>)\n",
            "Erro: tensor(0.0223, device='cuda:0', grad_fn=<DivBackward0>)\n",
            "Erro: tensor(0.0199, device='cuda:0', grad_fn=<DivBackward0>)\n",
            "Erro: tensor(0.0199, device='cuda:0', grad_fn=<DivBackward0>)\n",
            "Erro: tensor(0.0207, device='cuda:0', grad_fn=<DivBackward0>)\n",
            "Erro: tensor(0.0208, device='cuda:0', grad_fn=<DivBackward0>)\n",
            "Erro: tensor(0.0198, device='cuda:0', grad_fn=<DivBackward0>)\n",
            "Erro: tensor(0.0211, device='cuda:0', grad_fn=<DivBackward0>)\n",
            "Erro: tensor(0.0208, device='cuda:0', grad_fn=<DivBackward0>)\n",
            "Erro: tensor(0.0203, device='cuda:0', grad_fn=<DivBackward0>)\n",
            "Erro: tensor(0.0215, device='cuda:0', grad_fn=<DivBackward0>)\n",
            "Erro: tensor(0.0195, device='cuda:0', grad_fn=<DivBackward0>)\n",
            "Erro: tensor(0.0197, device='cuda:0', grad_fn=<DivBackward0>)\n",
            "Erro: tensor(0.0191, device='cuda:0', grad_fn=<DivBackward0>)\n",
            "Erro: tensor(0.0178, device='cuda:0', grad_fn=<DivBackward0>)\n",
            "Erro: tensor(0.0193, device='cuda:0', grad_fn=<DivBackward0>)\n",
            "Erro: tensor(0.0183, device='cuda:0', grad_fn=<DivBackward0>)\n",
            "Erro: tensor(0.0181, device='cuda:0', grad_fn=<DivBackward0>)\n",
            "Erro: tensor(0.0181, device='cuda:0', grad_fn=<DivBackward0>)\n",
            "Erro: tensor(0.0180, device='cuda:0', grad_fn=<DivBackward0>)\n",
            "Erro: tensor(0.0176, device='cuda:0', grad_fn=<DivBackward0>)\n",
            "Erro: tensor(0.0184, device='cuda:0', grad_fn=<DivBackward0>)\n",
            "Erro: tensor(0.0166, device='cuda:0', grad_fn=<DivBackward0>)\n",
            "Erro: tensor(0.0174, device='cuda:0', grad_fn=<DivBackward0>)\n",
            "Erro: tensor(0.0189, device='cuda:0', grad_fn=<DivBackward0>)\n",
            "Erro: tensor(0.0172, device='cuda:0', grad_fn=<DivBackward0>)\n",
            "Erro: tensor(0.0165, device='cuda:0', grad_fn=<DivBackward0>)\n",
            "Erro: tensor(0.0163, device='cuda:0', grad_fn=<DivBackward0>)\n",
            "Erro: tensor(0.0169, device='cuda:0', grad_fn=<DivBackward0>)\n",
            "Erro: tensor(0.0154, device='cuda:0', grad_fn=<DivBackward0>)\n",
            "Erro: tensor(0.0163, device='cuda:0', grad_fn=<DivBackward0>)\n",
            "Erro: tensor(0.0157, device='cuda:0', grad_fn=<DivBackward0>)\n",
            "Erro: tensor(0.0169, device='cuda:0', grad_fn=<DivBackward0>)\n",
            "Erro: tensor(0.0158, device='cuda:0', grad_fn=<DivBackward0>)\n",
            "Erro: tensor(0.0159, device='cuda:0', grad_fn=<DivBackward0>)\n",
            "Erro: tensor(0.0180, device='cuda:0', grad_fn=<DivBackward0>)\n",
            "Erro: tensor(0.0160, device='cuda:0', grad_fn=<DivBackward0>)\n",
            "Erro: tensor(0.0152, device='cuda:0', grad_fn=<DivBackward0>)\n",
            "Erro: tensor(0.0149, device='cuda:0', grad_fn=<DivBackward0>)\n",
            "Erro: tensor(0.0151, device='cuda:0', grad_fn=<DivBackward0>)\n",
            "Erro: tensor(0.0148, device='cuda:0', grad_fn=<DivBackward0>)\n",
            "Erro: tensor(0.0146, device='cuda:0', grad_fn=<DivBackward0>)\n",
            "Erro: tensor(0.0147, device='cuda:0', grad_fn=<DivBackward0>)\n",
            "Erro: tensor(0.0145, device='cuda:0', grad_fn=<DivBackward0>)\n",
            "Erro: tensor(0.0150, device='cuda:0', grad_fn=<DivBackward0>)\n",
            "Erro: tensor(0.0146, device='cuda:0', grad_fn=<DivBackward0>)\n",
            "Erro: tensor(0.0143, device='cuda:0', grad_fn=<DivBackward0>)\n",
            "Erro: tensor(0.0135, device='cuda:0', grad_fn=<DivBackward0>)\n",
            "Erro: tensor(0.0138, device='cuda:0', grad_fn=<DivBackward0>)\n",
            "Erro: tensor(0.0138, device='cuda:0', grad_fn=<DivBackward0>)\n",
            "Erro: tensor(0.0128, device='cuda:0', grad_fn=<DivBackward0>)\n",
            "Erro: tensor(0.0137, device='cuda:0', grad_fn=<DivBackward0>)\n",
            "Erro: tensor(0.0139, device='cuda:0', grad_fn=<DivBackward0>)\n",
            "Erro: tensor(0.0132, device='cuda:0', grad_fn=<DivBackward0>)\n",
            "Erro: tensor(0.0136, device='cuda:0', grad_fn=<DivBackward0>)\n",
            "Erro: tensor(0.0126, device='cuda:0', grad_fn=<DivBackward0>)\n",
            "Erro: tensor(0.0131, device='cuda:0', grad_fn=<DivBackward0>)\n",
            "Erro: tensor(0.0125, device='cuda:0', grad_fn=<DivBackward0>)\n",
            "Erro: tensor(0.0129, device='cuda:0', grad_fn=<DivBackward0>)\n",
            "Erro: tensor(0.0136, device='cuda:0', grad_fn=<DivBackward0>)\n",
            "Erro: tensor(0.0131, device='cuda:0', grad_fn=<DivBackward0>)\n",
            "Erro: tensor(0.0121, device='cuda:0', grad_fn=<DivBackward0>)\n",
            "Erro: tensor(0.0124, device='cuda:0', grad_fn=<DivBackward0>)\n",
            "Erro: tensor(0.0128, device='cuda:0', grad_fn=<DivBackward0>)\n",
            "Erro: tensor(0.0130, device='cuda:0', grad_fn=<DivBackward0>)\n",
            "Erro: tensor(0.0126, device='cuda:0', grad_fn=<DivBackward0>)\n",
            "Erro: tensor(0.0125, device='cuda:0', grad_fn=<DivBackward0>)\n",
            "Erro: tensor(0.0121, device='cuda:0', grad_fn=<DivBackward0>)\n",
            "Erro: tensor(0.0120, device='cuda:0', grad_fn=<DivBackward0>)\n",
            "Erro: tensor(0.0111, device='cuda:0', grad_fn=<DivBackward0>)\n",
            "Erro: tensor(0.0118, device='cuda:0', grad_fn=<DivBackward0>)\n",
            "Erro: tensor(0.0124, device='cuda:0', grad_fn=<DivBackward0>)\n",
            "Erro: tensor(0.0111, device='cuda:0', grad_fn=<DivBackward0>)\n",
            "Erro: tensor(0.0124, device='cuda:0', grad_fn=<DivBackward0>)\n",
            "Erro: tensor(0.0107, device='cuda:0', grad_fn=<DivBackward0>)\n",
            "Erro: tensor(0.0112, device='cuda:0', grad_fn=<DivBackward0>)\n",
            "Erro: tensor(0.0120, device='cuda:0', grad_fn=<DivBackward0>)\n",
            "Erro: tensor(0.0114, device='cuda:0', grad_fn=<DivBackward0>)\n",
            "Erro: tensor(0.0123, device='cuda:0', grad_fn=<DivBackward0>)\n",
            "Erro: tensor(0.0109, device='cuda:0', grad_fn=<DivBackward0>)\n",
            "Erro: tensor(0.0105, device='cuda:0', grad_fn=<DivBackward0>)\n",
            "Erro: tensor(0.0108, device='cuda:0', grad_fn=<DivBackward0>)\n",
            "Erro: tensor(0.0128, device='cuda:0', grad_fn=<DivBackward0>)\n",
            "Erro: tensor(0.0098, device='cuda:0', grad_fn=<DivBackward0>)\n",
            "Erro: tensor(0.0106, device='cuda:0', grad_fn=<DivBackward0>)\n",
            "Erro: tensor(0.0109, device='cuda:0', grad_fn=<DivBackward0>)\n",
            "Erro: tensor(0.0104, device='cuda:0', grad_fn=<DivBackward0>)\n",
            "Erro: tensor(0.0118, device='cuda:0', grad_fn=<DivBackward0>)\n",
            "Erro: tensor(0.0109, device='cuda:0', grad_fn=<DivBackward0>)\n",
            "Erro: tensor(0.0127, device='cuda:0', grad_fn=<DivBackward0>)\n",
            "Erro: tensor(0.0100, device='cuda:0', grad_fn=<DivBackward0>)\n",
            "Erro: tensor(0.0105, device='cuda:0', grad_fn=<DivBackward0>)\n",
            "Erro: tensor(0.0119, device='cuda:0', grad_fn=<DivBackward0>)\n",
            "Erro: tensor(0.0103, device='cuda:0', grad_fn=<DivBackward0>)\n",
            "Erro: tensor(0.0097, device='cuda:0', grad_fn=<DivBackward0>)\n",
            "Erro: tensor(0.0102, device='cuda:0', grad_fn=<DivBackward0>)\n",
            "Erro: tensor(0.0096, device='cuda:0', grad_fn=<DivBackward0>)\n",
            "Erro: tensor(0.0101, device='cuda:0', grad_fn=<DivBackward0>)\n",
            "Erro: tensor(0.0108, device='cuda:0', grad_fn=<DivBackward0>)\n",
            "Erro: tensor(0.0099, device='cuda:0', grad_fn=<DivBackward0>)\n",
            "Erro: tensor(0.0088, device='cuda:0', grad_fn=<DivBackward0>)\n",
            "Erro: tensor(0.0104, device='cuda:0', grad_fn=<DivBackward0>)\n",
            "Erro: tensor(0.0097, device='cuda:0', grad_fn=<DivBackward0>)\n",
            "Erro: tensor(0.0103, device='cuda:0', grad_fn=<DivBackward0>)\n",
            "Erro: tensor(0.0089, device='cuda:0', grad_fn=<DivBackward0>)\n",
            "Erro: tensor(0.0095, device='cuda:0', grad_fn=<DivBackward0>)\n",
            "Erro: tensor(0.0089, device='cuda:0', grad_fn=<DivBackward0>)\n",
            "Erro: tensor(0.0092, device='cuda:0', grad_fn=<DivBackward0>)\n",
            "Erro: tensor(0.0096, device='cuda:0', grad_fn=<DivBackward0>)\n",
            "Erro: tensor(0.0092, device='cuda:0', grad_fn=<DivBackward0>)\n",
            "Erro: tensor(0.0104, device='cuda:0', grad_fn=<DivBackward0>)\n",
            "Erro: tensor(0.0086, device='cuda:0', grad_fn=<DivBackward0>)\n",
            "Erro: tensor(0.0086, device='cuda:0', grad_fn=<DivBackward0>)\n",
            "Erro: tensor(0.0081, device='cuda:0', grad_fn=<DivBackward0>)\n",
            "Erro: tensor(0.0092, device='cuda:0', grad_fn=<DivBackward0>)\n",
            "Erro: tensor(0.0107, device='cuda:0', grad_fn=<DivBackward0>)\n",
            "Erro: tensor(0.0085, device='cuda:0', grad_fn=<DivBackward0>)\n",
            "Erro: tensor(0.0085, device='cuda:0', grad_fn=<DivBackward0>)\n",
            "Erro: tensor(0.0097, device='cuda:0', grad_fn=<DivBackward0>)\n",
            "Erro: tensor(0.0082, device='cuda:0', grad_fn=<DivBackward0>)\n",
            "Erro: tensor(0.0090, device='cuda:0', grad_fn=<DivBackward0>)\n",
            "Erro: tensor(0.0080, device='cuda:0', grad_fn=<DivBackward0>)\n",
            "Erro: tensor(0.0086, device='cuda:0', grad_fn=<DivBackward0>)\n",
            "Erro: tensor(0.0081, device='cuda:0', grad_fn=<DivBackward0>)\n",
            "Erro: tensor(0.0085, device='cuda:0', grad_fn=<DivBackward0>)\n",
            "Erro: tensor(0.0080, device='cuda:0', grad_fn=<DivBackward0>)\n",
            "Erro: tensor(0.0079, device='cuda:0', grad_fn=<DivBackward0>)\n",
            "Erro: tensor(0.0079, device='cuda:0', grad_fn=<DivBackward0>)\n",
            "Erro: tensor(0.0079, device='cuda:0', grad_fn=<DivBackward0>)\n",
            "Erro: tensor(0.0088, device='cuda:0', grad_fn=<DivBackward0>)\n",
            "Erro: tensor(0.0081, device='cuda:0', grad_fn=<DivBackward0>)\n",
            "Erro: tensor(0.0082, device='cuda:0', grad_fn=<DivBackward0>)\n",
            "Erro: tensor(0.0073, device='cuda:0', grad_fn=<DivBackward0>)\n",
            "Erro: tensor(0.0084, device='cuda:0', grad_fn=<DivBackward0>)\n",
            "Erro: tensor(0.0075, device='cuda:0', grad_fn=<DivBackward0>)\n",
            "Erro: tensor(0.0090, device='cuda:0', grad_fn=<DivBackward0>)\n",
            "Erro: tensor(0.0079, device='cuda:0', grad_fn=<DivBackward0>)\n",
            "Erro: tensor(0.0082, device='cuda:0', grad_fn=<DivBackward0>)\n",
            "Erro: tensor(0.0072, device='cuda:0', grad_fn=<DivBackward0>)\n",
            "Erro: tensor(0.0072, device='cuda:0', grad_fn=<DivBackward0>)\n",
            "Erro: tensor(0.0075, device='cuda:0', grad_fn=<DivBackward0>)\n",
            "Erro: tensor(0.0075, device='cuda:0', grad_fn=<DivBackward0>)\n",
            "Erro: tensor(0.0072, device='cuda:0', grad_fn=<DivBackward0>)\n",
            "Erro: tensor(0.0073, device='cuda:0', grad_fn=<DivBackward0>)\n",
            "Erro: tensor(0.0070, device='cuda:0', grad_fn=<DivBackward0>)\n",
            "Erro: tensor(0.0074, device='cuda:0', grad_fn=<DivBackward0>)\n",
            "Erro: tensor(0.0078, device='cuda:0', grad_fn=<DivBackward0>)\n",
            "Erro: tensor(0.0080, device='cuda:0', grad_fn=<DivBackward0>)\n",
            "Erro: tensor(0.0079, device='cuda:0', grad_fn=<DivBackward0>)\n",
            "Erro: tensor(0.0067, device='cuda:0', grad_fn=<DivBackward0>)\n",
            "Erro: tensor(0.0072, device='cuda:0', grad_fn=<DivBackward0>)\n",
            "Erro: tensor(0.0065, device='cuda:0', grad_fn=<DivBackward0>)\n",
            "Erro: tensor(0.0073, device='cuda:0', grad_fn=<DivBackward0>)\n",
            "Erro: tensor(0.0079, device='cuda:0', grad_fn=<DivBackward0>)\n",
            "Erro: tensor(0.0081, device='cuda:0', grad_fn=<DivBackward0>)\n",
            "Erro: tensor(0.0070, device='cuda:0', grad_fn=<DivBackward0>)\n",
            "Erro: tensor(0.0072, device='cuda:0', grad_fn=<DivBackward0>)\n",
            "Erro: tensor(0.0063, device='cuda:0', grad_fn=<DivBackward0>)\n",
            "Erro: tensor(0.0071, device='cuda:0', grad_fn=<DivBackward0>)\n",
            "Erro: tensor(0.0068, device='cuda:0', grad_fn=<DivBackward0>)\n",
            "Erro: tensor(0.0071, device='cuda:0', grad_fn=<DivBackward0>)\n",
            "Erro: tensor(0.0075, device='cuda:0', grad_fn=<DivBackward0>)\n",
            "Erro: tensor(0.0080, device='cuda:0', grad_fn=<DivBackward0>)\n",
            "Erro: tensor(0.0061, device='cuda:0', grad_fn=<DivBackward0>)\n",
            "Erro: tensor(0.0065, device='cuda:0', grad_fn=<DivBackward0>)\n",
            "Erro: tensor(0.0076, device='cuda:0', grad_fn=<DivBackward0>)\n",
            "Erro: tensor(0.0074, device='cuda:0', grad_fn=<DivBackward0>)\n",
            "Erro: tensor(0.0058, device='cuda:0', grad_fn=<DivBackward0>)\n",
            "Erro: tensor(0.0062, device='cuda:0', grad_fn=<DivBackward0>)\n",
            "Erro: tensor(0.0062, device='cuda:0', grad_fn=<DivBackward0>)\n",
            "Erro: tensor(0.0063, device='cuda:0', grad_fn=<DivBackward0>)\n",
            "Erro: tensor(0.0064, device='cuda:0', grad_fn=<DivBackward0>)\n",
            "Erro: tensor(0.0065, device='cuda:0', grad_fn=<DivBackward0>)\n",
            "Erro: tensor(0.0056, device='cuda:0', grad_fn=<DivBackward0>)\n",
            "Erro: tensor(0.0072, device='cuda:0', grad_fn=<DivBackward0>)\n",
            "Erro: tensor(0.0064, device='cuda:0', grad_fn=<DivBackward0>)\n",
            "Erro: tensor(0.0062, device='cuda:0', grad_fn=<DivBackward0>)\n",
            "Erro: tensor(0.0064, device='cuda:0', grad_fn=<DivBackward0>)\n",
            "Erro: tensor(0.0062, device='cuda:0', grad_fn=<DivBackward0>)\n",
            "Erro: tensor(0.0061, device='cuda:0', grad_fn=<DivBackward0>)\n",
            "Erro: tensor(0.0064, device='cuda:0', grad_fn=<DivBackward0>)\n",
            "Erro: tensor(0.0054, device='cuda:0', grad_fn=<DivBackward0>)\n",
            "Erro: tensor(0.0061, device='cuda:0', grad_fn=<DivBackward0>)\n",
            "Erro: tensor(0.0056, device='cuda:0', grad_fn=<DivBackward0>)\n",
            "Erro: tensor(0.0066, device='cuda:0', grad_fn=<DivBackward0>)\n",
            "Erro: tensor(0.0056, device='cuda:0', grad_fn=<DivBackward0>)\n",
            "Erro: tensor(0.0052, device='cuda:0', grad_fn=<DivBackward0>)\n",
            "Erro: tensor(0.0063, device='cuda:0', grad_fn=<DivBackward0>)\n",
            "Erro: tensor(0.0059, device='cuda:0', grad_fn=<DivBackward0>)\n",
            "Erro: tensor(0.0060, device='cuda:0', grad_fn=<DivBackward0>)\n",
            "Erro: tensor(0.0061, device='cuda:0', grad_fn=<DivBackward0>)\n",
            "Erro: tensor(0.0080, device='cuda:0', grad_fn=<DivBackward0>)\n",
            "Erro: tensor(0.0052, device='cuda:0', grad_fn=<DivBackward0>)\n",
            "Erro: tensor(0.0055, device='cuda:0', grad_fn=<DivBackward0>)\n",
            "Erro: tensor(0.0056, device='cuda:0', grad_fn=<DivBackward0>)\n",
            "Erro: tensor(0.0053, device='cuda:0', grad_fn=<DivBackward0>)\n",
            "Erro: tensor(0.0054, device='cuda:0', grad_fn=<DivBackward0>)\n",
            "Erro: tensor(0.0062, device='cuda:0', grad_fn=<DivBackward0>)\n",
            "Erro: tensor(0.0050, device='cuda:0', grad_fn=<DivBackward0>)\n",
            "Erro: tensor(0.0050, device='cuda:0', grad_fn=<DivBackward0>)\n",
            "Erro: tensor(0.0056, device='cuda:0', grad_fn=<DivBackward0>)\n",
            "Erro: tensor(0.0054, device='cuda:0', grad_fn=<DivBackward0>)\n",
            "Erro: tensor(0.0051, device='cuda:0', grad_fn=<DivBackward0>)\n",
            "Erro: tensor(0.0054, device='cuda:0', grad_fn=<DivBackward0>)\n",
            "Erro: tensor(0.0067, device='cuda:0', grad_fn=<DivBackward0>)\n",
            "Erro: tensor(0.0061, device='cuda:0', grad_fn=<DivBackward0>)\n",
            "Erro: tensor(0.0053, device='cuda:0', grad_fn=<DivBackward0>)\n",
            "Erro: tensor(0.0059, device='cuda:0', grad_fn=<DivBackward0>)\n",
            "Erro: tensor(0.0062, device='cuda:0', grad_fn=<DivBackward0>)\n",
            "Erro: tensor(0.0051, device='cuda:0', grad_fn=<DivBackward0>)\n",
            "Erro: tensor(0.0059, device='cuda:0', grad_fn=<DivBackward0>)\n",
            "Erro: tensor(0.0063, device='cuda:0', grad_fn=<DivBackward0>)\n",
            "Erro: tensor(0.0062, device='cuda:0', grad_fn=<DivBackward0>)\n",
            "Erro: tensor(0.0049, device='cuda:0', grad_fn=<DivBackward0>)\n",
            "Erro: tensor(0.0054, device='cuda:0', grad_fn=<DivBackward0>)\n",
            "Erro: tensor(0.0052, device='cuda:0', grad_fn=<DivBackward0>)\n",
            "Erro: tensor(0.0059, device='cuda:0', grad_fn=<DivBackward0>)\n",
            "Erro: tensor(0.0053, device='cuda:0', grad_fn=<DivBackward0>)\n",
            "Erro: tensor(0.0052, device='cuda:0', grad_fn=<DivBackward0>)\n",
            "Erro: tensor(0.0048, device='cuda:0', grad_fn=<DivBackward0>)\n",
            "Erro: tensor(0.0049, device='cuda:0', grad_fn=<DivBackward0>)\n",
            "Erro: tensor(0.0053, device='cuda:0', grad_fn=<DivBackward0>)\n",
            "Erro: tensor(0.0049, device='cuda:0', grad_fn=<DivBackward0>)\n",
            "Erro: tensor(0.0050, device='cuda:0', grad_fn=<DivBackward0>)\n",
            "Erro: tensor(0.0051, device='cuda:0', grad_fn=<DivBackward0>)\n",
            "Erro: tensor(0.0051, device='cuda:0', grad_fn=<DivBackward0>)\n",
            "Erro: tensor(0.0055, device='cuda:0', grad_fn=<DivBackward0>)\n",
            "Erro: tensor(0.0054, device='cuda:0', grad_fn=<DivBackward0>)\n",
            "Erro: tensor(0.0047, device='cuda:0', grad_fn=<DivBackward0>)\n",
            "Erro: tensor(0.0063, device='cuda:0', grad_fn=<DivBackward0>)\n",
            "Erro: tensor(0.0048, device='cuda:0', grad_fn=<DivBackward0>)\n",
            "Erro: tensor(0.0047, device='cuda:0', grad_fn=<DivBackward0>)\n",
            "Erro: tensor(0.0050, device='cuda:0', grad_fn=<DivBackward0>)\n",
            "Erro: tensor(0.0044, device='cuda:0', grad_fn=<DivBackward0>)\n",
            "Erro: tensor(0.0060, device='cuda:0', grad_fn=<DivBackward0>)\n",
            "Erro: tensor(0.0067, device='cuda:0', grad_fn=<DivBackward0>)\n",
            "Erro: tensor(0.0046, device='cuda:0', grad_fn=<DivBackward0>)\n",
            "Erro: tensor(0.0042, device='cuda:0', grad_fn=<DivBackward0>)\n",
            "Erro: tensor(0.0043, device='cuda:0', grad_fn=<DivBackward0>)\n",
            "Erro: tensor(0.0046, device='cuda:0', grad_fn=<DivBackward0>)\n",
            "Erro: tensor(0.0049, device='cuda:0', grad_fn=<DivBackward0>)\n",
            "Erro: tensor(0.0057, device='cuda:0', grad_fn=<DivBackward0>)\n",
            "Erro: tensor(0.0047, device='cuda:0', grad_fn=<DivBackward0>)\n",
            "Erro: tensor(0.0060, device='cuda:0', grad_fn=<DivBackward0>)\n",
            "Erro: tensor(0.0045, device='cuda:0', grad_fn=<DivBackward0>)\n",
            "Erro: tensor(0.0052, device='cuda:0', grad_fn=<DivBackward0>)\n",
            "Erro: tensor(0.0048, device='cuda:0', grad_fn=<DivBackward0>)\n",
            "Erro: tensor(0.0059, device='cuda:0', grad_fn=<DivBackward0>)\n",
            "Erro: tensor(0.0042, device='cuda:0', grad_fn=<DivBackward0>)\n",
            "Erro: tensor(0.0050, device='cuda:0', grad_fn=<DivBackward0>)\n",
            "Erro: tensor(0.0048, device='cuda:0', grad_fn=<DivBackward0>)\n",
            "Erro: tensor(0.0046, device='cuda:0', grad_fn=<DivBackward0>)\n",
            "Erro: tensor(0.0049, device='cuda:0', grad_fn=<DivBackward0>)\n",
            "Erro: tensor(0.0064, device='cuda:0', grad_fn=<DivBackward0>)\n",
            "Erro: tensor(0.0041, device='cuda:0', grad_fn=<DivBackward0>)\n",
            "Erro: tensor(0.0055, device='cuda:0', grad_fn=<DivBackward0>)\n",
            "Erro: tensor(0.0047, device='cuda:0', grad_fn=<DivBackward0>)\n",
            "Erro: tensor(0.0049, device='cuda:0', grad_fn=<DivBackward0>)\n",
            "Erro: tensor(0.0060, device='cuda:0', grad_fn=<DivBackward0>)\n",
            "Erro: tensor(0.0044, device='cuda:0', grad_fn=<DivBackward0>)\n",
            "Erro: tensor(0.0049, device='cuda:0', grad_fn=<DivBackward0>)\n",
            "Erro: tensor(0.0045, device='cuda:0', grad_fn=<DivBackward0>)\n",
            "Erro: tensor(0.0044, device='cuda:0', grad_fn=<DivBackward0>)\n",
            "Erro: tensor(0.0042, device='cuda:0', grad_fn=<DivBackward0>)\n",
            "Erro: tensor(0.0058, device='cuda:0', grad_fn=<DivBackward0>)\n",
            "Erro: tensor(0.0043, device='cuda:0', grad_fn=<DivBackward0>)\n",
            "Erro: tensor(0.0052, device='cuda:0', grad_fn=<DivBackward0>)\n",
            "Erro: tensor(0.0046, device='cuda:0', grad_fn=<DivBackward0>)\n",
            "Erro: tensor(0.0040, device='cuda:0', grad_fn=<DivBackward0>)\n",
            "Erro: tensor(0.0048, device='cuda:0', grad_fn=<DivBackward0>)\n",
            "Erro: tensor(0.0038, device='cuda:0', grad_fn=<DivBackward0>)\n",
            "Erro: tensor(0.0051, device='cuda:0', grad_fn=<DivBackward0>)\n",
            "Erro: tensor(0.0046, device='cuda:0', grad_fn=<DivBackward0>)\n",
            "Erro: tensor(0.0051, device='cuda:0', grad_fn=<DivBackward0>)\n",
            "Erro: tensor(0.0048, device='cuda:0', grad_fn=<DivBackward0>)\n",
            "Erro: tensor(0.0050, device='cuda:0', grad_fn=<DivBackward0>)\n",
            "Erro: tensor(0.0043, device='cuda:0', grad_fn=<DivBackward0>)\n",
            "Erro: tensor(0.0043, device='cuda:0', grad_fn=<DivBackward0>)\n",
            "Erro: tensor(0.0038, device='cuda:0', grad_fn=<DivBackward0>)\n",
            "Erro: tensor(0.0048, device='cuda:0', grad_fn=<DivBackward0>)\n",
            "Erro: tensor(0.0047, device='cuda:0', grad_fn=<DivBackward0>)\n",
            "Erro: tensor(0.0039, device='cuda:0', grad_fn=<DivBackward0>)\n",
            "Erro: tensor(0.0041, device='cuda:0', grad_fn=<DivBackward0>)\n",
            "Erro: tensor(0.0039, device='cuda:0', grad_fn=<DivBackward0>)\n",
            "Erro: tensor(0.0057, device='cuda:0', grad_fn=<DivBackward0>)\n",
            "Erro: tensor(0.0044, device='cuda:0', grad_fn=<DivBackward0>)\n",
            "Erro: tensor(0.0043, device='cuda:0', grad_fn=<DivBackward0>)\n",
            "Erro: tensor(0.0038, device='cuda:0', grad_fn=<DivBackward0>)\n",
            "Erro: tensor(0.0043, device='cuda:0', grad_fn=<DivBackward0>)\n",
            "Erro: tensor(0.0046, device='cuda:0', grad_fn=<DivBackward0>)\n",
            "Erro: tensor(0.0040, device='cuda:0', grad_fn=<DivBackward0>)\n",
            "Erro: tensor(0.0036, device='cuda:0', grad_fn=<DivBackward0>)\n",
            "Erro: tensor(0.0042, device='cuda:0', grad_fn=<DivBackward0>)\n",
            "Erro: tensor(0.0045, device='cuda:0', grad_fn=<DivBackward0>)\n",
            "Erro: tensor(0.0041, device='cuda:0', grad_fn=<DivBackward0>)\n",
            "Erro: tensor(0.0035, device='cuda:0', grad_fn=<DivBackward0>)\n",
            "Erro: tensor(0.0039, device='cuda:0', grad_fn=<DivBackward0>)\n",
            "Erro: tensor(0.0042, device='cuda:0', grad_fn=<DivBackward0>)\n",
            "Erro: tensor(0.0036, device='cuda:0', grad_fn=<DivBackward0>)\n",
            "Erro: tensor(0.0051, device='cuda:0', grad_fn=<DivBackward0>)\n",
            "Erro: tensor(0.0044, device='cuda:0', grad_fn=<DivBackward0>)\n",
            "Erro: tensor(0.0038, device='cuda:0', grad_fn=<DivBackward0>)\n",
            "Erro: tensor(0.0035, device='cuda:0', grad_fn=<DivBackward0>)\n",
            "Erro: tensor(0.0040, device='cuda:0', grad_fn=<DivBackward0>)\n",
            "Erro: tensor(0.0040, device='cuda:0', grad_fn=<DivBackward0>)\n",
            "Erro: tensor(0.0054, device='cuda:0', grad_fn=<DivBackward0>)\n",
            "Erro: tensor(0.0043, device='cuda:0', grad_fn=<DivBackward0>)\n",
            "Erro: tensor(0.0044, device='cuda:0', grad_fn=<DivBackward0>)\n",
            "Erro: tensor(0.0043, device='cuda:0', grad_fn=<DivBackward0>)\n",
            "Erro: tensor(0.0042, device='cuda:0', grad_fn=<DivBackward0>)\n",
            "Erro: tensor(0.0045, device='cuda:0', grad_fn=<DivBackward0>)\n",
            "Erro: tensor(0.0036, device='cuda:0', grad_fn=<DivBackward0>)\n",
            "Erro: tensor(0.0051, device='cuda:0', grad_fn=<DivBackward0>)\n",
            "Erro: tensor(0.0045, device='cuda:0', grad_fn=<DivBackward0>)\n",
            "Erro: tensor(0.0035, device='cuda:0', grad_fn=<DivBackward0>)\n",
            "Erro: tensor(0.0041, device='cuda:0', grad_fn=<DivBackward0>)\n",
            "Erro: tensor(0.0047, device='cuda:0', grad_fn=<DivBackward0>)\n",
            "Erro: tensor(0.0039, device='cuda:0', grad_fn=<DivBackward0>)\n",
            "Erro: tensor(0.0041, device='cuda:0', grad_fn=<DivBackward0>)\n",
            "Erro: tensor(0.0042, device='cuda:0', grad_fn=<DivBackward0>)\n",
            "Erro: tensor(0.0042, device='cuda:0', grad_fn=<DivBackward0>)\n",
            "Erro: tensor(0.0035, device='cuda:0', grad_fn=<DivBackward0>)\n",
            "Erro: tensor(0.0035, device='cuda:0', grad_fn=<DivBackward0>)\n",
            "Erro: tensor(0.0033, device='cuda:0', grad_fn=<DivBackward0>)\n",
            "Erro: tensor(0.0046, device='cuda:0', grad_fn=<DivBackward0>)\n",
            "Erro: tensor(0.0048, device='cuda:0', grad_fn=<DivBackward0>)\n",
            "Erro: tensor(0.0035, device='cuda:0', grad_fn=<DivBackward0>)\n",
            "Erro: tensor(0.0036, device='cuda:0', grad_fn=<DivBackward0>)\n",
            "Erro: tensor(0.0035, device='cuda:0', grad_fn=<DivBackward0>)\n",
            "Erro: tensor(0.0033, device='cuda:0', grad_fn=<DivBackward0>)\n",
            "Erro: tensor(0.0042, device='cuda:0', grad_fn=<DivBackward0>)\n",
            "Erro: tensor(0.0042, device='cuda:0', grad_fn=<DivBackward0>)\n",
            "Erro: tensor(0.0034, device='cuda:0', grad_fn=<DivBackward0>)\n",
            "Erro: tensor(0.0042, device='cuda:0', grad_fn=<DivBackward0>)\n",
            "Erro: tensor(0.0037, device='cuda:0', grad_fn=<DivBackward0>)\n",
            "Erro: tensor(0.0050, device='cuda:0', grad_fn=<DivBackward0>)\n",
            "Erro: tensor(0.0036, device='cuda:0', grad_fn=<DivBackward0>)\n",
            "Erro: tensor(0.0034, device='cuda:0', grad_fn=<DivBackward0>)\n",
            "Erro: tensor(0.0044, device='cuda:0', grad_fn=<DivBackward0>)\n",
            "Erro: tensor(0.0042, device='cuda:0', grad_fn=<DivBackward0>)\n",
            "Erro: tensor(0.0033, device='cuda:0', grad_fn=<DivBackward0>)\n",
            "Erro: tensor(0.0034, device='cuda:0', grad_fn=<DivBackward0>)\n",
            "Erro: tensor(0.0035, device='cuda:0', grad_fn=<DivBackward0>)\n",
            "Erro: tensor(0.0034, device='cuda:0', grad_fn=<DivBackward0>)\n",
            "Erro: tensor(0.0043, device='cuda:0', grad_fn=<DivBackward0>)\n",
            "Erro: tensor(0.0036, device='cuda:0', grad_fn=<DivBackward0>)\n",
            "Erro: tensor(0.0032, device='cuda:0', grad_fn=<DivBackward0>)\n",
            "Erro: tensor(0.0031, device='cuda:0', grad_fn=<DivBackward0>)\n",
            "Erro: tensor(0.0038, device='cuda:0', grad_fn=<DivBackward0>)\n",
            "Erro: tensor(0.0039, device='cuda:0', grad_fn=<DivBackward0>)\n",
            "Erro: tensor(0.0035, device='cuda:0', grad_fn=<DivBackward0>)\n",
            "Erro: tensor(0.0037, device='cuda:0', grad_fn=<DivBackward0>)\n",
            "Erro: tensor(0.0035, device='cuda:0', grad_fn=<DivBackward0>)\n",
            "Erro: tensor(0.0036, device='cuda:0', grad_fn=<DivBackward0>)\n",
            "Erro: tensor(0.0031, device='cuda:0', grad_fn=<DivBackward0>)\n",
            "Erro: tensor(0.0030, device='cuda:0', grad_fn=<DivBackward0>)\n",
            "Erro: tensor(0.0030, device='cuda:0', grad_fn=<DivBackward0>)\n",
            "Erro: tensor(0.0032, device='cuda:0', grad_fn=<DivBackward0>)\n",
            "Erro: tensor(0.0037, device='cuda:0', grad_fn=<DivBackward0>)\n",
            "CPU times: user 2min 25s, sys: 928 ms, total: 2min 26s\n",
            "Wall time: 2min 33s\n"
          ]
        }
      ],
      "source": [
        "%%time\n",
        "\n",
        "# Loop through the number of epochs for training\n",
        "for epoch in range(num_epochs):\n",
        "\n",
        "    # Enumerates each dataloader batch\n",
        "    for step, batch in enumerate(dl_docs):\n",
        "\n",
        "        # Moves inputs and attention masks to the device\n",
        "        inputs, attention_mask = batch['input_ids'].to(device), batch['attention_mask'].to(device)\n",
        "\n",
        "        # Passage to the front of the model to get the exits\n",
        "        outputs = model(inputs, attention_mask = attention_mask, labels = inputs)\n",
        "\n",
        "        # Extracts loss from outputs\n",
        "        loss = outputs.loss\n",
        "\n",
        "        # Normalizes the loss along the gradient_accumulation_steps\n",
        "        loss = loss / gradient_accumulation_steps\n",
        "\n",
        "        print(\"Erro:\", loss)\n",
        "\n",
        "        loss.backward()\n",
        "\n",
        "        # Update the weights\n",
        "        if (step + 1) % gradient_accumulation_steps == 0 or step == len(dl_docs) - 1:\n",
        "\n",
        "            # optimization\n",
        "            optimizer.step()\n",
        "\n",
        "\n",
        "            optimizer.zero_grad()"
      ]
    },
    {
      "cell_type": "code",
      "execution_count": 32,
      "metadata": {
        "id": "J1rF2bBmMjfV",
        "colab": {
          "base_uri": "https://localhost:8080/"
        },
        "outputId": "cc4032fb-b181-443a-8bd1-23c3e0bbe9ef"
      },
      "outputs": [
        {
          "output_type": "execute_result",
          "data": {
            "text/plain": [
              "('ia_bert_tokenizer/tokenizer_config.json',\n",
              " 'ia_bert_tokenizer/special_tokens_map.json',\n",
              " 'ia_bert_tokenizer/vocab.txt',\n",
              " 'ia_bert_tokenizer/added_tokens.json',\n",
              " 'ia_bert_tokenizer/tokenizer.json')"
            ]
          },
          "metadata": {},
          "execution_count": 32
        }
      ],
      "source": [
        "# Saving\n",
        "model.save_pretrained(\"ia_bert_model\")\n",
        "tokenizer.save_pretrained(\"ia_bert_tokenizer\")"
      ]
    },
    {
      "cell_type": "markdown",
      "metadata": {
        "id": "0dW6ZFnEj7sr"
      },
      "source": [
        "\n",
        "\n",
        "## Predict"
      ]
    },
    {
      "cell_type": "markdown",
      "source": [
        "#### custom tokenizer\n"
      ],
      "metadata": {
        "id": "nJdWEpIVeHxz"
      }
    },
    {
      "cell_type": "code",
      "execution_count": 34,
      "metadata": {
        "id": "fVA1EzdHMjfV"
      },
      "outputs": [],
      "source": [
        "tokenizer_dsa = AutoTokenizer.from_pretrained(\"ia_bert_tokenizer\")"
      ]
    },
    {
      "cell_type": "code",
      "execution_count": 36,
      "metadata": {
        "id": "x85IjA2KMjfV"
      },
      "outputs": [],
      "source": [
        "model_dsa = AutoModelForMaskedLM.from_pretrained(\"ia_bert_model\")"
      ]
    },
    {
      "cell_type": "code",
      "execution_count": 37,
      "metadata": {
        "id": "rU91yAEqMjfV"
      },
      "outputs": [],
      "source": [
        "# model to device\n",
        "device = torch.device('cuda') if torch.cuda.is_available() else torch.device('cpu')\n",
        "model_dsa = model_dsa.to(device)"
      ]
    },
    {
      "cell_type": "markdown",
      "source": [
        "### checking if the model can predict the words"
      ],
      "metadata": {
        "id": "Jgb4zaRIgKTU"
      }
    },
    {
      "cell_type": "code",
      "execution_count": 77,
      "metadata": {
        "id": "WhDurm-zogZV"
      },
      "outputs": [],
      "source": [
        "#NEW DATA\n",
        "texto = \"In law, a trial is a coming together of parties to a dispute, to present information in a tribunal\""
      ]
    },
    {
      "cell_type": "code",
      "execution_count": 46,
      "metadata": {
        "id": "LuF7VX7BMjfV"
      },
      "outputs": [],
      "source": [
        "\n",
        "texto_tokenizado = tokenizer_dsa(texto, return_tensors = 'pt')"
      ]
    },
    {
      "cell_type": "code",
      "execution_count": 47,
      "metadata": {
        "id": "yDsiT9Kamsk3",
        "colab": {
          "base_uri": "https://localhost:8080/"
        },
        "outputId": "da477427-23bd-4ee0-c3e1-146db4bbc7bc"
      },
      "outputs": [
        {
          "output_type": "execute_result",
          "data": {
            "text/plain": [
              "{'input_ids': tensor([[  101,  1999,  2375,  1010,  1037,  3979,  2003,  1037,  2746,  2362,\n",
              "          1997,  4243,  2000,  1037,  7593,  1010,  2000,  2556,  2592,  1999,\n",
              "          1037, 12152,   102]]), 'token_type_ids': tensor([[0, 0, 0, 0, 0, 0, 0, 0, 0, 0, 0, 0, 0, 0, 0, 0, 0, 0, 0, 0, 0, 0, 0]]), 'attention_mask': tensor([[1, 1, 1, 1, 1, 1, 1, 1, 1, 1, 1, 1, 1, 1, 1, 1, 1, 1, 1, 1, 1, 1, 1]])}"
            ]
          },
          "metadata": {},
          "execution_count": 47
        }
      ],
      "source": [
        "texto_tokenizado"
      ]
    },
    {
      "cell_type": "code",
      "execution_count": 70,
      "metadata": {
        "id": "uvHu6NS7MjfV"
      },
      "outputs": [],
      "source": [
        "texto_tokenizado = texto_tokenizado.to(device)"
      ]
    },
    {
      "cell_type": "code",
      "execution_count": 49,
      "metadata": {
        "id": "K66LXKBDMjfW"
      },
      "outputs": [],
      "source": [
        "# predict\n",
        "with torch.no_grad():\n",
        "    output = model(**texto_tokenizado)"
      ]
    },
    {
      "cell_type": "code",
      "execution_count": 52,
      "metadata": {
        "id": "SutNy5kamc1y",
        "colab": {
          "base_uri": "https://localhost:8080/"
        },
        "outputId": "792c8bea-e184-4c7a-e8f7-0d485e1509a7"
      },
      "outputs": [
        {
          "output_type": "execute_result",
          "data": {
            "text/plain": [
              "MaskedLMOutput(loss=None, logits=tensor([[[  5.0513,  -3.4150,  -3.3520,  ...,  -3.1506,  -5.8751,  -3.2925],\n",
              "         [ -6.6862, -10.9693, -11.4006,  ..., -10.7455, -12.0321, -13.3961],\n",
              "         [  1.4822,  -4.5520,  -4.7655,  ...,  -5.0719,  -5.6323,  -5.7723],\n",
              "         ...,\n",
              "         [ -2.8708,  -7.6943,  -7.7677,  ...,  -8.2252,  -7.4922,  -5.8579],\n",
              "         [ 12.2133,   4.7825,   4.2225,  ...,   2.2323,   1.3759,   3.2667],\n",
              "         [ -8.1690, -10.1962, -10.5770,  ...,  -8.1967,  -8.9926,  -9.2241]]],\n",
              "       device='cuda:0'), hidden_states=None, attentions=None)"
            ]
          },
          "metadata": {},
          "execution_count": 52
        }
      ],
      "source": [
        "output"
      ]
    },
    {
      "cell_type": "code",
      "execution_count": 53,
      "metadata": {
        "id": "q7MFFW1bMjfW"
      },
      "outputs": [],
      "source": [
        "# trad. output\n",
        "predicted_token_ids = torch.argmax(output.logits, dim = -1)"
      ]
    },
    {
      "cell_type": "markdown",
      "source": [
        "\n",
        "argmax == takes the largest value"
      ],
      "metadata": {
        "id": "foBtuSSkg0YK"
      }
    },
    {
      "cell_type": "code",
      "execution_count": 54,
      "metadata": {
        "id": "RtCrsR-1mHgE",
        "colab": {
          "base_uri": "https://localhost:8080/"
        },
        "outputId": "988c279e-7d29-4460-ea9e-3b3c8edb369b"
      },
      "outputs": [
        {
          "output_type": "execute_result",
          "data": {
            "text/plain": [
              "tensor([[  101,  1999,  2375,  1010,  1037,  3979,  2003,  1037,  2746,  2362,\n",
              "          1997,  4243,  2000,  1037,  7593,  1010,  2000,  2556,  2592,  1999,\n",
              "          1037, 12152,  1012]], device='cuda:0')"
            ]
          },
          "metadata": {},
          "execution_count": 54
        }
      ],
      "source": [
        "# Token ids\n",
        "predicted_token_ids"
      ]
    },
    {
      "cell_type": "code",
      "execution_count": 55,
      "metadata": {
        "id": "Wo74MmS8MjfW"
      },
      "outputs": [],
      "source": [
        "# Decode\n",
        "predicted_tokens = tokenizer.convert_ids_to_tokens(predicted_token_ids[0])"
      ]
    },
    {
      "cell_type": "code",
      "execution_count": 56,
      "metadata": {
        "id": "twsAQtu6mPMj",
        "colab": {
          "base_uri": "https://localhost:8080/"
        },
        "outputId": "14dc854b-957f-44dc-dc76-2cf328906e70"
      },
      "outputs": [
        {
          "output_type": "execute_result",
          "data": {
            "text/plain": [
              "['[CLS]',\n",
              " 'in',\n",
              " 'law',\n",
              " ',',\n",
              " 'a',\n",
              " 'trial',\n",
              " 'is',\n",
              " 'a',\n",
              " 'coming',\n",
              " 'together',\n",
              " 'of',\n",
              " 'parties',\n",
              " 'to',\n",
              " 'a',\n",
              " 'dispute',\n",
              " ',',\n",
              " 'to',\n",
              " 'present',\n",
              " 'information',\n",
              " 'in',\n",
              " 'a',\n",
              " 'tribunal',\n",
              " '.']"
            ]
          },
          "metadata": {},
          "execution_count": 56
        }
      ],
      "source": [
        "# Tokens previstos\n",
        "predicted_tokens"
      ]
    },
    {
      "cell_type": "code",
      "execution_count": 57,
      "metadata": {
        "id": "h1RX1_8KO_LS",
        "colab": {
          "base_uri": "https://localhost:8080/"
        },
        "outputId": "415dc760-08b8-4a4e-a333-8c69e87b58e4"
      },
      "outputs": [
        {
          "output_type": "stream",
          "name": "stdout",
          "text": [
            "['[CLS]', 'in', 'law', ',', 'a', 'trial', 'is', 'a', 'coming', 'together', 'of', 'parties', 'to', 'a', 'dispute', ',', 'to', 'present', 'information', 'in', 'a', 'tribunal', '.']\n"
          ]
        }
      ],
      "source": [
        "print(predicted_tokens)"
      ]
    },
    {
      "cell_type": "markdown",
      "metadata": {
        "id": "6j6ZyM3nOo8o"
      },
      "source": [
        "## Predict missing"
      ]
    },
    {
      "cell_type": "markdown",
      "metadata": {
        "id": "Ef2wrfysTjXD"
      },
      "source": [
        "\n",
        "\n",
        "*   https://huggingface.co/docs/transformers/main_classes/pipelines\n",
        "\n",
        "\n"
      ]
    },
    {
      "cell_type": "code",
      "execution_count": 59,
      "metadata": {
        "id": "pdyjGNesrGZT"
      },
      "outputs": [],
      "source": [
        "# text = \"In law, a trial is a coming together of parties to a dispute, to present information in a tribunal\"\n",
        "texto = \"In law, a trial is a coming together of parties to a [MASK], to present information in a tribunal\""
      ]
    },
    {
      "cell_type": "code",
      "execution_count": 60,
      "metadata": {
        "id": "52yfU_mVq9jY"
      },
      "outputs": [],
      "source": [
        "#pipeline\n",
        "unmasker_pipeline = pipeline('fill-mask', model = model_dsa, tokenizer = tokenizer_dsa, device = 0)"
      ]
    },
    {
      "cell_type": "code",
      "execution_count": 61,
      "metadata": {
        "id": "eLzG35d_q9nm",
        "colab": {
          "base_uri": "https://localhost:8080/"
        },
        "outputId": "60c4cac1-59f8-4267-842f-b71d085c3117"
      },
      "outputs": [
        {
          "output_type": "execute_result",
          "data": {
            "text/plain": [
              "[{'score': 0.37123581767082214,\n",
              "  'token': 0,\n",
              "  'token_str': '[PAD]',\n",
              "  'sequence': 'in law, a trial is a coming together of parties to a, to present information in a tribunal'},\n",
              " {'score': 0.10854265093803406,\n",
              "  'token': 7593,\n",
              "  'token_str': 'dispute',\n",
              "  'sequence': 'in law, a trial is a coming together of parties to a dispute, to present information in a tribunal'},\n",
              " {'score': 0.027915243059396744,\n",
              "  'token': 16077,\n",
              "  'token_str': 'covenant',\n",
              "  'sequence': 'in law, a trial is a coming together of parties to a covenant, to present information in a tribunal'},\n",
              " {'score': 0.026693519204854965,\n",
              "  'token': 3206,\n",
              "  'token_str': 'contract',\n",
              "  'sequence': 'in law, a trial is a coming together of parties to a contract, to present information in a tribunal'},\n",
              " {'score': 0.01868905872106552,\n",
              "  'token': 9870,\n",
              "  'token_str': 'lawsuit',\n",
              "  'sequence': 'in law, a trial is a coming together of parties to a lawsuit, to present information in a tribunal'}]"
            ]
          },
          "metadata": {},
          "execution_count": 61
        }
      ],
      "source": [
        "\n",
        "unmasker_pipeline(texto)"
      ]
    }
  ],
  "metadata": {
    "accelerator": "GPU",
    "colab": {
      "gpuType": "V100",
      "provenance": [],
      "collapsed_sections": [
        "YT3fpUDumxpG",
        "_JfrI3q5iw_k"
      ],
      "include_colab_link": true
    },
    "kernelspec": {
      "display_name": "Python 3",
      "name": "python3"
    },
    "language_info": {
      "codemirror_mode": {
        "name": "ipython",
        "version": 3
      },
      "file_extension": ".py",
      "mimetype": "text/x-python",
      "name": "python",
      "nbconvert_exporter": "python",
      "pygments_lexer": "ipython3",
      "version": "3.11.4"
    },
    "widgets": {
      "application/vnd.jupyter.widget-state+json": {
        "02db06d71be042329042c262c600f6f6": {
          "model_module": "@jupyter-widgets/controls",
          "model_name": "HBoxModel",
          "model_module_version": "1.5.0",
          "state": {
            "_dom_classes": [],
            "_model_module": "@jupyter-widgets/controls",
            "_model_module_version": "1.5.0",
            "_model_name": "HBoxModel",
            "_view_count": null,
            "_view_module": "@jupyter-widgets/controls",
            "_view_module_version": "1.5.0",
            "_view_name": "HBoxView",
            "box_style": "",
            "children": [
              "IPY_MODEL_fda454cb3f8e486d9c8bcff8065cc0de",
              "IPY_MODEL_7f077ac0afa548ac9879e3d79961adc4",
              "IPY_MODEL_0fdc62c0dd994bfc8f42b42e0229f27f"
            ],
            "layout": "IPY_MODEL_eb9ecd354fd1458488aed68bfb7e1dd7"
          }
        },
        "fda454cb3f8e486d9c8bcff8065cc0de": {
          "model_module": "@jupyter-widgets/controls",
          "model_name": "HTMLModel",
          "model_module_version": "1.5.0",
          "state": {
            "_dom_classes": [],
            "_model_module": "@jupyter-widgets/controls",
            "_model_module_version": "1.5.0",
            "_model_name": "HTMLModel",
            "_view_count": null,
            "_view_module": "@jupyter-widgets/controls",
            "_view_module_version": "1.5.0",
            "_view_name": "HTMLView",
            "description": "",
            "description_tooltip": null,
            "layout": "IPY_MODEL_fab6ac621fde4dd3b38ed8e0defc3316",
            "placeholder": "​",
            "style": "IPY_MODEL_345ca18543d040cd84b463dca281fa68",
            "value": "Map (num_proc=4): 100%"
          }
        },
        "7f077ac0afa548ac9879e3d79961adc4": {
          "model_module": "@jupyter-widgets/controls",
          "model_name": "FloatProgressModel",
          "model_module_version": "1.5.0",
          "state": {
            "_dom_classes": [],
            "_model_module": "@jupyter-widgets/controls",
            "_model_module_version": "1.5.0",
            "_model_name": "FloatProgressModel",
            "_view_count": null,
            "_view_module": "@jupyter-widgets/controls",
            "_view_module_version": "1.5.0",
            "_view_name": "ProgressView",
            "bar_style": "success",
            "description": "",
            "description_tooltip": null,
            "layout": "IPY_MODEL_b9b380a63f7c4ad19099c6119e456726",
            "max": 433,
            "min": 0,
            "orientation": "horizontal",
            "style": "IPY_MODEL_144d2be6b2ea4cbd8c92200c2e7db9a1",
            "value": 433
          }
        },
        "0fdc62c0dd994bfc8f42b42e0229f27f": {
          "model_module": "@jupyter-widgets/controls",
          "model_name": "HTMLModel",
          "model_module_version": "1.5.0",
          "state": {
            "_dom_classes": [],
            "_model_module": "@jupyter-widgets/controls",
            "_model_module_version": "1.5.0",
            "_model_name": "HTMLModel",
            "_view_count": null,
            "_view_module": "@jupyter-widgets/controls",
            "_view_module_version": "1.5.0",
            "_view_name": "HTMLView",
            "description": "",
            "description_tooltip": null,
            "layout": "IPY_MODEL_4e4af82fa71c4d118ffb3d1ad1220cad",
            "placeholder": "​",
            "style": "IPY_MODEL_d15679bc16df4b43b925bf02372101cf",
            "value": " 433/433 [00:00&lt;00:00, 524.00 examples/s]"
          }
        },
        "eb9ecd354fd1458488aed68bfb7e1dd7": {
          "model_module": "@jupyter-widgets/base",
          "model_name": "LayoutModel",
          "model_module_version": "1.2.0",
          "state": {
            "_model_module": "@jupyter-widgets/base",
            "_model_module_version": "1.2.0",
            "_model_name": "LayoutModel",
            "_view_count": null,
            "_view_module": "@jupyter-widgets/base",
            "_view_module_version": "1.2.0",
            "_view_name": "LayoutView",
            "align_content": null,
            "align_items": null,
            "align_self": null,
            "border": null,
            "bottom": null,
            "display": null,
            "flex": null,
            "flex_flow": null,
            "grid_area": null,
            "grid_auto_columns": null,
            "grid_auto_flow": null,
            "grid_auto_rows": null,
            "grid_column": null,
            "grid_gap": null,
            "grid_row": null,
            "grid_template_areas": null,
            "grid_template_columns": null,
            "grid_template_rows": null,
            "height": null,
            "justify_content": null,
            "justify_items": null,
            "left": null,
            "margin": null,
            "max_height": null,
            "max_width": null,
            "min_height": null,
            "min_width": null,
            "object_fit": null,
            "object_position": null,
            "order": null,
            "overflow": null,
            "overflow_x": null,
            "overflow_y": null,
            "padding": null,
            "right": null,
            "top": null,
            "visibility": null,
            "width": null
          }
        },
        "fab6ac621fde4dd3b38ed8e0defc3316": {
          "model_module": "@jupyter-widgets/base",
          "model_name": "LayoutModel",
          "model_module_version": "1.2.0",
          "state": {
            "_model_module": "@jupyter-widgets/base",
            "_model_module_version": "1.2.0",
            "_model_name": "LayoutModel",
            "_view_count": null,
            "_view_module": "@jupyter-widgets/base",
            "_view_module_version": "1.2.0",
            "_view_name": "LayoutView",
            "align_content": null,
            "align_items": null,
            "align_self": null,
            "border": null,
            "bottom": null,
            "display": null,
            "flex": null,
            "flex_flow": null,
            "grid_area": null,
            "grid_auto_columns": null,
            "grid_auto_flow": null,
            "grid_auto_rows": null,
            "grid_column": null,
            "grid_gap": null,
            "grid_row": null,
            "grid_template_areas": null,
            "grid_template_columns": null,
            "grid_template_rows": null,
            "height": null,
            "justify_content": null,
            "justify_items": null,
            "left": null,
            "margin": null,
            "max_height": null,
            "max_width": null,
            "min_height": null,
            "min_width": null,
            "object_fit": null,
            "object_position": null,
            "order": null,
            "overflow": null,
            "overflow_x": null,
            "overflow_y": null,
            "padding": null,
            "right": null,
            "top": null,
            "visibility": null,
            "width": null
          }
        },
        "345ca18543d040cd84b463dca281fa68": {
          "model_module": "@jupyter-widgets/controls",
          "model_name": "DescriptionStyleModel",
          "model_module_version": "1.5.0",
          "state": {
            "_model_module": "@jupyter-widgets/controls",
            "_model_module_version": "1.5.0",
            "_model_name": "DescriptionStyleModel",
            "_view_count": null,
            "_view_module": "@jupyter-widgets/base",
            "_view_module_version": "1.2.0",
            "_view_name": "StyleView",
            "description_width": ""
          }
        },
        "b9b380a63f7c4ad19099c6119e456726": {
          "model_module": "@jupyter-widgets/base",
          "model_name": "LayoutModel",
          "model_module_version": "1.2.0",
          "state": {
            "_model_module": "@jupyter-widgets/base",
            "_model_module_version": "1.2.0",
            "_model_name": "LayoutModel",
            "_view_count": null,
            "_view_module": "@jupyter-widgets/base",
            "_view_module_version": "1.2.0",
            "_view_name": "LayoutView",
            "align_content": null,
            "align_items": null,
            "align_self": null,
            "border": null,
            "bottom": null,
            "display": null,
            "flex": null,
            "flex_flow": null,
            "grid_area": null,
            "grid_auto_columns": null,
            "grid_auto_flow": null,
            "grid_auto_rows": null,
            "grid_column": null,
            "grid_gap": null,
            "grid_row": null,
            "grid_template_areas": null,
            "grid_template_columns": null,
            "grid_template_rows": null,
            "height": null,
            "justify_content": null,
            "justify_items": null,
            "left": null,
            "margin": null,
            "max_height": null,
            "max_width": null,
            "min_height": null,
            "min_width": null,
            "object_fit": null,
            "object_position": null,
            "order": null,
            "overflow": null,
            "overflow_x": null,
            "overflow_y": null,
            "padding": null,
            "right": null,
            "top": null,
            "visibility": null,
            "width": null
          }
        },
        "144d2be6b2ea4cbd8c92200c2e7db9a1": {
          "model_module": "@jupyter-widgets/controls",
          "model_name": "ProgressStyleModel",
          "model_module_version": "1.5.0",
          "state": {
            "_model_module": "@jupyter-widgets/controls",
            "_model_module_version": "1.5.0",
            "_model_name": "ProgressStyleModel",
            "_view_count": null,
            "_view_module": "@jupyter-widgets/base",
            "_view_module_version": "1.2.0",
            "_view_name": "StyleView",
            "bar_color": null,
            "description_width": ""
          }
        },
        "4e4af82fa71c4d118ffb3d1ad1220cad": {
          "model_module": "@jupyter-widgets/base",
          "model_name": "LayoutModel",
          "model_module_version": "1.2.0",
          "state": {
            "_model_module": "@jupyter-widgets/base",
            "_model_module_version": "1.2.0",
            "_model_name": "LayoutModel",
            "_view_count": null,
            "_view_module": "@jupyter-widgets/base",
            "_view_module_version": "1.2.0",
            "_view_name": "LayoutView",
            "align_content": null,
            "align_items": null,
            "align_self": null,
            "border": null,
            "bottom": null,
            "display": null,
            "flex": null,
            "flex_flow": null,
            "grid_area": null,
            "grid_auto_columns": null,
            "grid_auto_flow": null,
            "grid_auto_rows": null,
            "grid_column": null,
            "grid_gap": null,
            "grid_row": null,
            "grid_template_areas": null,
            "grid_template_columns": null,
            "grid_template_rows": null,
            "height": null,
            "justify_content": null,
            "justify_items": null,
            "left": null,
            "margin": null,
            "max_height": null,
            "max_width": null,
            "min_height": null,
            "min_width": null,
            "object_fit": null,
            "object_position": null,
            "order": null,
            "overflow": null,
            "overflow_x": null,
            "overflow_y": null,
            "padding": null,
            "right": null,
            "top": null,
            "visibility": null,
            "width": null
          }
        },
        "d15679bc16df4b43b925bf02372101cf": {
          "model_module": "@jupyter-widgets/controls",
          "model_name": "DescriptionStyleModel",
          "model_module_version": "1.5.0",
          "state": {
            "_model_module": "@jupyter-widgets/controls",
            "_model_module_version": "1.5.0",
            "_model_name": "DescriptionStyleModel",
            "_view_count": null,
            "_view_module": "@jupyter-widgets/base",
            "_view_module_version": "1.2.0",
            "_view_name": "StyleView",
            "description_width": ""
          }
        }
      }
    }
  },
  "nbformat": 4,
  "nbformat_minor": 0
}